{
 "cells": [
  {
   "cell_type": "markdown",
   "id": "65e1b9bc-0458-4545-a504-cdb9e99919ac",
   "metadata": {
    "collapsed": true,
    "jupyter": {
     "outputs_hidden": true
    }
   },
   "source": [
    "# Virtual screening"
   ]
  },
  {
   "cell_type": "markdown",
   "id": "41c4c827-7387-4077-b924-1efc467addf4",
   "metadata": {},
   "source": [
    "Ligand-based virtual screening (LBVS) involves predicting bioactivity of large collections of compounds. It involves multiple steps, which are quite easy to perform with scikit-fingerprints.\n",
    "\n",
    "Notebook inspired by [Tutorial for the Teach-Discover-Treat (TDT) Competition 2014](https://github.com/sriniker/TDT-tutorial-2014/tree/master) by Sereina Riniker and Gregory Landrum.\n",
    "\n",
    "First, we will load the Malaria HTS dataset from the above competition. It was created in a series of high-throughput screening (HTS) campaigns from around 2010-2012. It contains an already binarized bioactivity labels.\n",
    "\n",
    "For shorter calculations in this tutorial, we will subsample the negative class to 100 thousand samples."
   ]
  },
  {
   "metadata": {
    "ExecuteTime": {
     "end_time": "2025-09-01T13:00:16.174198Z",
     "start_time": "2025-09-01T13:00:16.030129Z"
    }
   },
   "cell_type": "code",
   "source": [
    "import pandas as pd\n",
    "import numpy as np\n",
    "\n",
    "# load malaria dataset\n",
    "df = pd.read_parquet(\"data/malaria_hts_train.parquet\")\n",
    "\n",
    "# Remove ambiguous labels\n",
    "df = df[df[\"label\"] != \"ambiguous\"]\n",
    "\n",
    "# map labels to binary\n",
    "df[\"label\"] = df[\"label\"].map({\"false\": 0, \"true\": 1})\n",
    "\n",
    "# Extract data into smiles and labels\n",
    "smiles_list = df[\"SMILES\"].values\n",
    "labels = df[\"label\"].values\n",
    "\n",
    "# subsample\n",
    "pos_idx = np.where(labels == 1)[0]\n",
    "neg_idx = np.random.choice(np.where(labels == 0)[0], size=100_000, replace=False)\n",
    "idx = np.concatenate([pos_idx, neg_idx])\n",
    "smiles_list = smiles_list[idx].tolist()\n",
    "labels = labels[idx]\n",
    "\n",
    "print(f\"Positive samples: {len(pos_idx)}\")\n",
    "print(f\"Negative samples: {len(neg_idx)}\")\n",
    "print(f\"Shapes: SMILES list {len(smiles_list)}, labels {len(labels)}\")"
   ],
   "id": "4d5ad9214c50edb4",
   "outputs": [
    {
     "name": "stdout",
     "output_type": "stream",
     "text": [
      "Positive samples: 1528\n",
      "Negative samples: 100000\n",
      "Shapes: SMILES list 101528, labels 101528\n"
     ]
    }
   ],
   "execution_count": 30
  },
  {
   "metadata": {},
   "cell_type": "markdown",
   "source": [
    "**Exercise 1**\n",
    "\n",
    "This dataset contains some invalid molecules, e.g. breaking valence rules in modern RDKit. Use `MolFromSmilesTransformer`, and note that:\n",
    "- some molecules may error out, so use `valid_only` and `.transform_x_y()`\n",
    "- you can parallelize it with `n_jobs` and `batch_size` for efficiency, just like fingerprints.\n",
    "\n",
    "Use [documentation](https://scikit-fingerprints.readthedocs.io/latest/api_reference.html) if necessary."
   ],
   "id": "d97a9613ee1c3512"
  },
  {
<<<<<<< HEAD
   "cell_type": "code",
   "execution_count": 2,
   "id": "141063ec9a917a38",
=======
>>>>>>> origin/master
   "metadata": {
    "ExecuteTime": {
     "end_time": "2025-09-01T13:00:20.846501Z",
     "start_time": "2025-09-01T13:00:16.178204Z"
    }
   },
   "cell_type": "code",
   "source": [
    "# import MolFromSmilesTransformer\n",
    "from skfp.preprocessing import MolFromSmilesTransformer\n",
    "\n",
    "# Create MolFromSmilesTransformer\n",
    "mol_from_smiles = MolFromSmilesTransformer(\n",
    "    valid_only=True, n_jobs=-1, batch_size=1000, verbose=True\n",
    ")\n",
    "\n",
    "# Run the dataset transformation to create molecules and labels\n",
    "mols, labels = mol_from_smiles.transform_x_y(smiles_list, labels)\n",
    "\n",
    "print(f\"Removed molecules: {len(smiles_list) - len(mols)}\")"
   ],
   "id": "141063ec9a917a38",
   "outputs": [
    {
     "data": {
<<<<<<< HEAD
      "application/vnd.jupyter.widget-view+json": {
       "model_id": "9f9981e9374f471ba32aa2edaece356e",
       "version_major": 2,
       "version_minor": 0
      },
=======
>>>>>>> origin/master
      "text/plain": [
       "  0%|          | 0/101 [00:00<?, ?it/s]"
      ],
      "application/vnd.jupyter.widget-view+json": {
       "version_major": 2,
       "version_minor": 0,
       "model_id": "3903d9e4057a48c3a40225e04f3c84d6"
      }
     },
     "metadata": {},
     "output_type": "display_data"
    },
    {
     "name": "stdout",
     "output_type": "stream",
     "text": [
      "Removed molecules: 2\n"
     ]
    }
   ],
   "execution_count": 31
  },
  {
   "metadata": {},
   "cell_type": "markdown",
   "source": "---",
   "id": "f6412b32ab574aa"
  },
  {
   "cell_type": "markdown",
   "id": "9b7f68a9-8cfd-4069-bb87-f6f865b454ba",
   "metadata": {},
   "source": [
    "# Molecular Filters\n",
    "\n",
    "Typically, in LBVS we have huge collections of molecules. Many of those are highly reactive, promiscuous compounds, dyes, or contain toxic functional groups. Thus, we use **molecular filters** to remove them. They are sets of rules to remove unwanted compounds.\n",
    "\n",
    "They can be divided into 2 groups:\n",
    "\n",
    "1. **Physicochemical filters** - define allowed ranges of physicochemical descriptors (e.g. molecular weight, logP, HBA, HBD) and keep only molecules fulfilling those requirements. Examples include [Lipinski's rule of 5](https://scikit-fingerprints.readthedocs.io/latest/modules/generated/skfp.filters.LipinskiFilter.html#skfp.filters.LipinskiFilter) and [REOS](https://scikit-fingerprints.readthedocs.io/latest/modules/generated/skfp.filters.REOSFilter.html#skfp.filters.REOSFilter).\n",
    "\n",
    "2. **Substructural filters** - define unwanted substructures with SMARTS and keep only molecules that do not contain those patterns. Examples include [PAINS](https://scikit-fingerprints.readthedocs.io/latest/modules/generated/skfp.filters.PAINSFilter.html) and [Brenk filter](https://scikit-fingerprints.readthedocs.io/latest/modules/generated/skfp.filters.BrenkFilter.html).\n",
    "\n",
    "RDKit contains 10 substructural filters, but no physicochemical filters. Scikit-fingerprints implements 31 filters, 21 physicochemical and 10 substructural. API is based on [feature-engine](https://feature-engine.trainindata.com/en/latest/) and other scikit-learn compatible libraries for preprocessing data.\n",
    "\n",
    "Let's see an example for a substructural filter with RDKit."
   ]
  },
  {
<<<<<<< HEAD
   "cell_type": "code",
   "execution_count": 3,
   "id": "76d9ff63-5f14-4ad1-ae9d-e65991c7bba0",
   "metadata": {},
   "outputs": [
    {
     "name": "stderr",
     "output_type": "stream",
     "text": [
      "<frozen importlib._bootstrap>:488: RuntimeWarning: to-Python converter for boost::shared_ptr<RDKit::FilterHierarchyMatcher> already registered; second conversion method ignored.\n",
      "<frozen importlib._bootstrap>:488: RuntimeWarning: to-Python converter for boost::shared_ptr<RDKit::FilterCatalogEntry> already registered; second conversion method ignored.\n"
     ]
    },
    {
     "data": {
      "application/vnd.jupyter.widget-view+json": {
       "model_id": "ca89cbe89bb1449491a564d4e6c13619",
       "version_major": 2,
       "version_minor": 0
      },
      "text/plain": [
       "  0%|          | 0/101528 [00:00<?, ?it/s]"
      ]
     },
     "metadata": {},
     "output_type": "display_data"
=======
   "metadata": {
    "ExecuteTime": {
     "end_time": "2025-09-01T13:00:30.811692Z",
     "start_time": "2025-09-01T13:00:20.864869Z"
>>>>>>> origin/master
    }
   },
   "cell_type": "code",
   "source": [
    "from rdkit.Chem import FilterCatalog\n",
    "from rdkit.Chem.rdfiltercatalog import FilterCatalogParams\n",
    "from tqdm.notebook import tqdm\n",
    "\n",
    "filter_catalog_pains_a = FilterCatalogParams.FilterCatalogs.PAINS_A\n",
    "params = FilterCatalog.FilterCatalogParams()\n",
    "params.AddCatalog(filter_catalog_pains_a)\n",
    "filters = FilterCatalog.FilterCatalog(params)\n",
    "\n",
    "mols_filtered_rdkit = []\n",
    "labels_filtered_rdkit = []\n",
    "for mol, label in tqdm(zip(mols, labels), total=len(mols)):\n",
    "    matches = filters.GetMatches(mol)\n",
    "    if not matches:\n",
    "        mols_filtered_rdkit.append(mol)\n",
<<<<<<< HEAD
    "        labels_filtered_rdkit.append(label)\n"
   ]
  },
  {
   "cell_type": "markdown",
   "id": "81a76863-7855-4dc8-b524-3d1d79033e91",
   "metadata": {},
   "source": [
    "And with scikit-fingerprints:"
   ]
  },
  {
   "cell_type": "code",
   "execution_count": 4,
   "id": "946b802e-9a63-459f-ae18-8c47f9f479e2",
   "metadata": {
    "scrolled": true
   },
   "outputs": [
    {
     "data": {
      "application/vnd.jupyter.widget-view+json": {
       "model_id": "dbdc2064eb1d4dbba188c518f2934703",
       "version_major": 2,
       "version_minor": 0
      },
=======
    "        labels_filtered_rdkit.append(label)"
   ],
   "id": "d170c581b840ef01",
   "outputs": [
    {
     "data": {
>>>>>>> origin/master
      "text/plain": [
       "  0%|          | 0/101526 [00:00<?, ?it/s]"
      ],
      "application/vnd.jupyter.widget-view+json": {
       "version_major": 2,
       "version_minor": 0,
       "model_id": "e74d8258a8d3432e93554e4247bc91e9"
      }
     },
     "metadata": {},
     "output_type": "display_data"
    }
   ],
   "execution_count": 32
  },
  {
   "metadata": {},
   "cell_type": "markdown",
   "source": "And with scikit-fingerprints",
   "id": "a7099ee2745aa0ec"
  },
  {
   "metadata": {
    "ExecuteTime": {
     "end_time": "2025-09-01T13:00:33.677706Z",
     "start_time": "2025-09-01T13:00:30.828593Z"
    }
   },
   "cell_type": "code",
   "source": [
    "from skfp.filters import PAINSFilter\n",
    "\n",
    "filter_pains = PAINSFilter(variant=\"A\", n_jobs=-1, verbose=True)\n",
    "mols_filtered_skfp, labels_filtered_skfp = filter_pains.transform_x_y(mols, labels)"
<<<<<<< HEAD
   ]
  },
  {
   "cell_type": "markdown",
   "id": "a62c32c36a29a776",
=======
   ],
   "id": "90dc15fe1c1552a2",
   "outputs": [
    {
     "data": {
      "text/plain": [
       "  0%|          | 0/24 [00:00<?, ?it/s]"
      ],
      "application/vnd.jupyter.widget-view+json": {
       "version_major": 2,
       "version_minor": 0,
       "model_id": "505a76825a0047b0a23fe48eeb1628f4"
      }
     },
     "metadata": {},
     "output_type": "display_data"
    }
   ],
   "execution_count": 33
  },
  {
>>>>>>> origin/master
   "metadata": {},
   "cell_type": "markdown",
   "source": [
    "### Exercise 2\n",
    "\n",
    "Lipinski's rule of 5 is arguably the first and most famous molecular filters. It is a physicochemical filter, where a molecule can violate at most one of the rules:\n",
    "\n",
    "- molecular weight $\\leq 500$\n",
    "- hydrogen bond acceptors (HBA) $\\leq 10$\n",
    "- hydrogen bond donors (HBD) $\\leq 5$\n",
    "- logP $\\leq 5$\n",
    "\n",
    "Implement the Lipinski's rule using RDKit and `for` loop, and filter molecules. Remember to also filter labels for consistency! Relevant RDKit descriptors are in [rdkit.Chem.Descriptors](https://www.rdkit.org/docs/source/rdkit.Chem.Descriptors.html), [rdkit.Chem.rdMolDescriptors](https://www.rdkit.org/docs/source/rdkit.Chem.rdMolDescriptors.html), and [rdkit.Chem.Crippen](https://www.rdkit.org/docs/source/rdkit.Chem.Crippen.html) modules.\n",
    "\n",
    "Then, use the [scikit-fingerprints LipinskiFilter](https://scikit-fingerprints.readthedocs.io/latest/modules/generated/skfp.filters.LipinskiFilter.html#skfp.filters.LipinskiFilter) and compare the two."
   ],
   "id": "182aacb24e37ec15"
  },
  {
<<<<<<< HEAD
   "cell_type": "code",
   "execution_count": null,
   "id": "95f48596-7cf9-4def-ab83-046b4676a799",
   "metadata": {},
   "outputs": [],
=======
   "metadata": {
    "ExecuteTime": {
     "end_time": "2025-09-01T13:00:56.514925Z",
     "start_time": "2025-09-01T13:00:33.691653Z"
    }
   },
   "cell_type": "code",
>>>>>>> origin/master
   "source": [
    "from rdkit.Chem.Crippen import MolLogP\n",
    "from rdkit.Chem.Descriptors import MolWt\n",
    "from rdkit.Chem.rdMolDescriptors import CalcNumLipinskiHBD, CalcNumLipinskiHBA\n",
    "\n",
    "mols_filtered_rdkit = []\n",
    "labels_filtered_rdkit = []\n",
    "for mol, label in tqdm(zip(mols, labels), total=len(mols)):\n",
    "    mol_weight = MolWt(mol)\n",
    "    hba = CalcNumLipinskiHBA(mol)\n",
    "    hbd = CalcNumLipinskiHBD(mol)\n",
    "    logp = MolLogP(mol)\n",
    "\n",
    "    if mol_weight <= 500 and hba <= 10 and hbd <= 5 and logp <= 5:\n",
    "        mols_filtered_rdkit.append(mol)\n",
    "        labels_filtered_rdkit.append(label)\n"
<<<<<<< HEAD
   ]
  },
  {
   "cell_type": "code",
   "execution_count": null,
   "id": "63ff9ae71bcc16a3",
   "metadata": {
    "ExecuteTime": {
     "end_time": "2025-08-30T11:29:59.977884Z",
     "start_time": "2025-08-30T11:29:56.259654Z"
    },
    "scrolled": true
   },
   "outputs": [],
=======
   ],
   "id": "9982278ea0bc6d95",
   "outputs": [
    {
     "data": {
      "text/plain": [
       "  0%|          | 0/101526 [00:00<?, ?it/s]"
      ],
      "application/vnd.jupyter.widget-view+json": {
       "version_major": 2,
       "version_minor": 0,
       "model_id": "ee033987c8744f379ee231d6144bbea6"
      }
     },
     "metadata": {},
     "output_type": "display_data"
    }
   ],
   "execution_count": 34
  },
  {
   "metadata": {
    "ExecuteTime": {
     "end_time": "2025-09-01T13:00:56.533645Z",
     "start_time": "2025-09-01T13:00:56.529644Z"
    }
   },
   "cell_type": "code",
   "source": [
    "print(f\"Original size     : {len(mols)}\")\n",
    "print(f\"Filtered size     : {len(mols_filtered_rdkit)}\")\n",
    "print(f\"Removed molecules : {len(mols) - len(mols_filtered_rdkit)}\")"
   ],
   "id": "62213cfdab9efd0c",
   "outputs": [
    {
     "name": "stdout",
     "output_type": "stream",
     "text": [
      "Original size     : 101526\n",
      "Filtered size     : 90744\n",
      "Removed molecules : 10782\n"
     ]
    }
   ],
   "execution_count": 35
  },
  {
   "metadata": {
    "scrolled": true,
    "ExecuteTime": {
     "end_time": "2025-09-01T13:01:00.197066Z",
     "start_time": "2025-09-01T13:00:56.546925Z"
    }
   },
   "cell_type": "code",
>>>>>>> origin/master
   "source": [
    "from skfp.filters import LipinskiFilter\n",
    "\n",
    "lipinski_filter = LipinskiFilter(n_jobs=-1, allow_one_violation=False)\n",
    "mols_filtered_skfp, labels_filtered_skfp = lipinski_filter.transform_x_y(mols, labels)"
   ],
   "id": "6e9fe220876c3461",
   "outputs": [],
   "execution_count": 36
  },
  {
   "metadata": {},
   "cell_type": "markdown",
   "source": "Display the how the number of molecules changes",
   "id": "4cad93d08e7e0a1c"
  },
  {
   "metadata": {
    "ExecuteTime": {
     "end_time": "2025-09-01T13:01:00.212886Z",
     "start_time": "2025-09-01T13:01:00.209782Z"
    }
   },
   "cell_type": "code",
   "source": [
    "print(f\"Original size     : {len(mols)}\")\n",
    "print(f\"Filtered size     : {len(mols_filtered_skfp)}\")\n",
    "print(f\"Removed molecules : {len(mols) - len(labels_filtered_skfp)}\")"
   ],
   "id": "306270bc10edf227",
   "outputs": [
    {
     "name": "stdout",
     "output_type": "stream",
     "text": [
      "Original size     : 101526\n",
      "Filtered size     : 90744\n",
      "Removed molecules : 10782\n"
     ]
    }
   ],
   "execution_count": 37
  },
  {
   "metadata": {},
   "cell_type": "markdown",
   "source": [
    "**Exercise 3**\n",
    "\n",
    "Scikit-learn `Pipeline` does not support `.transform_x_y()`, so in order to use multiple filters, we need to apply them one after another. A common example is using multiple PAINS sets A, B, C.\n",
    "\n",
    "Create a list of filters `PAINSFilter` with different variants A, B and C. Apply filtering on molecules and labels with all three filters one after another.\n",
    "\n",
    "Save final results in variables `mols_filtered` and `labels_filtered`, which we will use in the rest of the notebook."
   ],
   "id": "6803bb78e46281c4"
  },
  {
<<<<<<< HEAD
   "cell_type": "code",
   "execution_count": null,
   "id": "f10844ef7fa56595",
=======
>>>>>>> origin/master
   "metadata": {
    "ExecuteTime": {
     "end_time": "2025-09-01T13:01:00.230097Z",
     "start_time": "2025-09-01T13:01:00.227489Z"
    }
   },
<<<<<<< HEAD
   "outputs": [],
=======
   "cell_type": "code",
   "source": [
    "n_active = labels.sum()\n",
    "n_inactive = len(labels) - n_active\n",
    "\n",
    "print(f\"Molecules before filtering: {len(mols)}\")\n",
    "print(f\"Inactive molecules: {n_inactive}\")\n",
    "print(f\"Active molecules: {n_active}\")"
   ],
   "id": "fe1e34daaad43426",
   "outputs": [
    {
     "name": "stdout",
     "output_type": "stream",
     "text": [
      "Molecules before filtering: 101526\n",
      "Inactive molecules: 99998\n",
      "Active molecules: 1528\n"
     ]
    }
   ],
   "execution_count": 38
  },
  {
   "metadata": {
    "ExecuteTime": {
     "end_time": "2025-09-01T13:01:28.743102Z",
     "start_time": "2025-09-01T13:01:00.243324Z"
    }
   },
   "cell_type": "code",
>>>>>>> origin/master
   "source": [
    "from skfp.filters import PAINSFilter\n",
    "\n",
    "pains_filters = [\n",
    "    PAINSFilter(variant=\"A\", n_jobs=-1),\n",
    "    PAINSFilter(variant=\"B\", n_jobs=-1),\n",
    "    PAINSFilter(variant=\"C\", n_jobs=-1),\n",
    "]\n",
    "\n",
    "mols_filtered = mols\n",
    "labels_filtered = labels\n",
    "\n",
    "for pains_filter_variant in pains_filters:\n",
    "    mols_filtered, labels_filtered = pains_filter_variant.transform_x_y(\n",
    "        mols_filtered, labels_filtered\n",
    "    )"
   ],
   "id": "f10844ef7fa56595",
   "outputs": [],
   "execution_count": 39
  },
  {
<<<<<<< HEAD
   "cell_type": "markdown",
   "id": "cb2ef35e-d178-4c60-8ed5-5f220cab8d82",
   "metadata": {},
   "source": [
    "Let's check how many molecules we have after filtering:"
   ]
  },
  {
   "cell_type": "code",
   "execution_count": null,
   "id": "9c40f323c65b4d29",
=======
>>>>>>> origin/master
   "metadata": {
    "ExecuteTime": {
     "end_time": "2025-09-01T13:01:28.763036Z",
     "start_time": "2025-09-01T13:01:28.759532Z"
    }
   },
<<<<<<< HEAD
   "outputs": [],
=======
   "cell_type": "code",
>>>>>>> origin/master
   "source": [
    "n_active = labels_filtered.sum()\n",
    "n_inactive = len(labels_filtered) - n_active\n",
    "\n",
    "print(f\"Number of molecules: before {len(mols)}, after {len(mols_filtered)}\")\n",
    "print(f\"Inactive molecules: {n_inactive}\")\n",
    "print(f\"Active molecules: {n_active}\")"
   ],
   "id": "9c40f323c65b4d29",
   "outputs": [
    {
     "name": "stdout",
     "output_type": "stream",
     "text": [
      "Number of molecules: before 101526, after 94315\n",
      "Inactive molecules: 93100\n",
      "Active molecules: 1215\n"
     ]
    }
   ],
   "execution_count": 40
  },
  {
   "metadata": {},
   "cell_type": "markdown",
   "source": [
    "### All filters\n",
    "\n",
    "Here you can find all filters currently available in scikit-fingerprints"
   ],
   "id": "fd30d339343e20cd"
  },
  {
   "metadata": {
    "ExecuteTime": {
     "end_time": "2025-09-01T13:01:28.776515Z",
     "start_time": "2025-09-01T13:01:28.773872Z"
    }
   },
   "cell_type": "code",
   "source": [
    "# from skfp.filters import (\n",
    "#     BeyondRo5Filter,\n",
    "#     BMSFilter,\n",
    "#     BrenkFilter,\n",
    "#     FAF4DruglikeFilter,\n",
    "#     FAF4LeadlikeFilter,\n",
    "#     GhoseFilter,\n",
    "#     GlaxoFilter,\n",
    "#     GSKFilter,\n",
    "#     HaoFilter,\n",
    "#     InpharmaticaFilter,\n",
    "#     LINTFilter,\n",
    "#     LipinskiFilter,\n",
    "#     MLSMRFilter,\n",
    "#     MolecularWeightFilter,\n",
    "#     NIBRFilter,\n",
    "#     NIHFilter,\n",
    "#     OpreaFilter,\n",
    "#     PAINSFilter,\n",
    "#     PfizerFilter,\n",
    "#     REOSFilter,\n",
    "#     RuleOfFourFilter,\n",
    "#     RuleOfThreeFilter,\n",
    "#     RuleOfTwoFilter,\n",
    "#     RuleOfVeberFilter,\n",
    "#     RuleOfXuFilter,\n",
    "#     SureChEMBLFilter,\n",
    "#     TiceHerbicidesFilter,\n",
    "#     TiceInsecticidesFilter,\n",
    "#     ValenceDiscoveryFilter,\n",
    "#     ZINCBasicFilter,\n",
    "#     ZINCDruglikeFilter,\n",
    "# )"
   ],
   "id": "fd0b95399d1bef68",
   "outputs": [],
   "execution_count": 41
  },
  {
   "metadata": {},
   "cell_type": "markdown",
   "source": "---",
   "id": "f8930341294665e7"
  },
  {
   "cell_type": "markdown",
   "id": "50a22cd1-253b-449f-85f4-137a9c9d6b55",
   "metadata": {},
   "source": [
    "## Data splits\n",
    "\n",
<<<<<<< HEAD
    "In previous notebook, we used predefined splits. For new datasets, we need to compute them explicitly. Doing this with RDKit or DeepChem requires quite a lot of boilerplate code. Let's see the scaffold split as the most popular example, computed with RDKit. Here, the test set consists of the least frequent scaffolds."
   ]
  },
  {
   "cell_type": "code",
   "execution_count": null,
   "id": "d06a073a3bcc0713",
=======
    "Before, we loaded pre-computed splits provided by benchmarks.\n",
    "\n",
    "Sometimes we want to compute our own splits. In this case, implementing them by ourselves can get messy.\n",
    "\n",
    "Take a look at MaxMin split computation without scikit-fingerprints."
   ]
  },
  {
>>>>>>> origin/master
   "metadata": {
    "ExecuteTime": {
     "end_time": "2025-09-01T13:02:23.330095Z",
     "start_time": "2025-09-01T13:01:28.817104Z"
    }
   },
   "cell_type": "code",
   "source": [
<<<<<<< HEAD
    "from copy import deepcopy\n",
    "from rdkit.Chem.Scaffolds import MurckoScaffold\n",
    "from rdkit import Chem\n",
    "from collections import defaultdict\n",
    "\n",
    "data_size = len(molecules)\n",
    "\n",
    "test_size = int(0.2 * data_size)\n",
    "train_size = data_size - test_size\n",
    "\n",
    "scaffold_sets = defaultdict(list)\n",
    "for idx, mol in enumerate(mols):\n",
    "    mol = deepcopy(mol)\n",
    "    Chem.RemoveStereochemistry(mol)\n",
    "    scaffold = MurckoScaffold.MurckoScaffoldSmiles(mol=mol)\n",
    "    scaffold_sets[scaffold].append(idx)\n",
    "\n",
    "# sort ascending by size of scaffold set\n",
    "scaffold_sets = list(scaffold_sets.values())\n",
    "scaffold_sets.sort(key=len)\n",
    "\n",
    "# assign the least frequent sets to test, rest to train\n",
    "train_idxs: list[int] = []\n",
    "test_idxs: list[int] = []\n",
    "for scaffold_set in scaffold_sets:\n",
    "    if len(test_idxs) < test_size:\n",
    "        test_idxs.extend(scaffold_set)\n",
    "    else:\n",
    "        train_idxs.extend(scaffold_set)\n",
    "\n",
    "mols_train = [mols[i] for i in train_idxs]\n",
    "mols_test = [mols[i] for i in test_idxs]\n",
    "\n",
    "y_train = labels[train_idxs]\n",
    "y_test = labels[test_idxs]"
   ]
  },
  {
   "cell_type": "code",
   "execution_count": null,
   "id": "a1297fa8b93419fd",
=======
    "# Without skfp\n",
    "from math import ceil\n",
    "from rdkit.SimDivFilters import MaxMinPicker\n",
    "from rdkit.Chem.rdFingerprintGenerator import GetMorganGenerator\n",
    "\n",
    "data_size = len(mols_filtered)\n",
    "\n",
    "# Compute sizes of the output dataset\n",
    "test_size = ceil(0.2 * data_size)\n",
    "train_size = data_size - test_size\n",
    "\n",
    "random_state = 42\n",
    "fps = GetMorganGenerator(radius=2, fpSize=2048).GetFingerprints(mols_filtered)\n",
    "\n",
    "picker = MaxMinPicker()\n",
    "test_idxs = picker.LazyBitVectorPick(\n",
    "    fps,\n",
    "    poolSize=data_size,\n",
    "    pickSize=test_size,\n",
    "    seed=random_state,\n",
    ")\n",
    "test_idxs = list(test_idxs)\n",
    "train_idxs = list(set(range(data_size)) - set(test_idxs))\n",
    "\n",
    "# Extract data\n",
    "mols_train_rdkit = [mols_filtered[i] for i in train_idxs]\n",
    "mols_test_rdkit = [mols_filtered[i] for i in test_idxs]\n",
    "\n",
    "labels_train = labels[train_idxs]\n",
    "labels_test = labels[test_idxs]"
   ],
   "id": "d06a073a3bcc0713",
   "outputs": [],
   "execution_count": 42
  },
  {
>>>>>>> origin/master
   "metadata": {
    "ExecuteTime": {
     "end_time": "2025-09-01T13:02:23.337775Z",
     "start_time": "2025-09-01T13:02:23.334099Z"
    }
   },
<<<<<<< HEAD
   "outputs": [],
   "source": [
    "len(mols_train), len(mols_test)"
   ]
=======
   "cell_type": "code",
   "source": "len(mols_train_rdkit), len(mols_test_rdkit)",
   "id": "a1297fa8b93419fd",
   "outputs": [
    {
     "data": {
      "text/plain": [
       "(75452, 18863)"
      ]
     },
     "execution_count": 43,
     "metadata": {},
     "output_type": "execute_result"
    }
   ],
   "execution_count": 43
>>>>>>> origin/master
  },
  {
   "metadata": {},
   "cell_type": "markdown",
   "source": [
    "**Exercise 4**\n",
    "\n",
    "Scikit-fingerprints implements [5 data splitting functions](https://scikit-fingerprints.readthedocs.io/latest/modules/model_selection.html), including train-test and train-valid-test splitters.\n",
    "\n",
<<<<<<< HEAD
    "Using scikit-fingerprints, implement:\n",
    "- scaffold splitting\n",
    "- MaxMin (maximum diverisity) splitting\n",
    "\n",
    "Use 80-20% train-test proportions. Remember to set `random_state=0` for MaxMin for deterministic results.\n",
    "\n",
    "Use variable names like `mols_train_scaffold`, `mols_test_scaffold`, `mols_train_maxmin` etc."
   ]
  },
  {
   "cell_type": "code",
   "execution_count": null,
   "id": "4b98b807744b9ab0",
=======
    "Lets split our original `molecules` and `labels` data into training, and testing dataset in 8:2 proportion.\n",
    "\n",
    "To do that use `maxmin_train_test_split` from `model_selection` submodule of `skfp`.\n",
    "\n",
    "You can find more information about how to use splits in `model_selection` section of [documentation](https://scikit-fingerprints.readthedocs.io/latest/api_reference.html)"
   ],
   "id": "327aeb1b9ec3468f"
  },
  {
>>>>>>> origin/master
   "metadata": {
    "ExecuteTime": {
     "end_time": "2025-09-01T13:03:17.399369Z",
     "start_time": "2025-09-01T13:02:23.360270Z"
    }
   },
   "cell_type": "code",
   "source": [
    "from skfp.model_selection import maxmin_train_test_split, scaffold_train_test_split\n",
    "\n",
<<<<<<< HEAD
    "\n",
    "mols_train_scaffold, mols_test_scaffold, y_train_scaffold, y_test_scaffold = scaffold_train_valid_test_split(\n",
    "    mols, labels, test_size=0.2\n",
    ")\n",
    "mols_train_maxmin, mols_test_maxmin, y_train_maxmin, y_test_maxmin = maxmin_train_test_split(\n",
    "    mols, labels, test_size=0.2, random_state=0\n",
=======
    "from skfp.model_selection import maxmin_train_test_split\n",
    "\n",
    "(\n",
    "    mols_train,\n",
    "    mols_test,\n",
    "    labels_train,\n",
    "    labels_test,\n",
    ") = maxmin_train_test_split(\n",
    "    mols_filtered, labels_filtered, train_size=0.8, test_size=0.2\n",
>>>>>>> origin/master
    ")"
   ],
   "id": "4b98b807744b9ab0",
   "outputs": [],
   "execution_count": 44
  },
  {
<<<<<<< HEAD
   "cell_type": "code",
   "execution_count": null,
   "id": "14099cee-e5e3-404b-8ae0-4642a3561c97",
   "metadata": {},
   "outputs": [],
   "source": []
=======
   "metadata": {},
   "cell_type": "markdown",
   "source": "Note that if we want to use validation set we can always import `maximn_train_valid_test_split` instead",
   "id": "2c71295bb7644ca4"
  },
  {
   "metadata": {
    "ExecuteTime": {
     "end_time": "2025-09-01T13:03:17.415259Z",
     "start_time": "2025-09-01T13:03:17.411254Z"
    }
   },
   "cell_type": "code",
   "source": "len(mols_train), len(mols_test)",
   "id": "5a5639592ff58cfc",
   "outputs": [
    {
     "data": {
      "text/plain": [
       "(75452, 18863)"
      ]
     },
     "execution_count": 45,
     "metadata": {},
     "output_type": "execute_result"
    }
   ],
   "execution_count": 45
  },
  {
   "metadata": {},
   "cell_type": "markdown",
   "source": "All splits available in skfp",
   "id": "e980466ee66e9979"
  },
  {
   "metadata": {
    "ExecuteTime": {
     "end_time": "2025-09-01T13:03:17.443090Z",
     "start_time": "2025-09-01T13:03:17.440683Z"
    }
   },
   "cell_type": "code",
   "source": [
    "# from skfp.model_selection import (\n",
    "#     butina_train_test_split,\n",
    "#     butina_train_valid_test_split,\n",
    "#     maxmin_train_test_split,\n",
    "#     maxmin_train_valid_test_split,\n",
    "#     randomized_scaffold_train_test_split,\n",
    "#     randomized_scaffold_train_valid_test_split,\n",
    "#     scaffold_train_test_split,\n",
    "#     scaffold_train_valid_test_split,\n",
    "# )"
   ],
   "id": "49c17a9d4f56ffb2",
   "outputs": [],
   "execution_count": 46
  },
  {
   "metadata": {},
   "cell_type": "markdown",
   "source": "---",
   "id": "114997cc7cc6c948"
>>>>>>> origin/master
  },
  {
   "cell_type": "markdown",
   "id": "7e52e746-75f0-479d-9cc6-b741fabf8cf2",
   "metadata": {},
   "source": [
    "## Similarity searching LBVS"
   ]
  },
  {
<<<<<<< HEAD
   "cell_type": "code",
   "execution_count": null,
   "id": "dce0e582-a890-4b52-a180-985ff7b313ae",
   "metadata": {},
   "outputs": [],
   "source": []
  },
  {
   "cell_type": "markdown",
   "id": "101bdd7eb9ddd9bc",
=======
>>>>>>> origin/master
   "metadata": {},
   "cell_type": "markdown",
   "source": [
    "Now that we have a training and testing dataset we can perform similarity search virtual screening. To do that, lets take a look at distances and similarities delivered by scikit-fingerprints. They can be used to determine how similar, or different, two molecules are to each other.\n",
    "\n",
    "scikit-fingerprints delivers both binary and count variants of similarity and distance computation functions.\n",
    "\n",
    "Lets try to compute similarity between two binary vectors using `tanimoto_binary_similarity`"
   ],
   "id": "101bdd7eb9ddd9bc"
  },
  {
   "metadata": {
    "ExecuteTime": {
     "end_time": "2025-09-01T13:03:17.447777Z",
     "start_time": "2025-09-01T13:03:17.445096Z"
    }
   },
   "cell_type": "code",
   "source": [
    "bit_vec_1 = np.array([1, 1, 0, 0])\n",
    "bit_vec_2 = np.array([0, 1, 1, 0])"
   ],
   "id": "2b7fa4b52ab88740",
   "outputs": [],
   "execution_count": 47
  },
  {
   "metadata": {
    "ExecuteTime": {
     "end_time": "2025-09-01T13:03:17.463590Z",
     "start_time": "2025-09-01T13:03:17.460824Z"
    }
   },
   "cell_type": "code",
   "source": [
    "from skfp.distances import tanimoto_binary_similarity\n",
    "\n",
    "binary_similarity = tanimoto_binary_similarity(bit_vec_1, bit_vec_2)\n",
    "print(f\"similarity of binary vectors: {binary_similarity}\")"
   ],
   "id": "8ebc434b8d4ec6b8",
   "outputs": [
    {
     "name": "stdout",
     "output_type": "stream",
     "text": [
      "similarity of binary vectors: 0.3333333333333333\n"
     ]
    }
   ],
   "execution_count": 48
  },
  {
   "metadata": {},
   "cell_type": "markdown",
   "source": "If we use count vectors we need to use `tanimoto_count_similarity`",
   "id": "790797660b14ec62"
  },
  {
   "metadata": {
    "ExecuteTime": {
     "end_time": "2025-09-01T13:03:17.478039Z",
     "start_time": "2025-09-01T13:03:17.475156Z"
    }
   },
   "cell_type": "code",
   "source": [
    "count_vec_1 = np.array([2, 3, 4, 0])\n",
    "count_vec_2 = np.array([2, 3, 4, 2])"
   ],
   "id": "ab8ee9d637cb3df9",
   "outputs": [],
   "execution_count": 49
  },
  {
   "metadata": {
    "ExecuteTime": {
     "end_time": "2025-09-01T13:03:17.507548Z",
     "start_time": "2025-09-01T13:03:17.504305Z"
    }
   },
   "cell_type": "code",
   "source": [
    "from skfp.distances import tanimoto_count_similarity\n",
    "\n",
    "count_similarity = tanimoto_count_similarity(bit_vec_1, bit_vec_2)\n",
    "print(f\"similarity of count vectors: {count_similarity}\")"
   ],
   "id": "30e70cc9e8fb2cff",
   "outputs": [
    {
     "name": "stdout",
     "output_type": "stream",
     "text": [
      "similarity of count vectors: 0.3333333333333333\n"
     ]
    }
   ],
   "execution_count": 50
  },
  {
   "metadata": {},
   "cell_type": "markdown",
   "source": [
    "We can also use bulk similarity computation to speed up very heavy computations between two sets of molecules.\n",
    "\n",
    "If in one set we have X molecules and Y molecules in the other set, finding distances or similarities between every pair between X and Y can be very slow. scikit-fingerpirnts implementation allows us to compute them efficiently"
   ],
   "id": "b0df559dab2e4033"
  },
  {
   "metadata": {
    "ExecuteTime": {
     "end_time": "2025-09-01T13:03:17.519561Z",
     "start_time": "2025-09-01T13:03:17.513553Z"
    }
   },
   "cell_type": "code",
   "source": [
    "from skfp.distances.tanimoto import (\n",
    "    bulk_tanimoto_binary_similarity\n",
    ")\n",
    "\n",
    "arr_1 = np.array(\n",
    "    [\n",
    "        [1, 1, 1],\n",
    "        [0, 0, 1],\n",
    "        [1, 1, 1],\n",
    "    ]\n",
    ")\n",
    "\n",
    "arr_2 = np.array(\n",
    "    [\n",
    "        [1, 0, 1],\n",
    "        [0, 1, 1],\n",
    "        [1, 1, 1],\n",
    "    ]\n",
    ")\n",
    "\n",
    "sim = bulk_tanimoto_binary_similarity(arr_1, arr_2)\n",
    "sim"
   ],
   "id": "5c48ab5fbe6cfd56",
   "outputs": [
    {
     "data": {
      "text/plain": [
       "array([[0.66666667, 0.66666667, 1.        ],\n",
       "       [0.5       , 0.5       , 0.33333333],\n",
       "       [0.66666667, 0.66666667, 1.        ]])"
      ]
     },
     "execution_count": 51,
     "metadata": {},
     "output_type": "execute_result"
    }
   ],
   "execution_count": 51
  },
  {
   "metadata": {},
   "cell_type": "markdown",
   "source": "Sometimes we want to compute similarity between every two molcules in a dataset. We can compute that by passing just one argument.",
   "id": "780bab6936d12f4e"
  },
  {
   "metadata": {
    "ExecuteTime": {
     "end_time": "2025-09-01T13:03:17.567467Z",
     "start_time": "2025-09-01T13:03:17.563432Z"
    }
   },
   "cell_type": "code",
   "source": [
    "X = np.array(\n",
    "    [\n",
    "        [1, 0, 1],\n",
    "        [0, 1, 1],\n",
    "        [1, 1, 1],\n",
    "    ]\n",
    ")\n",
    "\n",
    "sim = bulk_tanimoto_binary_similarity(X)\n",
    "sim"
   ],
   "id": "f75f6ae17d1737f",
   "outputs": [
    {
     "data": {
      "text/plain": [
       "array([[1.        , 0.33333333, 0.66666667],\n",
       "       [0.33333333, 1.        , 0.66666667],\n",
       "       [0.66666667, 0.66666667, 1.        ]])"
      ]
     },
     "execution_count": 52,
     "metadata": {},
     "output_type": "execute_result"
    }
   ],
   "execution_count": 52
  },
  {
   "metadata": {},
   "cell_type": "markdown",
   "source": [
    "### Performance\n",
    "\n",
    "Lets see the time difference between manual computation of distance matrix between all molecules in a small dataset of 300 molecules."
   ],
   "id": "d0e6ced2d200ff93"
  },
  {
   "metadata": {
    "ExecuteTime": {
     "end_time": "2025-09-01T13:03:18.157353Z",
     "start_time": "2025-09-01T13:03:17.630659Z"
    }
   },
   "cell_type": "code",
   "source": [
    "from skfp.fingerprints import ECFPFingerprint\n",
    "\n",
    "ecfp_fingerprint = ECFPFingerprint(count=True, n_jobs=-1, verbose=True)\n",
    "\n",
    "fps = ecfp_fingerprint.transform(mols_train[:300])"
   ],
   "id": "3a937361f6108570",
   "outputs": [
    {
     "data": {
      "text/plain": [
       "  0%|          | 0/25 [00:00<?, ?it/s]"
      ],
      "application/vnd.jupyter.widget-view+json": {
       "version_major": 2,
       "version_minor": 0,
       "model_id": "5d719cdad3fd492b99694c95d6f45896"
      }
     },
     "metadata": {},
     "output_type": "display_data"
    }
   ],
   "execution_count": 53
  },
  {
   "metadata": {},
   "cell_type": "markdown",
   "source": "Manual implementation",
   "id": "201e8b0e0526b305"
  },
  {
   "metadata": {
    "ExecuteTime": {
     "end_time": "2025-09-01T13:04:08.218364Z",
     "start_time": "2025-09-01T13:03:18.178247Z"
    }
   },
   "cell_type": "code",
   "source": "%timeit -r 3 -n 10 [tanimoto_count_similarity(fps[i], fps[j]) for i in range(len(fps)) for j in range(len(fps))]",
   "id": "5f23367ab7d0e260",
   "outputs": [
    {
     "name": "stdout",
     "output_type": "stream",
     "text": [
      "1.67 s ± 2.49 ms per loop (mean ± std. dev. of 3 runs, 10 loops each)\n"
     ]
    }
   ],
   "execution_count": 54
  },
  {
   "metadata": {},
   "cell_type": "markdown",
   "source": "Bulk implementation",
   "id": "13fdcca76dd213aa"
  },
  {
   "metadata": {
    "ExecuteTime": {
     "end_time": "2025-09-01T13:04:08.234330Z",
     "start_time": "2025-09-01T13:04:08.232371Z"
    }
   },
   "cell_type": "code",
   "source": "from skfp.distances import bulk_tanimoto_count_similarity",
   "id": "8fb16fc0e88aee31",
   "outputs": [],
   "execution_count": 55
  },
  {
   "metadata": {
    "ExecuteTime": {
     "end_time": "2025-09-01T13:04:08.794784Z",
     "start_time": "2025-09-01T13:04:08.256933Z"
    }
   },
   "cell_type": "code",
   "source": "%timeit -r 3 -n 10 [bulk_tanimoto_count_similarity(fps)]",
   "id": "93fa077dc7867a7a",
   "outputs": [
    {
     "name": "stdout",
     "output_type": "stream",
     "text": [
      "17.8 ms ± 862 μs per loop (mean ± std. dev. of 3 runs, 10 loops each)\n"
     ]
    }
   ],
   "execution_count": 56
  },
  {
   "metadata": {},
   "cell_type": "markdown",
   "source": [
    "### Exercise 5\n",
    "\n",
    "Now that we know how to compute similarities in bulk, lets try ty perform MAX fusion similarity search VS.\n",
    "\n",
    "- First, extract positive samples from training dataset and transform them to vectors using molecular fingerprints You can use a molecular fingerprint of your choice. We recommend using ECFP.\n",
    "- After that transform the test set molecules using fingerprints.\n",
    "- Using `bulk_tanimoto_count_similarity()` compute similarities between the positive training samples and all test samples\n",
    "- Determine class probability for each molecule in the test set. Chose the highest similarity to a positive class molecule from test dataset. That's why this method is called \"MAX fusion\"\n",
    "- Compute AUROC, BEDROC and Enrichment Factor at 5%. You can find out about relevant metrics in [metrics section of documentation](https://scikit-fingerprints.readthedocs.io/latest/modules/metrics.html)\n"
   ],
   "id": "d4772ed51238d25"
  },
  {
   "metadata": {
    "ExecuteTime": {
     "end_time": "2025-09-01T13:04:14.215666Z",
     "start_time": "2025-09-01T13:04:08.798789Z"
    }
   },
   "cell_type": "code",
   "source": [
    "from sklearn.metrics import roc_auc_score\n",
    "\n",
    "# Complete needed imports!\n",
    "from skfp.metrics import enrichment_factor, bedroc_score\n",
    "\n",
    "positive_train_mols = [mols_train[i] for i in np.where(labels_train)[0]]\n",
    "\n",
    "ecfp_fingerprint = ECFPFingerprint(count=True, n_jobs=-1)\n",
    "positive_train_fps = ecfp_fingerprint.transform(positive_train_mols)\n",
    "\n",
    "test_fps = ecfp_fingerprint.transform(mols_test)\n",
    "\n",
    "bulk_similarity = bulk_tanimoto_count_similarity(positive_train_fps, test_fps)\n",
    "\n",
    "test_proba = bulk_similarity.max(axis=0)\n",
    "\n",
    "auroc = roc_auc_score(labels_test, test_proba)\n",
    "bedroc = bedroc_score(labels_test, test_proba, alpha=20)\n",
    "ef = enrichment_factor(labels_test, test_proba, fraction=0.05)\n",
    "\n",
    "print(f\"AUROC: {auroc}\")\n",
    "print(f\"EF5%: {ef}\")\n",
    "print(f\"BEDROC score: {bedroc}\")"
   ],
   "id": "d488ebecbe4f6ff7",
   "outputs": [
    {
     "name": "stdout",
     "output_type": "stream",
     "text": [
      "AUROC: 0.763022672933094\n",
      "EF5%: 8.021967400717555\n",
      "bedroc score: 0.4182977944543486\n"
     ]
    }
   ],
   "execution_count": 57
  },
  {
   "metadata": {},
   "cell_type": "markdown",
   "source": "---",
   "id": "68872f447e5b05f7"
  }
 ],
 "metadata": {
  "kernelspec": {
   "display_name": "Python 3 (ipykernel)",
   "language": "python",
   "name": "python3"
  },
  "language_info": {
   "codemirror_mode": {
    "name": "ipython",
    "version": 3
   },
   "file_extension": ".py",
   "mimetype": "text/x-python",
   "name": "python",
   "nbconvert_exporter": "python",
   "pygments_lexer": "ipython3",
   "version": "3.12.11"
  }
 },
 "nbformat": 4,
 "nbformat_minor": 5
}

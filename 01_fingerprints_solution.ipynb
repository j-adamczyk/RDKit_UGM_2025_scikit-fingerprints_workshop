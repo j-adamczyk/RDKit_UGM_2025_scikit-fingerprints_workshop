{
 "cells": [
  {
   "cell_type": "markdown",
   "id": "f86eb832-c51c-46c9-9b37-ed0b9bd6cb1b",
   "metadata": {
    "collapsed": true,
    "jupyter": {
     "outputs_hidden": true
    }
   },
   "source": [
    "# Scikit-fingerprints intro"
   ]
  },
  {
   "cell_type": "markdown",
   "id": "1af67375-e346-4fc4-8e48-92a7fa301158",
   "metadata": {},
   "source": [
    "Scikit-fingerprints is the scikit-learn compatible library for computing molecular fingerprints and other molecular ML & chemoinformatics tasks, based on RDKit.\n",
    "\n",
    "GitHub: https://github.com/scikit-fingerprints/scikit-fingerprints\n",
    "\n",
    "Documentation: https://scikit-fingerprints.readthedocs.io/latest/"
   ]
  },
  {
   "cell_type": "markdown",
   "id": "5e44a08c-9011-4b33-8a12-682389490109",
   "metadata": {},
   "source": [
    "## Datasets"
   ]
  },
  {
   "cell_type": "markdown",
   "id": "c6362fe3-50ed-4bb4-a015-6c131fb969ef",
   "metadata": {},
   "source": [
    "First, we will load some data - the BBBP (blood-brain barrier penetration) from [MoleculeNet](https://pubs.rsc.org/en/content/articlelanding/2018/sc/c7sc02664a) benchmark.\n",
    "\n",
    "Scikit-fingerprints has functions to download and load datasets from MoleculeNet, TDC, and others in `skfp.datasets` module ([documentation](https://scikit-fingerprints.readthedocs.io/latest/modules/datasets.html)). They are hosted [on HuggingFace](https://huggingface.co/scikit-fingerprints) for high availability."
   ]
  },
  {
   "cell_type": "code",
   "execution_count": 2,
   "id": "440843d6-47b4-4e0e-adee-432b77a5c81a",
   "metadata": {},
   "outputs": [],
   "source": [
    "from skfp.datasets.moleculenet import load_bbbp\n",
    "\n",
    "\n",
    "smiles_list, y = load_bbbp()"
   ]
  },
  {
   "cell_type": "code",
   "execution_count": 6,
   "id": "808facb1-7eca-4e22-a450-96fd973d549a",
   "metadata": {},
   "outputs": [
    {
     "data": {
      "text/plain": [
       "['[Cl].CC(C)NCC(O)COc1cccc2ccccc12',\n",
       " 'C(=O)(OC(C)(C)C)CCCc1ccc(cc1)N(CCCl)CCCl',\n",
       " 'c12c3c(N4CCN(C)CC4)c(F)cc1c(c(C(O)=O)cn2C(C)CO3)=O',\n",
       " 'C1CCN(CC1)Cc1cccc(c1)OCCCNC(=O)C',\n",
       " 'Cc1onc(c2ccccc2Cl)c1C(=O)N[C@H]3[C@H]4SC(C)(C)[C@@H](N4C3=O)C(O)=O']"
      ]
     },
     "execution_count": 6,
     "metadata": {},
     "output_type": "execute_result"
    }
   ],
   "source": [
    "smiles_list[:5]"
   ]
  },
  {
   "cell_type": "code",
   "execution_count": 4,
   "id": "17937416-a480-4391-be66-744b47903a5b",
   "metadata": {},
   "outputs": [
    {
     "data": {
      "text/plain": [
       "array([1, 1, 1, ..., 1, 1, 1], shape=(2039,))"
      ]
     },
     "execution_count": 4,
     "metadata": {},
     "output_type": "execute_result"
    }
   ],
   "source": [
    "y"
   ]
  },
  {
   "cell_type": "markdown",
   "id": "46ac9b08-902a-4a95-8a36-fb9dfd56541f",
   "metadata": {},
   "source": [
    "The task is **binary classification** - predict if a molecule can pass through the blood-brain barrier.\n",
    "\n",
    "Let's parse SMILES as molecules. Parsing classes (input and output) are implemented as classes with `.transform()` method in scikit-fingerprints, in `skfp.preprocessing` module ([documentation](https://scikit-fingerprints.readthedocs.io/latest/modules/preprocessing.html)).\n",
    "\n",
    "Let's compare RDKit and scikit-fingerprints. The task is to parse all SMILES as molecules."
   ]
  },
  {
   "cell_type": "code",
   "execution_count": 11,
   "id": "4769776e-d312-4961-869b-8ef0da70e9c8",
   "metadata": {
    "scrolled": true
   },
   "outputs": [
    {
     "name": "stderr",
     "output_type": "stream",
     "text": [
      "[17:28:44] WARNING: not removing hydrogen atom without neighbors\n",
      "[17:28:44] WARNING: not removing hydrogen atom without neighbors\n",
      "[17:28:44] WARNING: not removing hydrogen atom without neighbors\n",
      "[17:28:44] WARNING: not removing hydrogen atom without neighbors\n",
      "[17:28:44] WARNING: not removing hydrogen atom without neighbors\n",
      "[17:28:44] WARNING: not removing hydrogen atom without neighbors\n",
      "[17:28:44] WARNING: not removing hydrogen atom without neighbors\n",
      "[17:28:44] WARNING: not removing hydrogen atom without neighbors\n",
      "[17:28:44] WARNING: not removing hydrogen atom without neighbors\n",
      "[17:28:44] WARNING: not removing hydrogen atom without neighbors\n",
      "[17:28:44] WARNING: not removing hydrogen atom without neighbors\n",
      "[17:28:44] WARNING: not removing hydrogen atom without neighbors\n",
      "[17:28:44] WARNING: not removing hydrogen atom without neighbors\n",
      "[17:28:44] WARNING: not removing hydrogen atom without neighbors\n",
      "[17:28:44] WARNING: not removing hydrogen atom without neighbors\n",
      "[17:28:44] WARNING: not removing hydrogen atom without neighbors\n",
      "[17:28:44] WARNING: not removing hydrogen atom without neighbors\n",
      "[17:28:44] WARNING: not removing hydrogen atom without neighbors\n",
      "[17:28:44] WARNING: not removing hydrogen atom without neighbors\n",
      "[17:28:44] WARNING: not removing hydrogen atom without neighbors\n",
      "[17:28:44] WARNING: not removing hydrogen atom without neighbors\n",
      "[17:28:44] WARNING: not removing hydrogen atom without neighbors\n",
      "[17:28:44] WARNING: not removing hydrogen atom without neighbors\n",
      "[17:28:44] WARNING: not removing hydrogen atom without neighbors\n",
      "[17:28:44] WARNING: not removing hydrogen atom without neighbors\n",
      "[17:28:44] WARNING: not removing hydrogen atom without neighbors\n",
      "[17:28:44] WARNING: not removing hydrogen atom without neighbors\n",
      "[17:28:44] WARNING: not removing hydrogen atom without neighbors\n",
      "[17:28:44] WARNING: not removing hydrogen atom without neighbors\n",
      "[17:28:44] WARNING: not removing hydrogen atom without neighbors\n",
      "[17:28:44] WARNING: not removing hydrogen atom without neighbors\n",
      "[17:28:44] WARNING: not removing hydrogen atom without neighbors\n",
      "[17:28:44] WARNING: not removing hydrogen atom without neighbors\n",
      "[17:28:44] WARNING: not removing hydrogen atom without neighbors\n",
      "[17:28:44] WARNING: not removing hydrogen atom without neighbors\n",
      "[17:28:44] WARNING: not removing hydrogen atom without neighbors\n",
      "[17:28:44] WARNING: not removing hydrogen atom without neighbors\n",
      "[17:28:44] WARNING: not removing hydrogen atom without neighbors\n",
      "[17:28:44] WARNING: not removing hydrogen atom without neighbors\n",
      "[17:28:44] WARNING: not removing hydrogen atom without neighbors\n"
     ]
    },
    {
     "data": {
      "text/plain": [
       "[<rdkit.Chem.rdchem.Mol at 0x7475f6656030>,\n",
       " <rdkit.Chem.rdchem.Mol at 0x7475f66561f0>,\n",
       " <rdkit.Chem.rdchem.Mol at 0x7475f6656260>,\n",
       " <rdkit.Chem.rdchem.Mol at 0x7475f66562d0>,\n",
       " <rdkit.Chem.rdchem.Mol at 0x7475f6656340>]"
      ]
     },
     "execution_count": 11,
     "metadata": {},
     "output_type": "execute_result"
    }
   ],
   "source": [
    "from rdkit.Chem import MolFromSmiles\n",
    "\n",
    "mols_rdkit = [MolFromSmiles(smiles) for smiles in smiles_list]\n",
    "mols_rdkit[:5]"
   ]
  },
  {
   "cell_type": "code",
   "execution_count": 12,
   "id": "30b618b5-e6fd-4fe5-a9fa-ecc3521357b1",
   "metadata": {
    "scrolled": true
   },
   "outputs": [
    {
     "name": "stderr",
     "output_type": "stream",
     "text": [
      "[17:28:52] WARNING: not removing hydrogen atom without neighbors\n",
      "[17:28:52] WARNING: not removing hydrogen atom without neighbors\n",
      "[17:28:52] WARNING: not removing hydrogen atom without neighbors\n",
      "[17:28:52] WARNING: not removing hydrogen atom without neighbors\n",
      "[17:28:52] WARNING: not removing hydrogen atom without neighbors\n",
      "[17:28:52] WARNING: not removing hydrogen atom without neighbors\n",
      "[17:28:52] WARNING: not removing hydrogen atom without neighbors\n",
      "[17:28:52] WARNING: not removing hydrogen atom without neighbors\n",
      "[17:28:52] WARNING: not removing hydrogen atom without neighbors\n",
      "[17:28:52] WARNING: not removing hydrogen atom without neighbors\n",
      "[17:28:52] WARNING: not removing hydrogen atom without neighbors\n",
      "[17:28:52] WARNING: not removing hydrogen atom without neighbors\n",
      "[17:28:52] WARNING: not removing hydrogen atom without neighbors\n",
      "[17:28:52] WARNING: not removing hydrogen atom without neighbors\n",
      "[17:28:52] WARNING: not removing hydrogen atom without neighbors\n",
      "[17:28:52] WARNING: not removing hydrogen atom without neighbors\n",
      "[17:28:52] WARNING: not removing hydrogen atom without neighbors\n",
      "[17:28:52] WARNING: not removing hydrogen atom without neighbors\n",
      "[17:28:52] WARNING: not removing hydrogen atom without neighbors\n",
      "[17:28:52] WARNING: not removing hydrogen atom without neighbors\n",
      "[17:28:52] WARNING: not removing hydrogen atom without neighbors\n",
      "[17:28:52] WARNING: not removing hydrogen atom without neighbors\n",
      "[17:28:52] WARNING: not removing hydrogen atom without neighbors\n",
      "[17:28:52] WARNING: not removing hydrogen atom without neighbors\n",
      "[17:28:52] WARNING: not removing hydrogen atom without neighbors\n",
      "[17:28:52] WARNING: not removing hydrogen atom without neighbors\n",
      "[17:28:52] WARNING: not removing hydrogen atom without neighbors\n",
      "[17:28:52] WARNING: not removing hydrogen atom without neighbors\n",
      "[17:28:52] WARNING: not removing hydrogen atom without neighbors\n",
      "[17:28:52] WARNING: not removing hydrogen atom without neighbors\n",
      "[17:28:52] WARNING: not removing hydrogen atom without neighbors\n",
      "[17:28:52] WARNING: not removing hydrogen atom without neighbors\n",
      "[17:28:52] WARNING: not removing hydrogen atom without neighbors\n",
      "[17:28:52] WARNING: not removing hydrogen atom without neighbors\n",
      "[17:28:52] WARNING: not removing hydrogen atom without neighbors\n",
      "[17:28:52] WARNING: not removing hydrogen atom without neighbors\n",
      "[17:28:52] WARNING: not removing hydrogen atom without neighbors\n",
      "[17:28:52] WARNING: not removing hydrogen atom without neighbors\n",
      "[17:28:52] WARNING: not removing hydrogen atom without neighbors\n",
      "[17:28:52] WARNING: not removing hydrogen atom without neighbors\n"
     ]
    },
    {
     "data": {
      "text/plain": [
       "[<rdkit.Chem.rdchem.Mol at 0x7475f6f944a0>,\n",
       " <rdkit.Chem.rdchem.Mol at 0x7475f6f94740>,\n",
       " <rdkit.Chem.rdchem.Mol at 0x7475f6f94890>,\n",
       " <rdkit.Chem.rdchem.Mol at 0x7475f6f94900>,\n",
       " <rdkit.Chem.rdchem.Mol at 0x7475f6f94970>]"
      ]
     },
     "execution_count": 12,
     "metadata": {},
     "output_type": "execute_result"
    }
   ],
   "source": [
    "from skfp.preprocessing import MolFromSmilesTransformer\n",
    "\n",
    "\n",
    "mol_from_smiles = MolFromSmilesTransformer()\n",
    "\n",
    "mols_skfp = mol_from_smiles.transform(smiles_list)\n",
    "mols_skfp[:5]"
   ]
  },
  {
   "cell_type": "markdown",
   "id": "8079251d-bbe0-4bf6-9cef-3b1d3bd7796d",
   "metadata": {},
   "source": [
    "This is a list of regular RDKit `Mol` objects, we can draw them or combine with other RDKit-compatible libraries."
   ]
  },
  {
   "cell_type": "code",
   "execution_count": 30,
   "id": "3214e446-36d4-4873-a89b-612e2f911edd",
   "metadata": {},
   "outputs": [
    {
     "data": {
      "image/jpeg": "[encoded data removed]",
      "image/png": "[encoded data removed]",
      "text/plain": [
       "<PIL.PngImagePlugin.PngImageFile image mode=RGB size=300x300>"
      ]
     },
     "execution_count": 30,
     "metadata": {},
     "output_type": "execute_result"
    }
   ],
   "source": [
    "from rdkit.Chem import Draw\n",
    "\n",
    "Draw.MolToImage(mols_skfp[0])"
   ]
  },
  {
   "cell_type": "markdown",
   "id": "446fd119-f572-4ed9-812b-94da377f7f42",
   "metadata": {},
   "source": [
    "A few remarks:\n",
    "\n",
    "1. We have inconvenient warnings. What if we want to get rid of them?\n",
    "2. We may want to monitor progress.\n",
    "3. What happens if we have wrong SMILES that can't be parsed?\n",
    "\n",
    "Let's see a robust RDKit implementation that can do those things."
   ]
  },
  {
   "cell_type": "code",
   "execution_count": 19,
   "id": "5f4c2fb0-525f-4097-8622-d7a0ca3a56d2",
   "metadata": {},
   "outputs": [
    {
     "name": "stderr",
     "output_type": "stream",
     "text": [
      "100%|████████████████████████████████████████████████████████████████████████████████████████████████████████████████████| 2039/2039 [00:00<00:00, 15232.70it/s]\n"
     ]
    }
   ],
   "source": [
    "from rdkit.rdBase import DisableLog, EnableLog\n",
    "from tqdm import tqdm\n",
    "\n",
    "\n",
    "# we need try/finally to make sure logs are turned on after this\n",
    "try:\n",
    "    DisableLog(\"rdApp.*\")\n",
    "\n",
    "    rdkit_mols = []\n",
    "    for smiles in tqdm(smiles_list):\n",
    "        mol = MolFromSmiles(smiles)\n",
    "        if mol is not None:\n",
    "            rdkit_mols.append(mol)\n",
    "finally:\n",
    "    EnableLog(\"rdApp.*\")\n"
   ]
  },
  {
   "cell_type": "markdown",
   "id": "45ef69ba-0cbe-4879-aa83-fc45035e0c5c",
   "metadata": {},
   "source": [
    "And with scikit-fingerprints:"
   ]
  },
  {
   "cell_type": "code",
   "execution_count": 20,
   "id": "91b20de2-be43-44d4-a7e6-76bf7ef11393",
   "metadata": {},
   "outputs": [
    {
     "name": "stderr",
     "output_type": "stream",
     "text": [
      "100%|████████████████████████████████████████████████████████████████████████████████████████████████████████████████████| 2039/2039 [00:00<00:00, 14836.83it/s]\n"
     ]
    }
   ],
   "source": [
    "mol_from_smiles = MolFromSmilesTransformer(valid_only=True, suppress_warnings=True, verbose=True)\n",
    "skfp_mols = mol_from_smiles.transform(smiles_list)"
   ]
  },
  {
   "cell_type": "markdown",
   "id": "5090919e-0465-4ede-b27d-3c752f7bed1e",
   "metadata": {},
   "source": [
    "One problem - if we remove some molecules, what about labels? Which ones were removed? We also need to filter them!\n",
    "\n",
    "With RDKit, we need to iterate on both mols and labels for that.\n",
    "\n",
    "Scikit-fingerprints has `.transform_x_y()` method for that cases, useful when you use `valid_only=True`."
   ]
  },
  {
   "cell_type": "code",
   "execution_count": 24,
   "id": "026f6941-3203-4ee9-82e8-012e6888f790",
   "metadata": {},
   "outputs": [
    {
     "name": "stderr",
     "output_type": "stream",
     "text": [
      "100%|████████████████████████████████████████████████████████████████████████████████████████████████████████████████████| 2039/2039 [00:00<00:00, 15112.78it/s]\n"
     ]
    }
   ],
   "source": [
    "try:\n",
    "    DisableLog(\"rdApp.*\")\n",
    "\n",
    "    rdkit_mols = []\n",
    "    rdkit_labels = []\n",
    "    for smiles, label in tqdm(zip(smiles_list, y), total=len(y)):\n",
    "        mol = MolFromSmiles(smiles)\n",
    "        if mol is not None:\n",
    "            rdkit_mols.append(mol)\n",
    "            rdkit_labels.append(label)\n",
    "finally:\n",
    "    EnableLog(\"rdApp.*\")\n"
   ]
  },
  {
   "cell_type": "code",
   "execution_count": 25,
   "id": "dcac88ce-67df-4571-ab09-2b021c9d5892",
   "metadata": {},
   "outputs": [
    {
     "name": "stderr",
     "output_type": "stream",
     "text": [
      "100%|████████████████████████████████████████████████████████████████████████████████████████████████████████████████████| 2039/2039 [00:00<00:00, 13962.64it/s]\n"
     ]
    }
   ],
   "source": [
    "mol_from_smiles = MolFromSmilesTransformer(valid_only=True, suppress_warnings=True, verbose=True)\n",
    "skfp_mols, skfp_labels = mol_from_smiles.transform_x_y(smiles_list, y)"
   ]
  },
  {
   "cell_type": "markdown",
   "id": "e6581b31-243d-4cde-9819-90fcf0aac53d",
   "metadata": {},
   "source": [
    "**Exercise 1**\n",
    "\n",
    "Load the SIDER dataset from MoleculeNet benchmark, and parse it as molecules. Keep only valid molecules and their labels, and suppress parsing warnings.\n",
    "\n",
    "Use [scikit-fingerprints documentation](https://scikit-fingerprints.readthedocs.io/latest/api_reference.html) as necessary.\n",
    "\n",
    "Its task is to predict adverse drug reactions (ADRs) as drug side effects to 27 system organ classes. Thus, we have 27 binary classification tasks, and a matrix of labels instead of a vector.\n",
    "\n",
    "**Warning:** name variables so that you don't override those from BBBP, e.g. `smiles_list_sider` and `y_sider`."
   ]
  },
  {
   "cell_type": "code",
   "execution_count": 27,
   "id": "e0e5cea4-0650-4bde-8ef3-ea2b4b40f25c",
   "metadata": {},
   "outputs": [],
   "source": [
    "from skfp.datasets.moleculenet import load_sider\n",
    "\n",
    "\n",
    "mol_from_smiles = MolFromSmilesTransformer(valid_only=True, suppress_warnings=True)\n",
    "\n",
    "smiles_list_sider, y_sider = load_sider()\n",
    "\n",
    "mols_sider, y_sider = mol_from_smiles.transform_x_y(smiles_list_sider, y_sider)"
   ]
  },
  {
   "cell_type": "markdown",
   "id": "8eb60826-6065-4e75-ba56-30a1a36bb221",
   "metadata": {},
   "source": [
    "## Molecular fingerprints"
   ]
  },
  {
   "cell_type": "code",
   "execution_count": null,
   "id": "7ba6f146-ea38-4af8-b713-635051f4b059",
   "metadata": {},
   "outputs": [],
   "source": []
  },
  {
   "cell_type": "markdown",
   "id": "d4811a62-c777-4a6a-ba38-457f4fcd1e1a",
   "metadata": {},
   "source": [
    "## Distances"
   ]
  },
  {
   "cell_type": "code",
   "execution_count": null,
   "id": "0331a081-79c2-408f-b04a-17187bde0970",
   "metadata": {},
   "outputs": [],
   "source": []
  },
  {
   "cell_type": "code",
   "execution_count": null,
   "id": "c15ef136-55b4-44f3-944b-54adc424e641",
   "metadata": {},
   "outputs": [],
   "source": []
  }
 ],
 "metadata": {
  "kernelspec": {
   "display_name": "Python 3 (ipykernel)",
   "language": "python",
   "name": "python3"
  },
  "language_info": {
   "codemirror_mode": {
    "name": "ipython",
    "version": 3
   },
   "file_extension": ".py",
   "mimetype": "text/x-python",
   "name": "python",
   "nbconvert_exporter": "python",
   "pygments_lexer": "ipython3",
   "version": "3.12.11"
  }
 },
 "nbformat": 4,
 "nbformat_minor": 5
}

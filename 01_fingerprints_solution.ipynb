{
 "cells": [
  {
   "cell_type": "markdown",
   "id": "f86eb832-c51c-46c9-9b37-ed0b9bd6cb1b",
   "metadata": {
    "collapsed": true,
    "jupyter": {
     "outputs_hidden": true
    }
   },
   "source": [
    "# Scikit-fingerprints intro"
   ]
  },
  {
   "cell_type": "markdown",
   "id": "1af67375-e346-4fc4-8e48-92a7fa301158",
   "metadata": {},
   "source": [
    "Scikit-fingerprints is the scikit-learn compatible library for computing molecular fingerprints and other molecular ML & chemoinformatics tasks, based on RDKit.\n",
    "\n",
    "GitHub: https://github.com/scikit-fingerprints/scikit-fingerprints\n",
    "\n",
    "Documentation: https://scikit-fingerprints.readthedocs.io/latest/"
   ]
  },
  {
   "cell_type": "markdown",
   "id": "5e44a08c-9011-4b33-8a12-682389490109",
   "metadata": {},
   "source": [
    "## Datasets"
   ]
  },
  {
   "cell_type": "markdown",
   "id": "c6362fe3-50ed-4bb4-a015-6c131fb969ef",
   "metadata": {},
   "source": [
    "First, we will load some data - the BBBP (blood-brain barrier penetration) from [MoleculeNet](https://pubs.rsc.org/en/content/articlelanding/2018/sc/c7sc02664a) benchmark.\n",
    "\n",
    "Scikit-fingerprints has functions to download and load datasets from MoleculeNet, TDC, and others in `skfp.datasets` module ([documentation](https://scikit-fingerprints.readthedocs.io/latest/modules/datasets.html)). They are hosted [on HuggingFace](https://huggingface.co/scikit-fingerprints) for high availability."
   ]
  },
  {
   "cell_type": "code",
   "execution_count": 1,
   "id": "440843d6-47b4-4e0e-adee-432b77a5c81a",
   "metadata": {},
   "outputs": [],
   "source": [
    "from skfp.datasets.moleculenet import load_bbbp\n",
    "\n",
    "\n",
    "smiles_list, y = load_bbbp()"
   ]
  },
  {
   "cell_type": "code",
   "execution_count": 2,
   "id": "808facb1-7eca-4e22-a450-96fd973d549a",
   "metadata": {},
   "outputs": [
    {
     "data": {
      "text/plain": [
       "['[Cl].CC(C)NCC(O)COc1cccc2ccccc12',\n",
       " 'C(=O)(OC(C)(C)C)CCCc1ccc(cc1)N(CCCl)CCCl',\n",
       " 'c12c3c(N4CCN(C)CC4)c(F)cc1c(c(C(O)=O)cn2C(C)CO3)=O',\n",
       " 'C1CCN(CC1)Cc1cccc(c1)OCCCNC(=O)C',\n",
       " 'Cc1onc(c2ccccc2Cl)c1C(=O)N[C@H]3[C@H]4SC(C)(C)[C@@H](N4C3=O)C(O)=O']"
      ]
     },
     "execution_count": 2,
     "metadata": {},
     "output_type": "execute_result"
    }
   ],
   "source": [
    "smiles_list[:5]"
   ]
  },
  {
   "cell_type": "code",
   "execution_count": 3,
   "id": "17937416-a480-4391-be66-744b47903a5b",
   "metadata": {},
   "outputs": [
    {
     "data": {
      "text/plain": [
       "array([1, 1, 1, ..., 1, 1, 1], shape=(2039,))"
      ]
     },
     "execution_count": 3,
     "metadata": {},
     "output_type": "execute_result"
    }
   ],
   "source": [
    "y"
   ]
  },
  {
   "cell_type": "markdown",
   "id": "46ac9b08-902a-4a95-8a36-fb9dfd56541f",
   "metadata": {},
   "source": [
    "The task is **binary classification** - predict if a molecule can pass through the blood-brain barrier.\n",
    "\n",
    "Let's parse SMILES as molecules. Parsing classes (input and output) are implemented as classes with `.transform()` method in scikit-fingerprints, in `skfp.preprocessing` module ([documentation](https://scikit-fingerprints.readthedocs.io/latest/modules/preprocessing.html)).\n",
    "\n",
    "Let's compare RDKit and scikit-fingerprints. The task is to parse all SMILES as molecules."
   ]
  },
  {
   "cell_type": "code",
   "execution_count": 4,
   "id": "4769776e-d312-4961-869b-8ef0da70e9c8",
   "metadata": {
    "scrolled": true
   },
   "outputs": [
    {
     "name": "stderr",
     "output_type": "stream",
     "text": [
      "[21:17:22] WARNING: not removing hydrogen atom without neighbors\n",
      "[21:17:22] WARNING: not removing hydrogen atom without neighbors\n",
      "[21:17:22] WARNING: not removing hydrogen atom without neighbors\n",
      "[21:17:22] WARNING: not removing hydrogen atom without neighbors\n",
      "[21:17:22] WARNING: not removing hydrogen atom without neighbors\n",
      "[21:17:22] WARNING: not removing hydrogen atom without neighbors\n",
      "[21:17:22] WARNING: not removing hydrogen atom without neighbors\n",
      "[21:17:22] WARNING: not removing hydrogen atom without neighbors\n",
      "[21:17:22] WARNING: not removing hydrogen atom without neighbors\n",
      "[21:17:22] WARNING: not removing hydrogen atom without neighbors\n",
      "[21:17:22] WARNING: not removing hydrogen atom without neighbors\n",
      "[21:17:22] WARNING: not removing hydrogen atom without neighbors\n",
      "[21:17:22] WARNING: not removing hydrogen atom without neighbors\n",
      "[21:17:22] WARNING: not removing hydrogen atom without neighbors\n",
      "[21:17:22] WARNING: not removing hydrogen atom without neighbors\n",
      "[21:17:22] WARNING: not removing hydrogen atom without neighbors\n",
      "[21:17:22] WARNING: not removing hydrogen atom without neighbors\n",
      "[21:17:22] WARNING: not removing hydrogen atom without neighbors\n",
      "[21:17:22] WARNING: not removing hydrogen atom without neighbors\n",
      "[21:17:22] WARNING: not removing hydrogen atom without neighbors\n",
      "[21:17:22] WARNING: not removing hydrogen atom without neighbors\n",
      "[21:17:22] WARNING: not removing hydrogen atom without neighbors\n",
      "[21:17:22] WARNING: not removing hydrogen atom without neighbors\n",
      "[21:17:22] WARNING: not removing hydrogen atom without neighbors\n",
      "[21:17:22] WARNING: not removing hydrogen atom without neighbors\n",
      "[21:17:22] WARNING: not removing hydrogen atom without neighbors\n",
      "[21:17:22] WARNING: not removing hydrogen atom without neighbors\n",
      "[21:17:22] WARNING: not removing hydrogen atom without neighbors\n",
      "[21:17:22] WARNING: not removing hydrogen atom without neighbors\n",
      "[21:17:22] WARNING: not removing hydrogen atom without neighbors\n",
      "[21:17:22] WARNING: not removing hydrogen atom without neighbors\n",
      "[21:17:22] WARNING: not removing hydrogen atom without neighbors\n",
      "[21:17:22] WARNING: not removing hydrogen atom without neighbors\n",
      "[21:17:22] WARNING: not removing hydrogen atom without neighbors\n",
      "[21:17:22] WARNING: not removing hydrogen atom without neighbors\n",
      "[21:17:22] WARNING: not removing hydrogen atom without neighbors\n",
      "[21:17:22] WARNING: not removing hydrogen atom without neighbors\n",
      "[21:17:22] WARNING: not removing hydrogen atom without neighbors\n",
      "[21:17:22] WARNING: not removing hydrogen atom without neighbors\n",
      "[21:17:22] WARNING: not removing hydrogen atom without neighbors\n"
     ]
    },
    {
     "data": {
      "text/plain": [
       "[<rdkit.Chem.rdchem.Mol at 0x7cd4ea3df680>,\n",
       " <rdkit.Chem.rdchem.Mol at 0x7cd4e918e3b0>,\n",
       " <rdkit.Chem.rdchem.Mol at 0x7cd4e918e260>,\n",
       " <rdkit.Chem.rdchem.Mol at 0x7cd4e918e2d0>,\n",
       " <rdkit.Chem.rdchem.Mol at 0x7cd4e918e340>]"
      ]
     },
     "execution_count": 4,
     "metadata": {},
     "output_type": "execute_result"
    }
   ],
   "source": [
    "from rdkit.Chem import MolFromSmiles\n",
    "\n",
    "mols_rdkit = [MolFromSmiles(smiles) for smiles in smiles_list]\n",
    "mols_rdkit[:5]"
   ]
  },
  {
   "cell_type": "code",
   "execution_count": 5,
   "id": "30b618b5-e6fd-4fe5-a9fa-ecc3521357b1",
   "metadata": {
    "scrolled": true
   },
   "outputs": [
    {
     "name": "stderr",
     "output_type": "stream",
     "text": [
      "[21:17:22] WARNING: not removing hydrogen atom without neighbors\n",
      "[21:17:22] WARNING: not removing hydrogen atom without neighbors\n",
      "[21:17:22] WARNING: not removing hydrogen atom without neighbors\n",
      "[21:17:22] WARNING: not removing hydrogen atom without neighbors\n",
      "[21:17:22] WARNING: not removing hydrogen atom without neighbors\n",
      "[21:17:22] WARNING: not removing hydrogen atom without neighbors\n",
      "[21:17:22] WARNING: not removing hydrogen atom without neighbors\n",
      "[21:17:22] WARNING: not removing hydrogen atom without neighbors\n",
      "[21:17:22] WARNING: not removing hydrogen atom without neighbors\n",
      "[21:17:22] WARNING: not removing hydrogen atom without neighbors\n",
      "[21:17:22] WARNING: not removing hydrogen atom without neighbors\n",
      "[21:17:22] WARNING: not removing hydrogen atom without neighbors\n",
      "[21:17:22] WARNING: not removing hydrogen atom without neighbors\n",
      "[21:17:22] WARNING: not removing hydrogen atom without neighbors\n",
      "[21:17:22] WARNING: not removing hydrogen atom without neighbors\n",
      "[21:17:22] WARNING: not removing hydrogen atom without neighbors\n",
      "[21:17:22] WARNING: not removing hydrogen atom without neighbors\n",
      "[21:17:22] WARNING: not removing hydrogen atom without neighbors\n",
      "[21:17:22] WARNING: not removing hydrogen atom without neighbors\n",
      "[21:17:22] WARNING: not removing hydrogen atom without neighbors\n",
      "[21:17:22] WARNING: not removing hydrogen atom without neighbors\n",
      "[21:17:22] WARNING: not removing hydrogen atom without neighbors\n",
      "[21:17:22] WARNING: not removing hydrogen atom without neighbors\n",
      "[21:17:22] WARNING: not removing hydrogen atom without neighbors\n",
      "[21:17:22] WARNING: not removing hydrogen atom without neighbors\n",
      "[21:17:22] WARNING: not removing hydrogen atom without neighbors\n",
      "[21:17:22] WARNING: not removing hydrogen atom without neighbors\n",
      "[21:17:22] WARNING: not removing hydrogen atom without neighbors\n",
      "[21:17:22] WARNING: not removing hydrogen atom without neighbors\n",
      "[21:17:22] WARNING: not removing hydrogen atom without neighbors\n",
      "[21:17:22] WARNING: not removing hydrogen atom without neighbors\n",
      "[21:17:22] WARNING: not removing hydrogen atom without neighbors\n",
      "[21:17:22] WARNING: not removing hydrogen atom without neighbors\n",
      "[21:17:22] WARNING: not removing hydrogen atom without neighbors\n",
      "[21:17:22] WARNING: not removing hydrogen atom without neighbors\n",
      "[21:17:22] WARNING: not removing hydrogen atom without neighbors\n",
      "[21:17:22] WARNING: not removing hydrogen atom without neighbors\n",
      "[21:17:22] WARNING: not removing hydrogen atom without neighbors\n",
      "[21:17:22] WARNING: not removing hydrogen atom without neighbors\n",
      "[21:17:22] WARNING: not removing hydrogen atom without neighbors\n"
     ]
    },
    {
     "data": {
      "text/plain": [
       "[<rdkit.Chem.rdchem.Mol at 0x7cd4e8564ac0>,\n",
       " <rdkit.Chem.rdchem.Mol at 0x7cd4e8564b30>,\n",
       " <rdkit.Chem.rdchem.Mol at 0x7cd4e8564ba0>,\n",
       " <rdkit.Chem.rdchem.Mol at 0x7cd4e8564c10>,\n",
       " <rdkit.Chem.rdchem.Mol at 0x7cd4e8564c80>]"
      ]
     },
     "execution_count": 5,
     "metadata": {},
     "output_type": "execute_result"
    }
   ],
   "source": [
    "from skfp.preprocessing import MolFromSmilesTransformer\n",
    "\n",
    "\n",
    "mol_from_smiles = MolFromSmilesTransformer()\n",
    "\n",
    "mols_skfp = mol_from_smiles.transform(smiles_list)\n",
    "mols_skfp[:5]"
   ]
  },
  {
   "cell_type": "markdown",
   "id": "8079251d-bbe0-4bf6-9cef-3b1d3bd7796d",
   "metadata": {},
   "source": [
    "This is a list of regular RDKit `Mol` objects, we can draw them or combine with other RDKit-compatible libraries."
   ]
  },
  {
   "cell_type": "code",
   "execution_count": 6,
   "id": "3214e446-36d4-4873-a89b-612e2f911edd",
   "metadata": {},
   "outputs": [
    {
     "data": {
      "image/jpeg": "[encoded data removed]",
      "image/png": "[encoded data removed]",
      "text/plain": [
       "<PIL.PngImagePlugin.PngImageFile image mode=RGB size=300x300>"
      ]
     },
     "execution_count": 6,
     "metadata": {},
     "output_type": "execute_result"
    }
   ],
   "source": [
    "from rdkit.Chem import Draw\n",
    "\n",
    "Draw.MolToImage(mols_skfp[0])"
   ]
  },
  {
   "cell_type": "markdown",
   "id": "446fd119-f572-4ed9-812b-94da377f7f42",
   "metadata": {},
   "source": [
    "A few remarks:\n",
    "\n",
    "1. We have inconvenient warnings. What if we want to get rid of them?\n",
    "2. We may want to monitor progress.\n",
    "3. What happens if we have wrong SMILES that can't be parsed?\n",
    "\n",
    "Let's see a robust RDKit implementation that can do those things."
   ]
  },
  {
   "cell_type": "code",
   "execution_count": 7,
   "id": "5f4c2fb0-525f-4097-8622-d7a0ca3a56d2",
   "metadata": {},
   "outputs": [
    {
     "name": "stderr",
     "output_type": "stream",
     "text": [
      "100%|████████████████████████████████████████████████████████████████████████████████████████████████████████████████████| 2039/2039 [00:00<00:00, 13978.57it/s]\n"
     ]
    }
   ],
   "source": [
    "from rdkit.rdBase import DisableLog, EnableLog\n",
    "from tqdm import tqdm\n",
    "\n",
    "\n",
    "# we need try/finally to make sure logs are turned on after this\n",
    "try:\n",
    "    DisableLog(\"rdApp.*\")\n",
    "\n",
    "    rdkit_mols = []\n",
    "    for smiles in tqdm(smiles_list):\n",
    "        mol = MolFromSmiles(smiles)\n",
    "        if mol is not None:\n",
    "            rdkit_mols.append(mol)\n",
    "finally:\n",
    "    EnableLog(\"rdApp.*\")\n"
   ]
  },
  {
   "cell_type": "markdown",
   "id": "45ef69ba-0cbe-4879-aa83-fc45035e0c5c",
   "metadata": {},
   "source": [
    "And with scikit-fingerprints:"
   ]
  },
  {
   "cell_type": "code",
   "execution_count": 8,
   "id": "91b20de2-be43-44d4-a7e6-76bf7ef11393",
   "metadata": {},
   "outputs": [
    {
     "name": "stderr",
     "output_type": "stream",
     "text": [
      "100%|████████████████████████████████████████████████████████████████████████████████████████████████████████████████████| 2039/2039 [00:00<00:00, 13642.16it/s]\n"
     ]
    }
   ],
   "source": [
    "mol_from_smiles = MolFromSmilesTransformer(valid_only=True, suppress_warnings=True, verbose=True)\n",
    "skfp_mols = mol_from_smiles.transform(smiles_list)"
   ]
  },
  {
   "cell_type": "markdown",
   "id": "5090919e-0465-4ede-b27d-3c752f7bed1e",
   "metadata": {},
   "source": [
    "One problem - if we remove some molecules, what about labels? Which ones were removed? We also need to filter them!\n",
    "\n",
    "With RDKit, we need to iterate on both mols and labels for that.\n",
    "\n",
    "Scikit-fingerprints has `.transform_x_y()` method for that cases, useful when you use `valid_only=True`."
   ]
  },
  {
   "cell_type": "code",
   "execution_count": 9,
   "id": "026f6941-3203-4ee9-82e8-012e6888f790",
   "metadata": {},
   "outputs": [
    {
     "name": "stderr",
     "output_type": "stream",
     "text": [
      "100%|████████████████████████████████████████████████████████████████████████████████████████████████████████████████████| 2039/2039 [00:00<00:00, 14732.88it/s]\n"
     ]
    }
   ],
   "source": [
    "try:\n",
    "    DisableLog(\"rdApp.*\")\n",
    "\n",
    "    rdkit_mols = []\n",
    "    rdkit_labels = []\n",
    "    for smiles, label in tqdm(zip(smiles_list, y), total=len(y)):\n",
    "        mol = MolFromSmiles(smiles)\n",
    "        if mol is not None:\n",
    "            rdkit_mols.append(mol)\n",
    "            rdkit_labels.append(label)\n",
    "finally:\n",
    "    EnableLog(\"rdApp.*\")\n"
   ]
  },
  {
   "cell_type": "code",
   "execution_count": 10,
   "id": "dcac88ce-67df-4571-ab09-2b021c9d5892",
   "metadata": {},
   "outputs": [
    {
     "name": "stderr",
     "output_type": "stream",
     "text": [
      "100%|████████████████████████████████████████████████████████████████████████████████████████████████████████████████████| 2039/2039 [00:00<00:00, 13601.00it/s]\n"
     ]
    }
   ],
   "source": [
    "mol_from_smiles = MolFromSmilesTransformer(valid_only=True, suppress_warnings=True, verbose=True)\n",
    "skfp_mols, skfp_labels = mol_from_smiles.transform_x_y(smiles_list, y)"
   ]
  },
  {
   "cell_type": "markdown",
   "id": "e6581b31-243d-4cde-9819-90fcf0aac53d",
   "metadata": {},
   "source": [
    "**Exercise 1**\n",
    "\n",
    "Load the SIDER dataset from MoleculeNet benchmark, and parse it as molecules. Keep only valid molecules and their labels, and suppress parsing warnings.\n",
    "\n",
    "Use [scikit-fingerprints documentation](https://scikit-fingerprints.readthedocs.io/latest/api_reference.html) as necessary.\n",
    "\n",
    "Its task is to predict adverse drug reactions (ADRs) as drug side effects to 27 system organ classes. Thus, we have 27 binary classification tasks, and a matrix of labels instead of a vector.\n",
    "\n",
    "**Warning:** name variables so that you don't override those from BBBP, e.g. `smiles_list_sider`, `y_sider`, `mols_sider`."
   ]
  },
  {
   "cell_type": "code",
   "execution_count": 11,
   "id": "e0e5cea4-0650-4bde-8ef3-ea2b4b40f25c",
   "metadata": {},
   "outputs": [],
   "source": [
    "from skfp.datasets.moleculenet import load_sider\n",
    "\n",
    "\n",
    "mol_from_smiles = MolFromSmilesTransformer(valid_only=True, suppress_warnings=True)\n",
    "\n",
    "smiles_list_sider, y_sider = load_sider()\n",
    "\n",
    "mols_sider, y_sider = mol_from_smiles.transform_x_y(smiles_list_sider, y_sider)"
   ]
  },
  {
   "cell_type": "markdown",
   "id": "8eb60826-6065-4e75-ba56-30a1a36bb221",
   "metadata": {},
   "source": [
    "## Molecular fingerprints"
   ]
  },
  {
   "cell_type": "markdown",
   "id": "9d9cee13-1672-4e85-a1aa-6dc56035b3a6",
   "metadata": {},
   "source": [
    "Molecular fingerprints are the basic way of turning molecules into feature vectors for ML. We can divide them roughly into 4 types:\n",
    "\n",
    "1. **Descriptors** - predefined sets of real numbers, e.g. molecular mass, logP, elements distribution. Examples include [RDKit 2D descriptors](https://scikit-fingerprints.readthedocs.io/latest/modules/generated/skfp.fingerprints.RDKit2DDescriptorsFingerprint.html), [Mordred](https://scikit-fingerprints.readthedocs.io/latest/modules/generated/skfp.fingerprints.MordredFingerprint.html), and [VSA](https://scikit-fingerprints.readthedocs.io/latest/modules/generated/skfp.fingerprints.VSAFingerprint.html).\n",
    "\n",
    "2. **Substructural fingerprints** - predefined set of substructures to detect, e.g. elements, functional groups, rings. Defined as a list of SMARTS patterns, typically created by expert chemists. Examples include [MACCS](https://scikit-fingerprints.readthedocs.io/latest/modules/generated/skfp.fingerprints.MACCSFingerprint.html), [Klekota-Roth](https://scikit-fingerprints.readthedocs.io/latest/modules/generated/skfp.fingerprints.KlekotaRothFingerprint.html), and [Laggner](https://scikit-fingerprints.readthedocs.io/latest/modules/generated/skfp.fingerprints.LaggnerFingerprint.html).\n",
    "\n",
    "3. **Hashed fingerprints** - most algorithmic in nature. Each one defines a particular subgraph shape, e.g. circular neighborhoods, the shortest paths between pairs of atoms, or short walks. All such subgraphs are extracted for a molecule, assigned integer identifiers, and hashed into the output feature vector. Examples include [ECFP (Morgan)](https://scikit-fingerprints.readthedocs.io/latest/modules/generated/skfp.fingerprints.ECFPFingerprint.html), [Atom Pair](https://scikit-fingerprints.readthedocs.io/latest/modules/generated/skfp.fingerprints.AtomPairFingerprint.html), and [RDKit fingerprint](https://scikit-fingerprints.readthedocs.io/latest/modules/generated/skfp.fingerprints.RDKitFingerprint.html).\n",
    "\n",
    "4. **Other** - some fingerprints are pretty hard to assign into one of those above categories, mostly those based on 3D conformations. They are often histograms or other statistics of interatomic distances with various weighting schemes (e.g., partial charge). Examples include [USR](https://scikit-fingerprints.readthedocs.io/latest/modules/generated/skfp.fingerprints.USRFingerprint.html), [Autocorrelation](https://scikit-fingerprints.readthedocs.io/latest/modules/generated/skfp.fingerprints.AutocorrFingerprint.html), and [MoRSE](https://scikit-fingerprints.readthedocs.io/latest/modules/generated/skfp.fingerprints.MORSEFingerprint.html).\n",
    "\n",
    "RDKit has:\n",
    "- a few descriptors available, but not as classes and in various places (e.g. RDKit 2D descriptors, VSA)\n",
    "- 1 substructural fingerprint (MACCS)\n",
    "- 10 hashed fingerprints (Atom Pair, Avalon, ECFP, ErG, Layered, MHFP, Pattern, RDKit, SECFP, Topological Torsion)\n",
    "- a few other fingerprints (some as functions, other as classes)\n",
    "\n",
    "Probably the biggest practical problem is that all of the above have very varied interfaces and modules - they need to be imported from 9 places!\n",
    "\n",
    "Scikit-fingerprints currently has 35 fingerprints, all with unified scikit-learn interface.\n",
    "\n",
    "Let's see an example with ECFP fingerprint, which has a generator interface in RDKit, a very nice API."
   ]
  },
  {
   "cell_type": "code",
   "execution_count": 12,
   "id": "7ba6f146-ea38-4af8-b713-635051f4b059",
   "metadata": {},
   "outputs": [
    {
     "data": {
      "text/plain": [
       "array([[0, 1, 0, ..., 0, 0, 0],\n",
       "       [0, 0, 0, ..., 0, 0, 0],\n",
       "       [0, 0, 0, ..., 1, 0, 0],\n",
       "       ...,\n",
       "       [0, 1, 0, ..., 0, 0, 0],\n",
       "       [0, 0, 0, ..., 0, 0, 0],\n",
       "       [0, 1, 0, ..., 0, 0, 0]], shape=(2039, 2048), dtype=uint8)"
      ]
     },
     "execution_count": 12,
     "metadata": {},
     "output_type": "execute_result"
    }
   ],
   "source": [
    "import numpy as np\n",
    "from rdkit.Chem.rdFingerprintGenerator import GetMorganGenerator\n",
    "\n",
    "\n",
    "# warning: by default computes ECFP6, not typically used ECFP4!\n",
    "gen = GetMorganGenerator(fpSize=2048, radius=2)\n",
    "\n",
    "X = [gen.GetFingerprintAsNumPy(mol) for mol in skfp_mols]\n",
    "X = np.vstack(X)\n",
    "X"
   ]
  },
  {
   "cell_type": "markdown",
   "id": "2d98dd91-ccd1-4728-99ef-36465be5c515",
   "metadata": {},
   "source": [
    "And with scikit-fingerprints:"
   ]
  },
  {
   "cell_type": "code",
   "execution_count": 13,
   "id": "d7e43cc5-3b33-4562-b11d-fe86b01f2e44",
   "metadata": {},
   "outputs": [
    {
     "data": {
      "text/plain": [
       "array([[0, 1, 0, ..., 0, 0, 0],\n",
       "       [0, 0, 0, ..., 0, 0, 0],\n",
       "       [0, 0, 0, ..., 1, 0, 0],\n",
       "       ...,\n",
       "       [0, 1, 0, ..., 0, 0, 0],\n",
       "       [0, 0, 0, ..., 0, 0, 0],\n",
       "       [0, 1, 0, ..., 0, 0, 0]], shape=(2039, 2048), dtype=uint8)"
      ]
     },
     "execution_count": 13,
     "metadata": {},
     "output_type": "execute_result"
    }
   ],
   "source": [
    "from skfp.fingerprints import ECFPFingerprint\n",
    "\n",
    "\n",
    "# ECFP4 by default\n",
    "ecfp_fp = ECFPFingerprint()\n",
    "\n",
    "X = ecfp_fp.transform(skfp_mols)\n",
    "\n",
    "X"
   ]
  },
  {
   "cell_type": "markdown",
   "id": "64cf8e4a-b694-41f8-880a-62dec3bc07ff",
   "metadata": {},
   "source": [
    "**Exercise 2**\n",
    "\n",
    "Calculate MACCS fingerprint with RDKit ([documentation](https://www.rdkit.org/docs/source/rdkit.Chem.rdMolDescriptors.html)) and with scikit-fingerprints ([documentation](https://scikit-fingerprints.readthedocs.io/latest/modules/generated/skfp.fingerprints.MACCSFingerprint.html)).\n",
    "\n",
    "**Warning:** in RDKit implementation, first feature of MACCS is actually unused and is always 0! It is just to index features from 1. Remove the first column in RDKit features. Scikit-fingerprints does this automatically."
   ]
  },
  {
   "cell_type": "code",
   "execution_count": 14,
   "id": "b816ed4f-b544-4486-81be-1b3c3997235f",
   "metadata": {},
   "outputs": [
    {
     "data": {
      "text/plain": [
       "array([[0, 0, 0, ..., 1, 1, 1],\n",
       "       [0, 0, 0, ..., 1, 1, 0],\n",
       "       [0, 0, 0, ..., 1, 1, 0],\n",
       "       ...,\n",
       "       [0, 0, 0, ..., 1, 1, 0],\n",
       "       [0, 0, 0, ..., 1, 1, 0],\n",
       "       [0, 0, 0, ..., 1, 1, 0]], shape=(2039, 167))"
      ]
     },
     "execution_count": 14,
     "metadata": {},
     "output_type": "execute_result"
    }
   ],
   "source": [
    "from rdkit.Chem.rdMolDescriptors import GetMACCSKeysFingerprint\n",
    "\n",
    "\n",
    "X_rdkit = np.vstack([GetMACCSKeysFingerprint(mol) for mol in skfp_mols])\n",
    "X_rdkit"
   ]
  },
  {
   "cell_type": "code",
   "execution_count": 15,
   "id": "022bee38-ae08-4028-9d49-b20f08fae5a5",
   "metadata": {},
   "outputs": [
    {
     "data": {
      "text/plain": [
       "array([[0, 0, 0, ..., 1, 1, 1],\n",
       "       [0, 0, 0, ..., 1, 1, 0],\n",
       "       [0, 0, 0, ..., 1, 1, 0],\n",
       "       ...,\n",
       "       [0, 0, 0, ..., 1, 1, 0],\n",
       "       [0, 0, 0, ..., 1, 1, 0],\n",
       "       [0, 0, 0, ..., 1, 1, 0]], shape=(2039, 166), dtype=uint8)"
      ]
     },
     "execution_count": 15,
     "metadata": {},
     "output_type": "execute_result"
    }
   ],
   "source": [
    "from skfp.fingerprints import MACCSFingerprint\n",
    "\n",
    "\n",
    "maccs_fp = MACCSFingerprint()\n",
    "X_skfp = maccs_fp.transform(skfp_mols)\n",
    "X_skfp"
   ]
  },
  {
   "cell_type": "markdown",
   "id": "02551bab-bd06-4c1a-a24d-30d861c5d945",
   "metadata": {},
   "source": [
    "One very nice thing about scikit-fingerprints is **full parallelism support**. You can pass `n_jobs` to any fingerprint, and it will be computed on that many cores. It can really speed up computation, particularly for computationally expensive fingerprints, like substructure ones, which have to check many SMARTS patterns.\n",
    "\n",
    "Let's see a comparison on Laggner fingerprint, which computes 307 functional groups. SIDER dataset is used here, as it is larger - BBBP is too small to really benefit from parallelism."
   ]
  },
  {
   "cell_type": "code",
   "execution_count": 18,
   "id": "74a06dcd-229c-47c9-b845-c29fb444bc59",
   "metadata": {},
   "outputs": [
    {
     "name": "stdout",
     "output_type": "stream",
     "text": [
      "Sequential time: 2.404113292694092\n",
      "Parallel time: 0.5672016143798828\n"
     ]
    }
   ],
   "source": [
    "from time import time\n",
    "from skfp.fingerprints import LaggnerFingerprint\n",
    "\n",
    "\n",
    "laggner_fp = LaggnerFingerprint()\n",
    "\n",
    "start = time()\n",
    "laggner_fp.transform(mols_sider)\n",
    "end = time()\n",
    "print(f\"Sequential time: {end - start}\")\n",
    "\n",
    "# -1 uses as many processes as you have cores\n",
    "laggner_fp = LaggnerFingerprint(n_jobs=-1)\n",
    "\n",
    "start = time()\n",
    "laggner_fp.transform(mols_sider)\n",
    "end = time()\n",
    "print(f\"Parallel time: {end - start}\")"
   ]
  },
  {
   "cell_type": "markdown",
   "id": "e5072b03-bd69-4a52-b0ba-8af91f1c8702",
   "metadata": {},
   "source": [
    "If you want to inspect feature names for substructural fingerprints, it's more or less impossible with RDKit, or at least very challenging. Scikit-fingerprints exposes them with standard `.get_feature_names_out()` method.\n",
    "\n",
    "This also enables great integrations with scikit-learn + Pandas or Polars, since DataFrames get feature names out-of-the-box."
   ]
  },
  {
   "cell_type": "code",
   "execution_count": 20,
   "id": "160e8a8c-b8e4-4fa7-bbf2-d361457d667b",
   "metadata": {
    "scrolled": true
   },
   "outputs": [
    {
     "data": {
      "text/plain": [
       "array(['Primary_carbon', 'Secondary_carbon', 'Tertiary_carbon',\n",
       "       'Quaternary_carbon', 'Alkene', 'Alkyne', 'Allene', 'Alkylchloride',\n",
       "       'Alkylfluoride', 'Alkylbromide', 'Alkyliodide', 'Alcohol',\n",
       "       'Primary_alcohol', 'Secondary_alcohol', 'Tertiary_alcohol',\n",
       "       'Dialkylether', 'Dialkylthioether (aliphatic O)', 'Alkylarylether',\n",
       "       'Diarylether', 'Alkylarylthioether (aliphatic S)',\n",
       "       'Diarylthioether', 'Oxonium', 'Amine', 'Primary_aliph_amine',\n",
       "       'Secondary_aliph_amine', 'Tertiary_aliph_amine',\n",
       "       'Quaternary_aliph_ammonium', 'Primary_arom_amine',\n",
       "       'Secondary_arom_amine', 'Tertiary_arom_amine',\n",
       "       'Quaternary_arom_ammonium', 'Secondary_mixed_amine',\n",
       "       'Tertiary_mixed_amine', 'Quaternary_mixed_ammonium', 'Ammonium',\n",
       "       'Alkylthiol', 'Dialkylthioether (aliphatic S)',\n",
       "       'Alkylarylthioether (aliphatic O)', 'Disulfide',\n",
       "       '1,2-Aminoalcohol', '1,2-Diol', '1,1-Diol', 'Hydroperoxide',\n",
       "       'Peroxo', 'Organolithium_compounds', 'Organomagnesium_compounds',\n",
       "       'Organometallic_compounds', 'Aldehyde', 'Ketone', 'Thioaldehyde',\n",
       "       'Thioketone', 'Imine', 'Immonium', 'Oxime', 'Oximether', 'Acetal',\n",
       "       'Hemiacetal', 'Aminal', 'Hemiaminal', 'Thioacetal',\n",
       "       'Thiohemiacetal', 'Halogen_acetal_like', 'Acetal_like',\n",
       "       'Halogenmethylen_ester_and_similar',\n",
       "       'NOS_methylen_ester_and_similar',\n",
       "       'Hetero_methylen_ester_and_similar', 'Cyanhydrine', 'Chloroalkene',\n",
       "       'Fluoroalkene', 'Bromoalkene', 'Iodoalkene', 'Enol', 'Endiol',\n",
       "       'Enolether', 'Enolester', 'Enamine', 'Thioenol', 'Thioenolether',\n",
       "       'Acylchloride', 'Acylfluoride', 'Acylbromide', 'Acyliodide',\n",
       "       'Acylhalide', 'Carboxylic_acid', 'Carboxylic_ester', 'Lactone',\n",
       "       'Carboxylic_anhydride', 'Carboxylic_acid_derivative',\n",
       "       'Carbothioic_acid', 'Carbothioic_S_ester', 'Carbothioic_S_lactone',\n",
       "       'Carbothioic_O_ester', 'Carbothioic_O_lactone',\n",
       "       'Carbothioic_halide', 'Carbodithioic_acid', 'Carbodithioic_ester',\n",
       "       'Carbodithiolactone', 'Amide', 'Primary_amide', 'Secondary_amide',\n",
       "       'Tertiary_amide', 'Lactam', 'Alkyl_imide', 'N_hetero_imide',\n",
       "       'Imide_acidic', 'Thioamide', 'Thiolactam', 'Oximester',\n",
       "       'Amidine (basic, not part of aromatic ring)', 'Hydroxamic_acid',\n",
       "       'Hydroxamic_acid_ester', 'Imidoacid', 'Imidoacid_cyclic',\n",
       "       'Imidoester', 'Imidolactone', 'Imidothioacid',\n",
       "       'Imidothioacid_cyclic', 'Imidothioester', 'Imidothiolactone',\n",
       "       'Amidine (not substituted by carbonyl or thiocarbonyl, not part of a ring)',\n",
       "       'Imidolactam', 'Imidoylhalide', 'Imidoylhalide_cyclic',\n",
       "       'Amidrazone', 'Alpha_aminoacid', 'Alpha_hydroxyacid',\n",
       "       'Peptide_middle', 'Peptide_C_term', 'Peptide_N_term',\n",
       "       'Carboxylic_orthoester', 'Ketene', 'Ketenacetal', 'Nitrile',\n",
       "       'Isonitrile', 'Vinylogous_carbonyl_or_carboxyl_derivative',\n",
       "       'Vinylogous_acid', 'Vinylogous_ester', 'Vinylogous_amide',\n",
       "       'Vinylogous_halide', 'Carbonic_acid_dieester',\n",
       "       'Carbonic_acid_esterhalide', 'Carbonic_acid_monoester',\n",
       "       'Carbonic_acid_derivatives', 'Thiocarbonic_acid_dieester',\n",
       "       'Thiocarbonic_acid_esterhalide', 'Thiocarbonic_acid_monoester',\n",
       "       'Urea', 'Thiourea', 'Isourea', 'Isothiourea', 'Guanidine',\n",
       "       'Carbaminic_acid', 'Urethan', 'Biuret', 'Semicarbazide',\n",
       "       'Carbazide', 'Semicarbazone', 'Carbazone', 'Thiosemicarbazide',\n",
       "       'Thiocarbazide', 'Thiosemicarbazone', 'Thiocarbazone',\n",
       "       'Isocyanate', 'Cyanate', 'Isothiocyanate', 'Thiocyanate',\n",
       "       'Carbodiimide', 'Orthocarbonic_derivatives', 'Phenol',\n",
       "       '1,2-Diphenol', 'Arylchloride', 'Arylfluoride', 'Arylbromide',\n",
       "       'Aryliodide', 'Arylthiol', 'Iminoarene', 'Oxoarene', 'Thioarene',\n",
       "       'Hetero_N_basic_H', 'Hetero_N_basic_no_H', 'Hetero_N_nonbasic',\n",
       "       'Hetero_O', 'Hetero_S', 'Heteroaromatic', 'Nitrite', 'Thionitrite',\n",
       "       'Nitrate', 'Nitro', 'Nitroso', 'Azide', 'Acylazide', 'Diazo',\n",
       "       'Diazonium', 'Nitrosamine', 'Nitrosamide', 'N-Oxide', 'Hydrazine',\n",
       "       'Hydrazone', 'Hydroxylamine', 'Sulfon', 'Sulfoxide', 'Sulfonium',\n",
       "       'Sulfuric_acid', 'Sulfuric_monoester', 'Sulfuric_diester',\n",
       "       'Sulfuric_monoamide', 'Sulfuric_diamide', 'Sulfuric_esteramide',\n",
       "       'Sulfuric_derivative', 'Sulfonic_acid', 'Sulfonamide',\n",
       "       'Sulfonic_ester', 'Sulfonic_halide', 'Sulfonic_derivative',\n",
       "       'Sulfinic_acid', 'Sulfinic_amide', 'Sulfinic_ester',\n",
       "       'Sulfinic_halide', 'Sulfinic_derivative', 'Sulfenic_acid',\n",
       "       'Sulfenic_amide', 'Sulfenic_ester', 'Sulfenic_halide',\n",
       "       'Sulfenic_derivative', 'Phosphine', 'Phosphine_oxide',\n",
       "       'Phosphonium', 'Phosphorylen', 'Phosphonic_acid',\n",
       "       'Phosphonic_monoester', 'Phosphonic_diester',\n",
       "       'Phosphonic_monoamide', 'Phosphonic_diamide',\n",
       "       'Phosphonic_esteramide', 'Phosphonic_acid_derivative',\n",
       "       'Phosphoric_acid', 'Phosphoric_monoester', 'Phosphoric_diester',\n",
       "       'Phosphoric_triester', 'Phosphoric_monoamide',\n",
       "       'Phosphoric_diamide', 'Phosphoric_triamide',\n",
       "       'Phosphoric_monoestermonoamide', 'Phosphoric_diestermonoamide',\n",
       "       'Phosphoric_monoesterdiamide', 'Phosphoric_acid_derivative',\n",
       "       'Phosphinic_acid', 'Phosphinic_ester', 'Phosphinic_amide',\n",
       "       'Phosphinic_acid_derivative', 'Phosphonous_acid',\n",
       "       'Phosphonous_monoester', 'Phosphonous_diester',\n",
       "       'Phosphonous_monoamide', 'Phosphonous_diamide',\n",
       "       'Phosphonous_esteramide', 'Phosphonous_derivatives',\n",
       "       'Phosphinous_acid', 'Phosphinous_ester', 'Phosphinous_amide',\n",
       "       'Phosphinous_derivatives', 'Quart_silane', 'Non-quart_silane',\n",
       "       'Silylmonohalide', 'Het_trialkylsilane', 'Dihet_dialkylsilane',\n",
       "       'Trihet_alkylsilane', 'Silicic_acid_derivative', 'Trialkylborane',\n",
       "       'Boric_acid_derivatives', 'Boronic_acid_derivative', 'Borohydride',\n",
       "       'Quaternary_boron', 'Aromatic', 'Heterocyclic', 'Epoxide',\n",
       "       'NH_aziridine', 'Spiro', 'Annelated_rings', 'Bridged_rings',\n",
       "       'Sugar_pattern_1', 'Sugar_pattern_2', 'Sugar_pattern_combi',\n",
       "       'Sugar_pattern_2_reducing', 'Sugar_pattern_2_alpha',\n",
       "       'Sugar_pattern_2_beta', 'Conjugated_double_bond',\n",
       "       'Conjugated_tripple_bond', 'Cis_double_bond', 'Trans_double_bond',\n",
       "       'Mixed_anhydrides', 'Halogen_on_hetero', 'Halogen_multi_subst',\n",
       "       'Trifluoromethyl', 'C_ONS_bond', 'Charged', 'Anion', 'Kation',\n",
       "       'Salt', '1,3-Tautomerizable', '1,5-Tautomerizable',\n",
       "       'Rotatable_bond', 'Michael_acceptor', 'Dicarbodiazene',\n",
       "       'CH-acidic', 'CH-acidic_strong', 'Chiral_center_specified'],\n",
       "      dtype=object)"
      ]
     },
     "execution_count": 20,
     "metadata": {},
     "output_type": "execute_result"
    }
   ],
   "source": [
    "laggner_fp.get_feature_names_out()"
   ]
  },
  {
   "cell_type": "markdown",
   "id": "0ef44034-b1ac-4cbd-9002-c5722ee2a151",
   "metadata": {},
   "source": [
    "Let's do some machine learning now! At this point, molecules are turned into feature vectors and any tabular ML algorithm works.\n",
    "\n",
    "We could use [scaffold split](https://scikit-fingerprints.readthedocs.io/latest/modules/generated/skfp.model_selection.scaffold_train_test_split.html) to create train and test sets. For many benchmarks, however, indexes are already precomputed for fair comparison, e.g. in [Open Graph Benchmark (OGB)](https://scikit-fingerprints.readthedocs.io/latest/modules/datasets/generated/skfp.datasets.moleculenet.load_ogb_splits.html) for MoleculeNet datasets."
   ]
  },
  {
   "cell_type": "code",
   "execution_count": 27,
   "id": "e10d1217-b117-476b-b7a2-f61676457b27",
   "metadata": {},
   "outputs": [
    {
     "name": "stdout",
     "output_type": "stream",
     "text": [
      "AUROC: 70.23%\n"
     ]
    }
   ],
   "source": [
    "from skfp.datasets.moleculenet import load_ogb_splits\n",
    "from sklearn.ensemble import RandomForestClassifier\n",
    "from sklearn.metrics import roc_auc_score\n",
    "\n",
    "\n",
    "train_idxs, valid_idxs, test_idxs = load_ogb_splits(dataset_name=\"BBBP\")\n",
    "\n",
    "# we don't tune anything, so let's merge training and validation\n",
    "train_idxs = train_idxs + valid_idxs\n",
    "\n",
    "ecfp_fp = ECFPFingerprint()\n",
    "X = ecfp_fp.transform(skfp_mols)\n",
    "\n",
    "X_train = X[train_idxs]\n",
    "y_train = skfp_labels[train_idxs]\n",
    "\n",
    "X_test = X[test_idxs]\n",
    "y_test = skfp_labels[test_idxs]\n",
    "\n",
    "clf = RandomForestClassifier(n_jobs=-1, random_state=0)\n",
    "clf.fit(X_train, y_train)\n",
    "\n",
    "y_pred_proba = clf.predict_proba(X_test)[:, 1]\n",
    "\n",
    "auroc = roc_auc_score(y_test, y_pred_proba)\n",
    "print(f\"AUROC: {auroc:.2%}\")"
   ]
  },
  {
   "cell_type": "markdown",
   "id": "c59a17b6-032f-413d-bde6-f7bd288426f3",
   "metadata": {},
   "source": [
    "But we can simplify that! With RDKit, you have to do as above: SMILES -> Mol -> fingerprint -> array, and only then do ML. But what if you want to:\n",
    "\n",
    "- change fingerprint hyperparameters, e.g. ECFP radius?\n",
    "- tune hyperparameters of both fingerprint and model?\n",
    "- serialize this after training, and load on production server?\n",
    "\n"
   ]
  },
  {
   "cell_type": "markdown",
   "id": "d4811a62-c777-4a6a-ba38-457f4fcd1e1a",
   "metadata": {},
   "source": [
    "## Distances"
   ]
  },
  {
   "cell_type": "code",
   "execution_count": null,
   "id": "0331a081-79c2-408f-b04a-17187bde0970",
   "metadata": {},
   "outputs": [],
   "source": []
  },
  {
   "cell_type": "code",
   "execution_count": null,
   "id": "c15ef136-55b4-44f3-944b-54adc424e641",
   "metadata": {},
   "outputs": [],
   "source": []
  }
 ],
 "metadata": {
  "kernelspec": {
   "display_name": "Python 3 (ipykernel)",
   "language": "python",
   "name": "python3"
  },
  "language_info": {
   "codemirror_mode": {
    "name": "ipython",
    "version": 3
   },
   "file_extension": ".py",
   "mimetype": "text/x-python",
   "name": "python",
   "nbconvert_exporter": "python",
   "pygments_lexer": "ipython3",
   "version": "3.12.11"
  }
 },
 "nbformat": 4,
 "nbformat_minor": 5
}

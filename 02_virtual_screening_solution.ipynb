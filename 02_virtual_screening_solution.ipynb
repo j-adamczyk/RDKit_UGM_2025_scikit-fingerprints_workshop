{
 "cells": [
  {
   "cell_type": "markdown",
   "id": "65e1b9bc-0458-4545-a504-cdb9e99919ac",
   "metadata": {
    "collapsed": true,
    "jupyter": {
     "outputs_hidden": true
    }
   },
   "source": [
    "# Virtual screening"
   ]
  },
  {
   "cell_type": "markdown",
   "id": "41c4c827-7387-4077-b924-1efc467addf4",
   "metadata": {},
   "source": [
    "Ligand-based virtual screening (LBVS) involves predicting bioactivity of large collections of compounds. It involves multiple steps, which are quite easy to perform with scikit-fingerprints.\n",
    "\n",
    "Notebook inspired by [Tutorial for the Teach-Discover-Treat (TDT) Competition 2014](https://github.com/sriniker/TDT-tutorial-2014/tree/master) by Sereina Riniker and Gregory Landrum.\n",
    "\n",
    "First, we will load the Malaria HTS dataset from the above competition. It was created in a series of high-throughput screening (HTS) campaigns from around 2010-2012. It contains an already binarized bioactivity labels.\n",
    "\n",
    "For shorter calculations in this tutorial, we will subsample the negative class to 100 thousand samples."
   ]
  },
  {
   "cell_type": "code",
   "execution_count": 1,
   "id": "4d5ad9214c50edb4",
   "metadata": {
    "ExecuteTime": {
     "end_time": "2025-08-30T11:29:28.279290Z",
     "start_time": "2025-08-30T11:29:27.914663Z"
    }
   },
   "outputs": [
    {
     "name": "stdout",
     "output_type": "stream",
     "text": [
      "Positive samples: 1528\n",
      "Negative samples: 100000\n",
      "Shapes: SMILES list 101528, labels 101528\n"
     ]
    }
   ],
   "source": [
    "import pandas as pd\n",
    "import numpy as np\n",
    "\n",
    "\n",
    "df = pd.read_parquet(\"data/malaria_hts_train.parquet\")\n",
    "\n",
    "# remove ambiguous labels\n",
    "df = df[df[\"label\"] != \"ambiguous\"]\n",
    "\n",
    "# get binary integer labels\n",
    "df[\"label\"] = df[\"label\"].map({\"false\": 0, \"true\": 1})\n",
    "\n",
    "smiles_list = df[\"SMILES\"].values\n",
    "labels = df[\"label\"].values\n",
    "\n",
    "# subsample\n",
    "pos_idx = np.where(labels == 1)[0]\n",
    "neg_idx = np.random.choice(np.where(labels == 0)[0], size=100_000, replace=False)\n",
    "idx = np.concatenate([pos_idx, neg_idx])\n",
    "smiles_list = smiles_list[idx].tolist()\n",
    "labels = labels[idx]\n",
    "\n",
    "print(f\"Positive samples: {len(pos_idx)}\")\n",
    "print(f\"Negative samples: {len(neg_idx)}\")\n",
    "print(f\"Shapes: SMILES list {len(smiles_list)}, labels {len(labels)}\")"
   ]
  },
  {
   "cell_type": "markdown",
   "id": "d97a9613ee1c3512",
   "metadata": {},
   "source": [
    "**Exercise 1**\n",
    "\n",
    "This dataset contains some invalid molecules, e.g. breaking valence rules in modern RDKit. Use `MolFromSmilesTransformer`, and note that:\n",
    "- some molecules may error out, so use `valid_only` and `.transform_x_y()`\n",
    "- you can parallelize it with `n_jobs` and `batch_size` for efficiency, just like fingerprints.\n",
    "\n",
    "Use [documentation](https://scikit-fingerprints.readthedocs.io/latest/api_reference.html) if necessary."
   ]
  },
  {
   "cell_type": "code",
   "execution_count": 2,
   "id": "141063ec9a917a38",
   "metadata": {
    "ExecuteTime": {
     "end_time": "2025-08-30T11:29:33.917261Z",
     "start_time": "2025-08-30T11:29:28.373885Z"
    }
   },
   "outputs": [
    {
     "data": {
      "application/vnd.jupyter.widget-view+json": {
       "model_id": "9f9981e9374f471ba32aa2edaece356e",
       "version_major": 2,
       "version_minor": 0
      },
      "text/plain": [
       "  0%|          | 0/101 [00:00<?, ?it/s]"
      ]
     },
     "metadata": {},
     "output_type": "display_data"
    },
    {
     "name": "stdout",
     "output_type": "stream",
     "text": [
      "Removed molecules: 0\n"
     ]
    }
   ],
   "source": [
    "from skfp.preprocessing import MolFromSmilesTransformer\n",
    "\n",
    "mol_from_smiles = MolFromSmilesTransformer(\n",
    "    valid_only=True, n_jobs=-1, batch_size=1000, verbose=True\n",
    ")\n",
    "\n",
    "mols, labels = mol_from_smiles.transform_x_y(smiles_list, labels)\n",
    "\n",
    "print(f\"Removed molecules: {len(smiles_list) - len(mols)}\")"
   ]
  },
  {
   "cell_type": "markdown",
   "id": "9b7f68a9-8cfd-4069-bb87-f6f865b454ba",
   "metadata": {},
   "source": [
    "## Molecular filters"
   ]
  },
  {
   "cell_type": "markdown",
   "id": "49f95a68-45e2-490d-8f0b-a2748d174333",
   "metadata": {},
   "source": [
    "Typically, in LBVS we have huge collections of molecules. Many of those are highly reactive, promiscuous compounds, dyes, or contain toxic functional groups. Thus, we use **molecular filters** to remove them. They are sets of rules to remove unwanted compounds.\n",
    "\n",
    "They can be divided into 2 groups:\n",
    "\n",
    "1. **Physicochemical filters** - define allowed ranges of physicochemical descriptors (e.g. molecular weight, logP, HBA, HBD) and keep only molecules fulfilling those requirements. Examples include [Lipinski's rule of 5](https://scikit-fingerprints.readthedocs.io/latest/modules/generated/skfp.filters.LipinskiFilter.html#skfp.filters.LipinskiFilter) and [REOS](https://scikit-fingerprints.readthedocs.io/latest/modules/generated/skfp.filters.REOSFilter.html#skfp.filters.REOSFilter).\n",
    "\n",
    "2. **Substructural filters** - define unwanted substructures with SMARTS and keep only molecules that do not contain those patterns. Examples include [PAINS](https://scikit-fingerprints.readthedocs.io/latest/modules/generated/skfp.filters.PAINSFilter.html) and [Brenk filter](https://scikit-fingerprints.readthedocs.io/latest/modules/generated/skfp.filters.BrenkFilter.html).\n",
    "\n",
    "RDKit contains 10 substructural filters, but no physicochemical filters. Scikit-fingerprints implements 31 filters, 21 physicochemical and 10 substructural. API is based on [feature-engine](https://feature-engine.trainindata.com/en/latest/) and other scikit-learn compatible libraries for preprocessing data.\n",
    "\n",
    "Let's see an example for a substructural filter with RDKit."
   ]
  },
  {
   "cell_type": "code",
   "execution_count": 3,
   "id": "76d9ff63-5f14-4ad1-ae9d-e65991c7bba0",
   "metadata": {},
   "outputs": [
    {
     "name": "stderr",
     "output_type": "stream",
     "text": [
      "<frozen importlib._bootstrap>:488: RuntimeWarning: to-Python converter for boost::shared_ptr<RDKit::FilterHierarchyMatcher> already registered; second conversion method ignored.\n",
      "<frozen importlib._bootstrap>:488: RuntimeWarning: to-Python converter for boost::shared_ptr<RDKit::FilterCatalogEntry> already registered; second conversion method ignored.\n"
     ]
    },
    {
     "data": {
      "application/vnd.jupyter.widget-view+json": {
       "model_id": "ca89cbe89bb1449491a564d4e6c13619",
       "version_major": 2,
       "version_minor": 0
      },
      "text/plain": [
       "  0%|          | 0/101528 [00:00<?, ?it/s]"
      ]
     },
     "metadata": {},
     "output_type": "display_data"
    }
   ],
   "source": [
    "from rdkit.Chem import FilterCatalog\n",
    "from rdkit.Chem.rdfiltercatalog import FilterCatalogParams\n",
    "from tqdm.notebook import tqdm\n",
    "\n",
    "filter_catalog_pains_a = FilterCatalogParams.FilterCatalogs.PAINS_A\n",
    "params = FilterCatalog.FilterCatalogParams()\n",
    "params.AddCatalog(filter_catalog_pains_a)\n",
    "filters = FilterCatalog.FilterCatalog(params)\n",
    "\n",
    "mols_filtered_rdkit = []\n",
    "labels_filtered_rdkit = []\n",
    "for mol, label in tqdm(zip(mols, labels), total=len(mols)):\n",
    "    matches = filters.GetMatches(mol)\n",
    "    if not matches:\n",
    "        mols_filtered_rdkit.append(mol)\n",
    "        labels_filtered_rdkit.append(label)\n"
   ]
  },
  {
   "cell_type": "markdown",
   "id": "81a76863-7855-4dc8-b524-3d1d79033e91",
   "metadata": {},
   "source": [
    "And with scikit-fingerprints:"
   ]
  },
  {
   "cell_type": "code",
   "execution_count": 4,
   "id": "946b802e-9a63-459f-ae18-8c47f9f479e2",
   "metadata": {
    "scrolled": true
   },
   "outputs": [
    {
     "data": {
      "application/vnd.jupyter.widget-view+json": {
       "model_id": "dbdc2064eb1d4dbba188c518f2934703",
       "version_major": 2,
       "version_minor": 0
      },
      "text/plain": [
       "  0%|          | 0/32 [00:00<?, ?it/s]"
      ]
     },
     "metadata": {},
     "output_type": "display_data"
    },
    {
     "name": "stderr",
     "output_type": "stream",
     "text": [
      "<frozen importlib._bootstrap>:488: RuntimeWarning: to-Python converter for boost::shared_ptr<RDKit::FilterHierarchyMatcher> already registered; second conversion method ignored.\n",
      "<frozen importlib._bootstrap>:488: RuntimeWarning: to-Python converter for boost::shared_ptr<RDKit::FilterCatalogEntry> already registered; second conversion method ignored.\n",
      "<frozen importlib._bootstrap>:488: RuntimeWarning: to-Python converter for boost::shared_ptr<RDKit::FilterHierarchyMatcher> already registered; second conversion method ignored.\n",
      "<frozen importlib._bootstrap>:488: RuntimeWarning: to-Python converter for boost::shared_ptr<RDKit::FilterCatalogEntry> already registered; second conversion method ignored.\n",
      "<frozen importlib._bootstrap>:488: RuntimeWarning: to-Python converter for boost::shared_ptr<RDKit::FilterHierarchyMatcher> already registered; second conversion method ignored.\n",
      "<frozen importlib._bootstrap>:488: RuntimeWarning: to-Python converter for boost::shared_ptr<RDKit::FilterCatalogEntry> already registered; second conversion method ignored.\n",
      "<frozen importlib._bootstrap>:488: RuntimeWarning: to-Python converter for boost::shared_ptr<RDKit::FilterHierarchyMatcher> already registered; second conversion method ignored.\n",
      "<frozen importlib._bootstrap>:488: RuntimeWarning: to-Python converter for boost::shared_ptr<RDKit::FilterCatalogEntry> already registered; second conversion method ignored.\n",
      "<frozen importlib._bootstrap>:488: RuntimeWarning: to-Python converter for boost::shared_ptr<RDKit::FilterHierarchyMatcher> already registered; second conversion method ignored.\n",
      "<frozen importlib._bootstrap>:488: RuntimeWarning: to-Python converter for boost::shared_ptr<RDKit::FilterCatalogEntry> already registered; second conversion method ignored.\n",
      "<frozen importlib._bootstrap>:488: RuntimeWarning: to-Python converter for boost::shared_ptr<RDKit::FilterHierarchyMatcher> already registered; second conversion method ignored.\n",
      "<frozen importlib._bootstrap>:488: RuntimeWarning: to-Python converter for boost::shared_ptr<RDKit::FilterCatalogEntry> already registered; second conversion method ignored.\n",
      "<frozen importlib._bootstrap>:488: RuntimeWarning: to-Python converter for boost::shared_ptr<RDKit::FilterHierarchyMatcher> already registered; second conversion method ignored.\n",
      "<frozen importlib._bootstrap>:488: RuntimeWarning: to-Python converter for boost::shared_ptr<RDKit::FilterCatalogEntry> already registered; second conversion method ignored.\n",
      "<frozen importlib._bootstrap>:488: RuntimeWarning: to-Python converter for boost::shared_ptr<RDKit::FilterHierarchyMatcher> already registered; second conversion method ignored.\n",
      "<frozen importlib._bootstrap>:488: RuntimeWarning: to-Python converter for boost::shared_ptr<RDKit::FilterCatalogEntry> already registered; second conversion method ignored.\n",
      "<frozen importlib._bootstrap>:488: RuntimeWarning: to-Python converter for boost::shared_ptr<RDKit::FilterHierarchyMatcher> already registered; second conversion method ignored.\n",
      "<frozen importlib._bootstrap>:488: RuntimeWarning: to-Python converter for boost::shared_ptr<RDKit::FilterCatalogEntry> already registered; second conversion method ignored.\n",
      "<frozen importlib._bootstrap>:488: RuntimeWarning: to-Python converter for boost::shared_ptr<RDKit::FilterHierarchyMatcher> already registered; second conversion method ignored.\n",
      "<frozen importlib._bootstrap>:488: RuntimeWarning: to-Python converter for boost::shared_ptr<RDKit::FilterCatalogEntry> already registered; second conversion method ignored.\n",
      "<frozen importlib._bootstrap>:488: RuntimeWarning: to-Python converter for boost::shared_ptr<RDKit::FilterHierarchyMatcher> already registered; second conversion method ignored.\n",
      "<frozen importlib._bootstrap>:488: RuntimeWarning: to-Python converter for boost::shared_ptr<RDKit::FilterCatalogEntry> already registered; second conversion method ignored.\n",
      "<frozen importlib._bootstrap>:488: RuntimeWarning: to-Python converter for boost::shared_ptr<RDKit::FilterHierarchyMatcher> already registered; second conversion method ignored.\n",
      "<frozen importlib._bootstrap>:488: RuntimeWarning: to-Python converter for boost::shared_ptr<RDKit::FilterCatalogEntry> already registered; second conversion method ignored.\n",
      "<frozen importlib._bootstrap>:488: RuntimeWarning: to-Python converter for boost::shared_ptr<RDKit::FilterHierarchyMatcher> already registered; second conversion method ignored.\n",
      "<frozen importlib._bootstrap>:488: RuntimeWarning: to-Python converter for boost::shared_ptr<RDKit::FilterCatalogEntry> already registered; second conversion method ignored.\n",
      "<frozen importlib._bootstrap>:488: RuntimeWarning: to-Python converter for boost::shared_ptr<RDKit::FilterHierarchyMatcher> already registered; second conversion method ignored.\n",
      "<frozen importlib._bootstrap>:488: RuntimeWarning: to-Python converter for boost::shared_ptr<RDKit::FilterCatalogEntry> already registered; second conversion method ignored.\n",
      "<frozen importlib._bootstrap>:488: RuntimeWarning: to-Python converter for boost::shared_ptr<RDKit::FilterHierarchyMatcher> already registered; second conversion method ignored.\n",
      "<frozen importlib._bootstrap>:488: RuntimeWarning: to-Python converter for boost::shared_ptr<RDKit::FilterCatalogEntry> already registered; second conversion method ignored.\n",
      "<frozen importlib._bootstrap>:488: RuntimeWarning: to-Python converter for boost::shared_ptr<RDKit::FilterHierarchyMatcher> already registered; second conversion method ignored.\n",
      "<frozen importlib._bootstrap>:488: RuntimeWarning: to-Python converter for boost::shared_ptr<RDKit::FilterCatalogEntry> already registered; second conversion method ignored.\n",
      "<frozen importlib._bootstrap>:488: RuntimeWarning: to-Python converter for boost::shared_ptr<RDKit::FilterHierarchyMatcher> already registered; second conversion method ignored.\n",
      "<frozen importlib._bootstrap>:488: RuntimeWarning: to-Python converter for boost::shared_ptr<RDKit::FilterCatalogEntry> already registered; second conversion method ignored.\n",
      "<frozen importlib._bootstrap>:488: RuntimeWarning: to-Python converter for boost::shared_ptr<RDKit::FilterHierarchyMatcher> already registered; second conversion method ignored.\n",
      "<frozen importlib._bootstrap>:488: RuntimeWarning: to-Python converter for boost::shared_ptr<RDKit::FilterCatalogEntry> already registered; second conversion method ignored.\n",
      "<frozen importlib._bootstrap>:488: RuntimeWarning: to-Python converter for boost::shared_ptr<RDKit::FilterHierarchyMatcher> already registered; second conversion method ignored.\n",
      "<frozen importlib._bootstrap>:488: RuntimeWarning: to-Python converter for boost::shared_ptr<RDKit::FilterCatalogEntry> already registered; second conversion method ignored.\n",
      "<frozen importlib._bootstrap>:488: RuntimeWarning: to-Python converter for boost::shared_ptr<RDKit::FilterHierarchyMatcher> already registered; second conversion method ignored.\n",
      "<frozen importlib._bootstrap>:488: RuntimeWarning: to-Python converter for boost::shared_ptr<RDKit::FilterCatalogEntry> already registered; second conversion method ignored.\n",
      "<frozen importlib._bootstrap>:488: RuntimeWarning: to-Python converter for boost::shared_ptr<RDKit::FilterHierarchyMatcher> already registered; second conversion method ignored.\n",
      "<frozen importlib._bootstrap>:488: RuntimeWarning: to-Python converter for boost::shared_ptr<RDKit::FilterCatalogEntry> already registered; second conversion method ignored.\n",
      "<frozen importlib._bootstrap>:488: RuntimeWarning: to-Python converter for boost::shared_ptr<RDKit::FilterHierarchyMatcher> already registered; second conversion method ignored.\n",
      "<frozen importlib._bootstrap>:488: RuntimeWarning: to-Python converter for boost::shared_ptr<RDKit::FilterCatalogEntry> already registered; second conversion method ignored.\n",
      "<frozen importlib._bootstrap>:488: RuntimeWarning: to-Python converter for boost::shared_ptr<RDKit::FilterHierarchyMatcher> already registered; second conversion method ignored.\n",
      "<frozen importlib._bootstrap>:488: RuntimeWarning: to-Python converter for boost::shared_ptr<RDKit::FilterCatalogEntry> already registered; second conversion method ignored.\n",
      "<frozen importlib._bootstrap>:488: RuntimeWarning: to-Python converter for boost::shared_ptr<RDKit::FilterHierarchyMatcher> already registered; second conversion method ignored.\n",
      "<frozen importlib._bootstrap>:488: RuntimeWarning: to-Python converter for boost::shared_ptr<RDKit::FilterCatalogEntry> already registered; second conversion method ignored.\n",
      "<frozen importlib._bootstrap>:488: RuntimeWarning: to-Python converter for boost::shared_ptr<RDKit::FilterHierarchyMatcher> already registered; second conversion method ignored.\n",
      "<frozen importlib._bootstrap>:488: RuntimeWarning: to-Python converter for boost::shared_ptr<RDKit::FilterCatalogEntry> already registered; second conversion method ignored.\n",
      "<frozen importlib._bootstrap>:488: RuntimeWarning: to-Python converter for boost::shared_ptr<RDKit::FilterHierarchyMatcher> already registered; second conversion method ignored.\n",
      "<frozen importlib._bootstrap>:488: RuntimeWarning: to-Python converter for boost::shared_ptr<RDKit::FilterCatalogEntry> already registered; second conversion method ignored.\n",
      "<frozen importlib._bootstrap>:488: RuntimeWarning: to-Python converter for boost::shared_ptr<RDKit::FilterHierarchyMatcher> already registered; second conversion method ignored.\n",
      "<frozen importlib._bootstrap>:488: RuntimeWarning: to-Python converter for boost::shared_ptr<RDKit::FilterCatalogEntry> already registered; second conversion method ignored.\n",
      "<frozen importlib._bootstrap>:488: RuntimeWarning: to-Python converter for boost::shared_ptr<RDKit::FilterHierarchyMatcher> already registered; second conversion method ignored.\n",
      "<frozen importlib._bootstrap>:488: RuntimeWarning: to-Python converter for boost::shared_ptr<RDKit::FilterCatalogEntry> already registered; second conversion method ignored.\n",
      "<frozen importlib._bootstrap>:488: RuntimeWarning: to-Python converter for boost::shared_ptr<RDKit::FilterHierarchyMatcher> already registered; second conversion method ignored.\n",
      "<frozen importlib._bootstrap>:488: RuntimeWarning: to-Python converter for boost::shared_ptr<RDKit::FilterCatalogEntry> already registered; second conversion method ignored.\n",
      "<frozen importlib._bootstrap>:488: RuntimeWarning: to-Python converter for boost::shared_ptr<RDKit::FilterHierarchyMatcher> already registered; second conversion method ignored.\n",
      "<frozen importlib._bootstrap>:488: RuntimeWarning: to-Python converter for boost::shared_ptr<RDKit::FilterCatalogEntry> already registered; second conversion method ignored.\n",
      "<frozen importlib._bootstrap>:488: RuntimeWarning: to-Python converter for boost::shared_ptr<RDKit::FilterHierarchyMatcher> already registered; second conversion method ignored.\n",
      "<frozen importlib._bootstrap>:488: RuntimeWarning: to-Python converter for boost::shared_ptr<RDKit::FilterCatalogEntry> already registered; second conversion method ignored.\n",
      "<frozen importlib._bootstrap>:488: RuntimeWarning: to-Python converter for boost::shared_ptr<RDKit::FilterHierarchyMatcher> already registered; second conversion method ignored.\n",
      "<frozen importlib._bootstrap>:488: RuntimeWarning: to-Python converter for boost::shared_ptr<RDKit::FilterCatalogEntry> already registered; second conversion method ignored.\n"
     ]
    }
   ],
   "source": [
    "from skfp.filters import PAINSFilter\n",
    "\n",
    "\n",
    "filter_pains = PAINSFilter(variant=\"A\", n_jobs=-1, verbose=True)\n",
    "\n",
    "mols_filtered_skfp, labels_filtered_skfp = filter_pains.transform_x_y(mols, labels)"
   ]
  },
  {
   "cell_type": "markdown",
   "id": "a62c32c36a29a776",
   "metadata": {},
   "source": [
    "### Exercise 2\n",
    "\n",
    "Lipinski's rule of 5 is arguably the first and most famous molecular filters. It is a physicochemical filter, where a molecule can violate at most one of the rules:\n",
    "\n",
    "- molecular weight $\\leq 500$\n",
    "- hydrogen bond acceptors (HBA) $\\leq 10$\n",
    "- hydrogen bond donors (HBD) $\\leq 5$\n",
    "- logP $\\leq 5$\n",
    "\n",
    "Implement the Lipinski's rule using RDKit and `for` loop, and filter molecules. Remember to also filter labels for consistency! Relevant RDKit descriptors are in [rdkit.Chem.Descriptors](https://www.rdkit.org/docs/source/rdkit.Chem.Descriptors.html), [rdkit.Chem.rdMolDescriptors](https://www.rdkit.org/docs/source/rdkit.Chem.rdMolDescriptors.html), and [rdkit.Chem.Crippen](https://www.rdkit.org/docs/source/rdkit.Chem.Crippen.html) modules.\n",
    "\n",
    "Then, use the [scikit-fingerprints LipinskiFilter](https://scikit-fingerprints.readthedocs.io/latest/modules/generated/skfp.filters.LipinskiFilter.html#skfp.filters.LipinskiFilter) and compare the two."
   ]
  },
  {
   "cell_type": "code",
   "execution_count": null,
   "id": "95f48596-7cf9-4def-ab83-046b4676a799",
   "metadata": {},
   "outputs": [],
   "source": [
    "from rdkit.Chem.Crippen import MolLogP\n",
    "from rdkit.Chem.Descriptors import MolWt\n",
    "from rdkit.Chem.rdMolDescriptors import CalcNumHBA, CalcNumHBD\n",
    "\n",
    "\n",
    "mols_filtered_rdkit = []\n",
    "labels_filtered_rdkit = []\n",
    "for mol, label in tqdm(zip(mols, labels), total=len(mols)):\n",
    "    mol_weight = MolWt(mol)\n",
    "    hba = CalcNumHBA(mol)\n",
    "    hbd = CalcNumHBD(mol)\n",
    "    logp = MolLogP(mol)\n",
    "\n",
    "    if mol_weight <= 500 and hba <= 10 and hbd <= 5 and logp <= 5:\n",
    "        mols_filtered_rdkit.append(mol)\n",
    "        labels_filtered_rdkit.append(label)\n"
   ]
  },
  {
   "cell_type": "code",
   "execution_count": null,
   "id": "63ff9ae71bcc16a3",
   "metadata": {
    "ExecuteTime": {
     "end_time": "2025-08-30T11:29:59.977884Z",
     "start_time": "2025-08-30T11:29:56.259654Z"
    },
    "scrolled": true
   },
   "outputs": [],
   "source": [
    "from skfp.filters import LipinskiFilter\n",
    "\n",
    "lipinski_filter = LipinskiFilter(n_jobs=-1, verbose=True)\n",
    "mols_filtered_skfp, labels_filtered_skfp = lipinski_filter.transform_x_y(mols, labels)"
   ]
  },
  {
   "cell_type": "markdown",
   "id": "6803bb78e46281c4",
   "metadata": {},
   "source": [
    "**Exercise 3**\n",
    "\n",
    "Scikit-learn `Pipeline` does not support `.transform_x_y()`, so in order to use multiple filters, we need to apply them one after another. A common example is using multiple PAINS sets A, B, C.\n",
    "\n",
    "Create a list of filters `PAINSFilter` with different variants A, B and C. Apply filtering on molecules and labels with all three filters one after another.\n",
    "\n",
    "Save final results in variables `mols_filtered` and `labels_filtered`, which we will use in the rest of the notebook."
   ]
  },
  {
   "cell_type": "code",
   "execution_count": null,
   "id": "f10844ef7fa56595",
   "metadata": {
    "ExecuteTime": {
     "end_time": "2025-08-30T11:30:26.993196Z",
     "start_time": "2025-08-30T11:30:00.025557Z"
    },
    "scrolled": true
   },
   "outputs": [],
   "source": [
    "from skfp.filters import PAINSFilter\n",
    "\n",
    "pains_filters = [\n",
    "    PAINSFilter(variant=\"A\", n_jobs=-1),\n",
    "    PAINSFilter(variant=\"B\", n_jobs=-1),\n",
    "    PAINSFilter(variant=\"C\", n_jobs=-1),\n",
    "]\n",
    "\n",
    "mols_filtered = mols\n",
    "labels_filtered = labels\n",
    "\n",
    "for pains_filter_variant in pains_filters:\n",
    "    mols_filtered, labels_filtered = pains_filter_variant.transform_x_y(\n",
    "        mols_filtered, labels_filtered\n",
    "    )\n"
   ]
  },
  {
   "cell_type": "markdown",
   "id": "cb2ef35e-d178-4c60-8ed5-5f220cab8d82",
   "metadata": {},
   "source": [
    "Let's check how many molecules we have after filtering:"
   ]
  },
  {
   "cell_type": "code",
   "execution_count": null,
   "id": "9c40f323c65b4d29",
   "metadata": {
    "ExecuteTime": {
     "end_time": "2025-08-30T11:30:27.001277Z",
     "start_time": "2025-08-30T11:30:26.998191Z"
    }
   },
   "outputs": [],
   "source": [
    "n_active = labels_filtered.sum()\n",
    "n_inactive = len(labels_filtered) - n_active\n",
    "\n",
    "print(f\"Number of molecules: before {len(mols)}, after {len(mols_filtered)}\")\n",
    "print(f\"Inactive molecules: {n_inactive}\")\n",
    "print(f\"Active molecules: {n_active}\")"
   ]
  },
  {
   "cell_type": "markdown",
   "id": "50a22cd1-253b-449f-85f4-137a9c9d6b55",
   "metadata": {},
   "source": [
    "## Data splits\n",
    "\n",
    "In previous notebook, we used predefined splits. For new datasets, we need to compute them explicitly. Doing this with RDKit or DeepChem requires quite a lot of boilerplate code. Let's see the scaffold split as the most popular example, computed with RDKit. Here, the test set consists of the least frequent scaffolds."
   ]
  },
  {
   "cell_type": "code",
   "execution_count": null,
   "id": "d06a073a3bcc0713",
   "metadata": {
    "ExecuteTime": {
     "end_time": "2025-08-30T11:30:37.520057Z",
     "start_time": "2025-08-30T11:30:27.043856Z"
    }
   },
   "outputs": [],
   "source": [
    "from copy import deepcopy\n",
    "from rdkit.Chem.Scaffolds import MurckoScaffold\n",
    "from rdkit import Chem\n",
    "from collections import defaultdict\n",
    "\n",
    "data_size = len(molecules)\n",
    "\n",
    "test_size = int(0.2 * data_size)\n",
    "train_size = data_size - test_size\n",
    "\n",
    "scaffold_sets = defaultdict(list)\n",
    "for idx, mol in enumerate(mols):\n",
    "    mol = deepcopy(mol)\n",
    "    Chem.RemoveStereochemistry(mol)\n",
    "    scaffold = MurckoScaffold.MurckoScaffoldSmiles(mol=mol)\n",
    "    scaffold_sets[scaffold].append(idx)\n",
    "\n",
    "# sort ascending by size of scaffold set\n",
    "scaffold_sets = list(scaffold_sets.values())\n",
    "scaffold_sets.sort(key=len)\n",
    "\n",
    "# assign the least frequent sets to test, rest to train\n",
    "train_idxs: list[int] = []\n",
    "test_idxs: list[int] = []\n",
    "for scaffold_set in scaffold_sets:\n",
    "    if len(test_idxs) < test_size:\n",
    "        test_idxs.extend(scaffold_set)\n",
    "    else:\n",
    "        train_idxs.extend(scaffold_set)\n",
    "\n",
    "mols_train = [mols[i] for i in train_idxs]\n",
    "mols_test = [mols[i] for i in test_idxs]\n",
    "\n",
    "y_train = labels[train_idxs]\n",
    "y_test = labels[test_idxs]"
   ]
  },
  {
   "cell_type": "code",
   "execution_count": null,
   "id": "a1297fa8b93419fd",
   "metadata": {
    "ExecuteTime": {
     "end_time": "2025-08-30T11:30:37.526056Z",
     "start_time": "2025-08-30T11:30:37.522055Z"
    }
   },
   "outputs": [],
   "source": [
    "len(mols_train), len(mols_test)"
   ]
  },
  {
   "cell_type": "markdown",
   "id": "327aeb1b9ec3468f",
   "metadata": {},
   "source": [
    "**Exercise 4**\n",
    "\n",
    "Scikit-fingerprints implements [5 data splitting functions](https://scikit-fingerprints.readthedocs.io/latest/modules/model_selection.html), including train-test and train-valid-test splitters.\n",
    "\n",
    "Using scikit-fingerprints, implement:\n",
    "- scaffold splitting\n",
    "- MaxMin (maximum diverisity) splitting\n",
    "\n",
    "Use 80-20% train-test proportions. Remember to set `random_state=0` for MaxMin for deterministic results.\n",
    "\n",
    "Use variable names like `mols_train_scaffold`, `mols_test_scaffold`, `mols_train_maxmin` etc."
   ]
  },
  {
   "cell_type": "code",
   "execution_count": null,
   "id": "4b98b807744b9ab0",
   "metadata": {
    "ExecuteTime": {
     "end_time": "2025-08-30T11:30:48.852988Z",
     "start_time": "2025-08-30T11:30:37.534734Z"
    }
   },
   "outputs": [],
   "source": [
    "from skfp.model_selection import maxmin_train_test_split, scaffold_train_test_split\n",
    "\n",
    "\n",
    "mols_train_scaffold, mols_test_scaffold, y_train_scaffold, y_test_scaffold = scaffold_train_valid_test_split(\n",
    "    mols, labels, test_size=0.2\n",
    ")\n",
    "mols_train_maxmin, mols_test_maxmin, y_train_maxmin, y_test_maxmin = maxmin_train_test_split(\n",
    "    mols, labels, test_size=0.2, random_state=0\n",
    ")"
   ]
  },
  {
   "cell_type": "code",
   "execution_count": null,
   "id": "14099cee-e5e3-404b-8ae0-4642a3561c97",
   "metadata": {},
   "outputs": [],
   "source": []
  },
  {
   "cell_type": "markdown",
   "id": "7e52e746-75f0-479d-9cc6-b741fabf8cf2",
   "metadata": {},
   "source": [
    "## Similarity searching LBVS"
   ]
  },
  {
   "cell_type": "code",
   "execution_count": null,
   "id": "dce0e582-a890-4b52-a180-985ff7b313ae",
   "metadata": {},
   "outputs": [],
   "source": []
  },
  {
   "cell_type": "markdown",
   "id": "101bdd7eb9ddd9bc",
   "metadata": {},
   "source": [
    "### Similarities & distances\n",
    "\n",
    "In some cases we might want to compute how similar two molecules are to each other, or how far they are in some euclidean space mapping. To do that we can compute similarity or distance using molecular fingerprints.\n",
    "\n",
    "scikit-fingerprints delivers both binary and count variants of similarity and distance computation functions.\n",
    "\n",
    "Lets try to compute similarity between two binary vectors using `tanimoto_binary_similarity`"
   ]
  },
  {
   "cell_type": "code",
   "execution_count": 16,
   "id": "2b7fa4b52ab88740",
   "metadata": {
    "ExecuteTime": {
     "end_time": "2025-08-30T11:30:48.888657Z",
     "start_time": "2025-08-30T11:30:48.885939Z"
    }
   },
   "outputs": [],
   "source": [
    "bit_vec_1 = np.array([1, 1, 0, 0])\n",
    "bit_vec_2 = np.array([0, 1, 1, 0])"
   ]
  },
  {
   "cell_type": "code",
   "execution_count": 17,
   "id": "8ebc434b8d4ec6b8",
   "metadata": {
    "ExecuteTime": {
     "end_time": "2025-08-30T11:30:49.241142Z",
     "start_time": "2025-08-30T11:30:48.898367Z"
    }
   },
   "outputs": [
    {
     "name": "stdout",
     "output_type": "stream",
     "text": [
      "similarity of binary vectors: 0.3333333333333333\n"
     ]
    }
   ],
   "source": [
    "from skfp.distances import tanimoto_binary_similarity\n",
    "\n",
    "binary_similarity = tanimoto_binary_similarity(bit_vec_1, bit_vec_2)\n",
    "\n",
    "print(f\"similarity of binary vectors: {binary_similarity}\")"
   ]
  },
  {
   "cell_type": "markdown",
   "id": "790797660b14ec62",
   "metadata": {},
   "source": [
    "If we use count vectors we need to use `tanimoto_count_similarity`"
   ]
  },
  {
   "cell_type": "code",
   "execution_count": 18,
   "id": "ab8ee9d637cb3df9",
   "metadata": {
    "ExecuteTime": {
     "end_time": "2025-08-30T11:30:49.253849Z",
     "start_time": "2025-08-30T11:30:49.251328Z"
    }
   },
   "outputs": [],
   "source": [
    "count_vec_1 = np.array([2, 3, 4, 0])\n",
    "count_vec_2 = np.array([2, 3, 4, 2])"
   ]
  },
  {
   "cell_type": "code",
   "execution_count": 19,
   "id": "30e70cc9e8fb2cff",
   "metadata": {
    "ExecuteTime": {
     "end_time": "2025-08-30T11:30:49.265200Z",
     "start_time": "2025-08-30T11:30:49.262081Z"
    }
   },
   "outputs": [
    {
     "name": "stdout",
     "output_type": "stream",
     "text": [
      "similarity of count vectors: 0.3333333333333333\n"
     ]
    }
   ],
   "source": [
    "from skfp.distances import tanimoto_count_similarity\n",
    "\n",
    "count_similarity = tanimoto_count_similarity(bit_vec_1, bit_vec_2)\n",
    "\n",
    "print(f\"similarity of count vectors: {count_similarity}\")"
   ]
  },
  {
   "cell_type": "markdown",
   "id": "b0df559dab2e4033",
   "metadata": {},
   "source": [
    "We can also use bulk similarity computation to speed up very heavy computations between two sets of molecules.\n",
    "\n",
    "If in one set we have X molecules and Y molecules in the other set, finding distances or similarities between every pair between X and Y can be very slow. scikit-fingerpirnts implementation allows us to compute them efficiently"
   ]
  },
  {
   "cell_type": "code",
   "execution_count": 20,
   "id": "5c48ab5fbe6cfd56",
   "metadata": {
    "ExecuteTime": {
     "end_time": "2025-08-30T11:30:50.212122Z",
     "start_time": "2025-08-30T11:30:49.274128Z"
    }
   },
   "outputs": [
    {
     "data": {
      "text/plain": [
       "array([[0.66666667, 0.66666667, 1.        ],\n",
       "       [0.5       , 0.5       , 0.33333333],\n",
       "       [0.66666667, 0.66666667, 1.        ]])"
      ]
     },
     "execution_count": 20,
     "metadata": {},
     "output_type": "execute_result"
    }
   ],
   "source": [
    "from skfp.distances.tanimoto import (\n",
    "    bulk_tanimoto_binary_similarity\n",
    ")\n",
    "\n",
    "arr_1 = np.array(\n",
    "    [\n",
    "        [1, 1, 1],\n",
    "        [0, 0, 1],\n",
    "        [1, 1, 1],\n",
    "    ]\n",
    ")\n",
    "\n",
    "arr_2 = np.array(\n",
    "    [\n",
    "        [1, 0, 1],\n",
    "        [0, 1, 1],\n",
    "        [1, 1, 1],\n",
    "    ]\n",
    ")\n",
    "\n",
    "sim = bulk_tanimoto_binary_similarity(arr_1, arr_2)\n",
    "sim"
   ]
  },
  {
   "cell_type": "markdown",
   "id": "780bab6936d12f4e",
   "metadata": {},
   "source": [
    "Sometimes we want to compute similarity between every two molcules in a dataset. We can compute that by passing just one argument."
   ]
  },
  {
   "cell_type": "code",
   "execution_count": 21,
   "id": "f75f6ae17d1737f",
   "metadata": {
    "ExecuteTime": {
     "end_time": "2025-08-30T11:30:50.705242Z",
     "start_time": "2025-08-30T11:30:50.224945Z"
    }
   },
   "outputs": [
    {
     "data": {
      "text/plain": [
       "array([[1.        , 0.33333333, 0.66666667],\n",
       "       [0.33333333, 1.        , 0.66666667],\n",
       "       [0.66666667, 0.66666667, 1.        ]])"
      ]
     },
     "execution_count": 21,
     "metadata": {},
     "output_type": "execute_result"
    }
   ],
   "source": [
    "X = np.array(\n",
    "    [\n",
    "        [1, 0, 1],\n",
    "        [0, 1, 1],\n",
    "        [1, 1, 1],\n",
    "    ]\n",
    ")\n",
    "\n",
    "sim = bulk_tanimoto_binary_similarity(X)\n",
    "sim"
   ]
  },
  {
   "cell_type": "markdown",
   "id": "d0e6ced2d200ff93",
   "metadata": {},
   "source": [
    "### Performance\n",
    "\n",
    "Lets see the time difference between manual computation of distance matrix between all molecules in a small dataset of 300 molecules."
   ]
  },
  {
   "cell_type": "code",
   "execution_count": 22,
   "id": "3a937361f6108570",
   "metadata": {
    "ExecuteTime": {
     "end_time": "2025-08-30T11:30:51.356160Z",
     "start_time": "2025-08-30T11:30:50.726239Z"
    }
   },
   "outputs": [
    {
     "data": {
      "application/vnd.jupyter.widget-view+json": {
       "model_id": "bb136120a42c40bab92b77be3a5f2982",
       "version_major": 2,
       "version_minor": 0
      },
      "text/plain": [
       "  0%|          | 0/25 [00:00<?, ?it/s]"
      ]
     },
     "metadata": {},
     "output_type": "display_data"
    }
   ],
   "source": [
    "from skfp.fingerprints import ECFPFingerprint\n",
    "\n",
    "ecfp_fingerprint = ECFPFingerprint(count=True, n_jobs=-1, verbose=True)\n",
    "\n",
    "fps = ecfp_fingerprint.transform(molecules[:300])"
   ]
  },
  {
   "cell_type": "markdown",
   "id": "201e8b0e0526b305",
   "metadata": {},
   "source": [
    "Manual implementation"
   ]
  },
  {
   "cell_type": "code",
   "execution_count": 23,
   "id": "5f23367ab7d0e260",
   "metadata": {
    "ExecuteTime": {
     "end_time": "2025-08-30T11:31:43.334353Z",
     "start_time": "2025-08-30T11:30:51.378268Z"
    }
   },
   "outputs": [
    {
     "name": "stdout",
     "output_type": "stream",
     "text": [
      "1.73 s ± 11.1 ms per loop (mean ± std. dev. of 3 runs, 10 loops each)\n"
     ]
    }
   ],
   "source": [
    "%timeit -r 3 -n 10 [tanimoto_count_similarity(fps[i], fps[j]) for i in range(len(fps)) for j in range(len(fps))]"
   ]
  },
  {
   "cell_type": "markdown",
   "id": "13fdcca76dd213aa",
   "metadata": {},
   "source": [
    "Bulk implementation"
   ]
  },
  {
   "cell_type": "code",
   "execution_count": 24,
   "id": "ee8f5a022b9aed9",
   "metadata": {
    "ExecuteTime": {
     "end_time": "2025-08-30T11:31:43.359863Z",
     "start_time": "2025-08-30T11:31:43.357351Z"
    }
   },
   "outputs": [],
   "source": [
    "from skfp.distances.tanimoto import bulk_tanimoto_count_similarity"
   ]
  },
  {
   "cell_type": "code",
   "execution_count": 25,
   "id": "93fa077dc7867a7a",
   "metadata": {
    "ExecuteTime": {
     "end_time": "2025-08-30T11:31:44.318161Z",
     "start_time": "2025-08-30T11:31:43.388543Z"
    }
   },
   "outputs": [
    {
     "name": "stdout",
     "output_type": "stream",
     "text": [
      "30.6 ms ± 19.8 ms per loop (mean ± std. dev. of 3 runs, 10 loops each)\n"
     ]
    }
   ],
   "source": [
    "%timeit -r 3 -n 10 [bulk_tanimoto_count_similarity(fps)]"
   ]
  },
  {
   "cell_type": "markdown",
   "id": "d4772ed51238d25",
   "metadata": {},
   "source": [
    "### Exercise 5\n",
    "\n",
    "Smilarities and distances have very similar implementation. Now that we know how to use similarities, let's try to train a K nearest neighbors model using binary variant of `ECFPFingerprint`. To do that we'll use a BACE dataset from MoleculeNet benchmark.\n",
    "\n",
    "- Load SMILES strings and labels from BACE dataset.\n",
    "- Perform scaffold train-test split with 8:2 ratio\n",
    "- Build a scikit-learn pipeline using ECFP fingerprint annd KNeighborsClassfier. Remember to pass binary variant of Tanimoto **distance** as `metric` parameter of the KNN model.\n",
    "- fit the pipeline on training data and make prediction"
   ]
  },
  {
   "cell_type": "code",
   "execution_count": 26,
   "id": "d488ebecbe4f6ff7",
   "metadata": {
    "ExecuteTime": {
     "end_time": "2025-08-30T11:31:54.027692Z",
     "start_time": "2025-08-30T11:31:44.320667Z"
    }
   },
   "outputs": [
    {
     "name": "stdout",
     "output_type": "stream",
     "text": [
      "AUROC score: 0.7775590551181102\n"
     ]
    }
   ],
   "source": [
    "from sklearn.pipeline import make_pipeline\n",
    "from sklearn.metrics import roc_auc_score\n",
    "from sklearn.neighbors import KNeighborsClassifier\n",
    "\n",
    "# Complete needed imports!\n",
    "from skfp.distances import tanimoto_binary_distance\n",
    "from skfp.model_selection import scaffold_train_test_split\n",
    "from skfp.datasets.moleculenet import load_bace\n",
    "\n",
    "# load bace dataset\n",
    "smiles, labels = load_bace()\n",
    "\n",
    "# perform train/test split. (we don't want to use validation set!)\n",
    "smiles_train, smiles_test, labels_train, labels_test = scaffold_train_test_split(\n",
    "    smiles, labels, test_size=0.2\n",
    ")\n",
    "\n",
    "# initialize a pipeline consisting of binary ECFP fingerprint\n",
    "# and KNeighborsClassifier with correct Tanimoto distance metric\n",
    "pipeline = make_pipeline(\n",
    "    ECFPFingerprint(n_jobs=-1),\n",
    "    KNeighborsClassifier(metric=tanimoto_binary_distance, n_jobs=-1),\n",
    ")\n",
    "\n",
    "# rain and predict the pipeline\n",
    "pipeline.fit(smiles_train, labels_train)\n",
    "labels_pred = pipeline.predict_proba(smiles_test)[:,1]\n",
    "\n",
    "# Compute auroc metric\n",
    "auroc_score = roc_auc_score(labels_test, labels_pred)\n",
    "\n",
    "print(f\"AUROC score: {auroc_score}\")"
   ]
  },
  {
   "cell_type": "code",
   "execution_count": 27,
   "id": "1fc1ca5a10debb9f",
   "metadata": {
    "ExecuteTime": {
     "end_time": "2025-08-30T11:31:54.043172Z",
     "start_time": "2025-08-30T11:31:54.039982Z"
    }
   },
   "outputs": [
    {
     "data": {
      "text/plain": [
       "0.7775590551181102"
      ]
     },
     "execution_count": 27,
     "metadata": {},
     "output_type": "execute_result"
    }
   ],
   "source": [
    "auroc_score"
   ]
  },
  {
   "cell_type": "markdown",
   "id": "48f233c1094badc0",
   "metadata": {},
   "source": [
    "### Multioutput evaluation metrics\n",
    "\n",
    "Sometimes, the dataset that we use will have multiple labels.\n",
    "\n",
    "In these scenarios we want to compute aggregated metrics from each predicted class.\n",
    "\n",
    "To allow that, scikit-fingerprints exports multioutput scoring metrics.\n",
    "\n",
    "### Exercise 6\n",
    "\n",
    "- Load sider dataset from MoleculeNet benchmark as SMILES strings and labeks.\n",
    "- Perform scaffold train-test split with 8:2 ratio.\n",
    "- Create and fit the pipeline consisting of **count** variant of ECFP fingerprint, and RandomForestClassifier, similarly to the previous exercise.\n",
    "- Make a probability prediction using `.predict_proba()` method\n",
    "- Predicted probabilities are stored in a 3-dimensional array. `extract_pos_proba()` function from `metrics` submodule of `skfp` allows to extract relevant probabilities easily.\n",
    "- Pass correct labels alongside the extracted probabilities to `multioutput_auprc_score` from `metrics` submodule of `skfp`."
   ]
  },
  {
   "cell_type": "code",
   "execution_count": 28,
   "id": "af0fd3a3800f3b14",
   "metadata": {
    "ExecuteTime": {
     "end_time": "2025-08-30T11:31:56.615819Z",
     "start_time": "2025-08-30T11:31:54.067307Z"
    }
   },
   "outputs": [
    {
     "name": "stderr",
     "output_type": "stream",
     "text": [
      "[13:31:54] WARNING: not removing hydrogen atom without neighbors\n",
      "[13:31:54] WARNING: not removing hydrogen atom without neighbors\n",
      "[13:31:54] WARNING: not removing hydrogen atom without neighbors\n",
      "[13:31:54] WARNING: not removing hydrogen atom without neighbors\n",
      "[13:31:55] WARNING: not removing hydrogen atom without neighbors\n",
      "[13:31:55] WARNING: not removing hydrogen atom without neighbors\n",
      "[13:31:55] WARNING: not removing hydrogen atom without neighbors\n",
      "[13:31:55] WARNING: not removing hydrogen atom without neighbors\n",
      "[13:31:55] WARNING: not removing hydrogen atom without neighbors\n",
      "[13:31:55] WARNING: not removing hydrogen atom without neighbors\n",
      "[13:31:55] WARNING: not removing hydrogen atom without neighbors\n",
      "[13:31:55] WARNING: not removing hydrogen atom without neighbors\n",
      "[13:31:55] WARNING: not removing hydrogen atom without neighbors\n"
     ]
    },
    {
     "name": "stdout",
     "output_type": "stream",
     "text": [
      "AUPRC score: 0.6865983292077823\n"
     ]
    }
   ],
   "source": [
    "from sklearn.ensemble import RandomForestClassifier\n",
    "\n",
    "# complete imports\n",
    "from skfp.datasets.moleculenet import load_sider\n",
    "from skfp.metrics import multioutput_auprc_score, extract_pos_proba\n",
    "\n",
    "smiles, labels = load_sider()\n",
    "\n",
    "smiles_train, smiles_test, labels_train, labels_test = scaffold_train_test_split(\n",
    "    smiles, labels, test_size=0.2\n",
    ")\n",
    "\n",
    "pipeline = make_pipeline(ECFPFingerprint(n_jobs=-1, count=True), RandomForestClassifier(n_jobs=-1))\n",
    "\n",
    "pipeline.fit(smiles_train, labels_train)\n",
    "\n",
    "labels_proba = pipeline.predict_proba(smiles_test)\n",
    "labels_proba = extract_pos_proba(labels_proba)\n",
    "\n",
    "auprc_score = multioutput_auprc_score(labels_test, labels_proba)\n",
    "\n",
    "print(f\"AUPRC score: {auprc_score}\")"
   ]
  },
  {
   "cell_type": "code",
   "execution_count": 29,
   "id": "93c243728fa802aa",
   "metadata": {
    "ExecuteTime": {
     "end_time": "2025-08-30T11:31:56.632342Z",
     "start_time": "2025-08-30T11:31:56.629337Z"
    }
   },
   "outputs": [
    {
     "data": {
      "text/plain": [
       "0.6865983292077823"
      ]
     },
     "execution_count": 29,
     "metadata": {},
     "output_type": "execute_result"
    }
   ],
   "source": [
    "auprc_score"
   ]
  },
  {
   "cell_type": "markdown",
   "id": "68872f447e5b05f7",
   "metadata": {},
   "source": [
    "---"
   ]
  },
  {
   "cell_type": "code",
   "execution_count": null,
   "id": "7da3704b0f6f96ed",
   "metadata": {
    "ExecuteTime": {
     "end_time": "2025-08-30T11:31:56.646461Z",
     "start_time": "2025-08-30T11:31:56.644468Z"
    }
   },
   "outputs": [],
   "source": []
  }
 ],
 "metadata": {
  "kernelspec": {
   "display_name": "Python 3 (ipykernel)",
   "language": "python",
   "name": "python3"
  },
  "language_info": {
   "codemirror_mode": {
    "name": "ipython",
    "version": 3
   },
   "file_extension": ".py",
   "mimetype": "text/x-python",
   "name": "python",
   "nbconvert_exporter": "python",
   "pygments_lexer": "ipython3",
   "version": "3.12.11"
  }
 },
 "nbformat": 4,
 "nbformat_minor": 5
}

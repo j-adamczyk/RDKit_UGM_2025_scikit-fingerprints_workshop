{
 "cells": [
  {
   "cell_type": "markdown",
   "id": "65e1b9bc-0458-4545-a504-cdb9e99919ac",
   "metadata": {
    "collapsed": true,
    "jupyter": {
     "outputs_hidden": true
    }
   },
   "source": [
    "# Virtual screening"
   ]
  },
  {
   "cell_type": "markdown",
   "id": "41c4c827-7387-4077-b924-1efc467addf4",
   "metadata": {},
   "source": [
    "Ligand-based virtual screening (LBVS) involves predicting bioactivity of large collections of compounds. It involves multiple steps, which are quite easy to perform with scikit-fingerprints.\n",
    "\n",
    "Notebook inspired by [Tutorial for the Teach-Discover-Treat (TDT) Competition 2014](https://github.com/sriniker/TDT-tutorial-2014/tree/master) by Sereina Riniker and Gregory Landrum.\n",
    "\n",
    "First, we will load the Malaria HTS dataset from the above competition. It was created in a series of high-throughput screening (HTS) campaigns from around 2010-2012. It contains an already binarized bioactivity labels.\n",
    "\n",
    "For shorter calculations in this tutorial, we will subsample the negative class to 100 thousand samples."
   ]
  },
  {
   "metadata": {
    "ExecuteTime": {
     "end_time": "2025-09-01T12:43:27.682214Z",
     "start_time": "2025-09-01T12:43:27.337987Z"
    }
   },
   "cell_type": "code",
   "source": [
    "import pandas as pd\n",
    "import numpy as np\n",
    "\n",
    "# load malaria dataset\n",
    "df = pd.read_parquet(\"data/malaria_hts_train.parquet\")\n",
    "\n",
    "# Remove ambiguous labels\n",
    "df = df[df[\"label\"] != \"ambiguous\"]\n",
    "\n",
    "# map labels to binary\n",
    "df[\"label\"] = df[\"label\"].map({\"false\": 0, \"true\": 1})\n",
    "\n",
    "# Extract data into smiles and labels\n",
    "smiles_list = df[\"SMILES\"].values\n",
    "labels = df[\"label\"].values\n",
    "\n",
    "# subsample\n",
    "pos_idx = np.where(labels == 1)[0]\n",
    "neg_idx = np.random.choice(np.where(labels == 0)[0], size=100_000, replace=False)\n",
    "idx = np.concatenate([pos_idx, neg_idx])\n",
    "smiles_list = smiles_list[idx].tolist()\n",
    "labels = labels[idx]\n",
    "\n",
    "print(f\"Positive samples: {len(pos_idx)}\")\n",
    "print(f\"Negative samples: {len(neg_idx)}\")\n",
    "print(f\"Shapes: SMILES list {len(smiles_list)}, labels {len(labels)}\")"
   ],
   "id": "4d5ad9214c50edb4",
   "outputs": [
    {
     "name": "stdout",
     "output_type": "stream",
     "text": [
      "Positive samples: 1528\n",
      "Negative samples: 100000\n",
      "Shapes: SMILES list 101528, labels 101528\n"
     ]
    }
   ],
   "execution_count": 1
  },
  {
   "metadata": {},
   "cell_type": "markdown",
   "source": [
    "### Exercise 1\n",
    "\n",
    "This dataset contains some invalid molecules, e.g. breaking valence rules in modern RDKit. Use `MolFromSmilesTransformer`, and note that:\n",
    "- some molecules may error out, so use `valid_only` and `.transform_x_y()`\n",
    "- you can parallelize it with `n_jobs` and `batch_size` for efficiency, just like fingerprints.\n",
    "\n",
    "Use [documentation](https://scikit-fingerprints.readthedocs.io/latest/api_reference.html) if necessary."
   ],
   "id": "d97a9613ee1c3512"
  },
  {
   "metadata": {
    "ExecuteTime": {
     "end_time": "2025-09-01T12:43:33.161675Z",
     "start_time": "2025-09-01T12:43:27.684220Z"
    }
   },
   "cell_type": "code",
   "source": [
    "# import MolFromSmilesTransformer\n",
    "from skfp.preprocessing import MolFromSmilesTransformer\n",
    "\n",
    "# Create MolFromSmilesTransformer\n",
    "mol_from_smiles = MolFromSmilesTransformer(\n",
    "    valid_only=True, n_jobs=-1, batch_size=1000, verbose=True\n",
    ")\n",
    "\n",
    "# Run the dataset transformation to create molecules and labels\n",
    "mols, labels = mol_from_smiles.transform_x_y(smiles_list, labels)\n",
    "\n",
    "print(f\"Removed molecules: {len(smiles_list) - len(mols)}\")"
   ],
   "id": "141063ec9a917a38",
   "outputs": [
    {
     "data": {
      "text/plain": [
       "  0%|          | 0/101 [00:00<?, ?it/s]"
      ],
      "application/vnd.jupyter.widget-view+json": {
       "version_major": 2,
       "version_minor": 0,
       "model_id": "10155ee056924b20bcdc976ba026fe45"
      }
     },
     "metadata": {},
     "output_type": "display_data"
    },
    {
     "name": "stdout",
     "output_type": "stream",
     "text": [
      "Removed molecules: 1\n"
     ]
    }
   ],
   "execution_count": 2
  },
  {
   "metadata": {},
   "cell_type": "markdown",
   "source": "---",
   "id": "f6412b32ab574aa"
  },
  {
   "cell_type": "markdown",
   "id": "9b7f68a9-8cfd-4069-bb87-f6f865b454ba",
   "metadata": {},
   "source": [
    "# Molecular Filters\n",
    "\n",
    "Typically, in LBVS we have huge collections of molecules. Many of those are highly reactive, promiscuous compounds, dyes, or contain toxic functional groups. Thus, we use **molecular filters** to remove them. They are sets of rules to remove unwanted compounds.\n",
    "\n",
    "They can be divided into 2 groups:\n",
    "\n",
    "1. **Physicochemical filters** - define allowed ranges of physicochemical descriptors (e.g. molecular weight, logP, HBA, HBD) and keep only molecules fulfilling those requirements. Examples include [Lipinski's rule of 5](https://scikit-fingerprints.readthedocs.io/latest/modules/generated/skfp.filters.LipinskiFilter.html#skfp.filters.LipinskiFilter) and [REOS](https://scikit-fingerprints.readthedocs.io/latest/modules/generated/skfp.filters.REOSFilter.html#skfp.filters.REOSFilter).\n",
    "\n",
    "2. **Substructural filters** - define unwanted substructures with SMARTS and keep only molecules that do not contain those patterns. Examples include [PAINS](https://scikit-fingerprints.readthedocs.io/latest/modules/generated/skfp.filters.PAINSFilter.html) and [Brenk filter](https://scikit-fingerprints.readthedocs.io/latest/modules/generated/skfp.filters.BrenkFilter.html).\n",
    "\n",
    "RDKit contains 10 substructural filters, but no physicochemical filters. Scikit-fingerprints implements 31 filters, 21 physicochemical and 10 substructural. API is based on [feature-engine](https://feature-engine.trainindata.com/en/latest/) and other scikit-learn compatible libraries for preprocessing data.\n",
    "\n",
    "Let's see an example for a substructural filter with RDKit."
   ]
  },
  {
   "metadata": {
    "ExecuteTime": {
     "end_time": "2025-09-01T12:43:43.287589Z",
     "start_time": "2025-09-01T12:43:33.250691Z"
    }
   },
   "cell_type": "code",
   "source": [
    "from rdkit.Chem import FilterCatalog\n",
    "from rdkit.Chem.rdfiltercatalog import FilterCatalogParams\n",
    "from tqdm.notebook import tqdm\n",
    "\n",
    "filter_catalog_pains_a = FilterCatalogParams.FilterCatalogs.PAINS_A\n",
    "params = FilterCatalog.FilterCatalogParams()\n",
    "params.AddCatalog(filter_catalog_pains_a)\n",
    "filters = FilterCatalog.FilterCatalog(params)\n",
    "\n",
    "mols_filtered_rdkit = []\n",
    "labels_filtered_rdkit = []\n",
    "for mol, label in tqdm(zip(mols, labels), total=len(mols)):\n",
    "    matches = filters.GetMatches(mol)\n",
    "    if not matches:\n",
    "        mols_filtered_rdkit.append(mol)\n",
    "        labels_filtered_rdkit.append(label)"
   ],
   "id": "d170c581b840ef01",
   "outputs": [
    {
     "name": "stderr",
     "output_type": "stream",
     "text": [
      "<frozen importlib._bootstrap>:241: RuntimeWarning: to-Python converter for class boost::shared_ptr<class RDKit::FilterHierarchyMatcher> already registered; second conversion method ignored.\n",
      "<frozen importlib._bootstrap>:241: RuntimeWarning: to-Python converter for class boost::shared_ptr<class RDKit::FilterCatalogEntry> already registered; second conversion method ignored.\n"
     ]
    },
    {
     "data": {
      "text/plain": [
       "  0%|          | 0/101527 [00:00<?, ?it/s]"
      ],
      "application/vnd.jupyter.widget-view+json": {
       "version_major": 2,
       "version_minor": 0,
       "model_id": "fe25a5bd110249fe966593d4602ac61a"
      }
     },
     "metadata": {},
     "output_type": "display_data"
    }
   ],
   "execution_count": 3
  },
  {
   "metadata": {},
   "cell_type": "markdown",
   "source": "And with scikit-fingerprints",
   "id": "a7099ee2745aa0ec"
  },
  {
   "metadata": {
    "ExecuteTime": {
     "end_time": "2025-09-01T12:43:46.126103Z",
     "start_time": "2025-09-01T12:43:43.295143Z"
    }
   },
   "cell_type": "code",
   "source": [
    "from skfp.filters import PAINSFilter\n",
    "\n",
    "filter_pains = PAINSFilter(variant=\"A\", n_jobs=-1, verbose=True)\n",
    "mols_filtered_skfp, labels_filtered_skfp = filter_pains.transform_x_y(mols, labels)"
   ],
   "id": "90dc15fe1c1552a2",
   "outputs": [
    {
     "data": {
      "text/plain": [
       "  0%|          | 0/24 [00:00<?, ?it/s]"
      ],
      "application/vnd.jupyter.widget-view+json": {
       "version_major": 2,
       "version_minor": 0,
       "model_id": "b33d1e2cf8794b28a58d4b5248225274"
      }
     },
     "metadata": {},
     "output_type": "display_data"
    }
   ],
   "execution_count": 4
  },
  {
   "metadata": {},
   "cell_type": "markdown",
   "source": [
    "### Exercise 2\n",
    "\n",
    "Lipinski's rule of 5 is arguably the first and most famous molecular filters. It is a physicochemical filter, where a molecule can violate at most one of the rules:\n",
    "\n",
    "- molecular weight $\\leq 500$\n",
    "- hydrogen bond acceptors (HBA) $\\leq 10$\n",
    "- hydrogen bond donors (HBD) $\\leq 5$\n",
    "- logP $\\leq 5$\n",
    "\n",
    "Implement the Lipinski's rule using RDKit and `for` loop, and filter molecules. Remember to also filter labels for consistency! Relevant RDKit descriptors are in [rdkit.Chem.Descriptors](https://www.rdkit.org/docs/source/rdkit.Chem.Descriptors.html), [rdkit.Chem.rdMolDescriptors](https://www.rdkit.org/docs/source/rdkit.Chem.rdMolDescriptors.html), and [rdkit.Chem.Crippen](https://www.rdkit.org/docs/source/rdkit.Chem.Crippen.html) modules.\n",
    "\n",
    "Then, use the [scikit-fingerprints LipinskiFilter](https://scikit-fingerprints.readthedocs.io/latest/modules/generated/skfp.filters.LipinskiFilter.html#skfp.filters.LipinskiFilter) and compare the two."
   ],
   "id": "182aacb24e37ec15"
  },
  {
   "metadata": {
    "ExecuteTime": {
     "end_time": "2025-09-01T12:44:11.013789Z",
     "start_time": "2025-09-01T12:43:46.135163Z"
    }
   },
   "cell_type": "code",
   "source": [
    "from rdkit.Chem.Crippen import MolLogP\n",
    "from rdkit.Chem.Descriptors import MolWt\n",
    "from rdkit.Chem.rdMolDescriptors import CalcNumLipinskiHBD, CalcNumLipinskiHBA\n",
    "\n",
    "mols_filtered_rdkit = []\n",
    "labels_filtered_rdkit = []\n",
    "for mol, label in tqdm(zip(mols, labels), total=len(mols)):\n",
    "    mol_weight = MolWt(mol)\n",
    "    hba = CalcNumLipinskiHBA(mol)\n",
    "    hbd = CalcNumLipinskiHBD(mol)\n",
    "    logp = MolLogP(mol)\n",
    "\n",
    "    if mol_weight <= 500 and hba <= 10 and hbd <= 5 and logp <= 5:\n",
    "        mols_filtered_rdkit.append(mol)\n",
    "        labels_filtered_rdkit.append(label)\n"
   ],
   "id": "9982278ea0bc6d95",
   "outputs": [
    {
     "data": {
      "text/plain": [
       "  0%|          | 0/101527 [00:00<?, ?it/s]"
      ],
      "application/vnd.jupyter.widget-view+json": {
       "version_major": 2,
       "version_minor": 0,
       "model_id": "456aaecaa4ff43f887bfbae0a7973360"
      }
     },
     "metadata": {},
     "output_type": "display_data"
    }
   ],
   "execution_count": 5
  },
  {
   "metadata": {
    "ExecuteTime": {
     "end_time": "2025-09-01T12:44:11.025015Z",
     "start_time": "2025-09-01T12:44:11.021497Z"
    }
   },
   "cell_type": "code",
   "source": [
    "print(f\"Original size     : {len(mols)}\")\n",
    "print(f\"Filtered size     : {len(mols_filtered_rdkit)}\")\n",
    "print(f\"Removed molecules : {len(mols) - len(mols_filtered_rdkit)}\")"
   ],
   "id": "62213cfdab9efd0c",
   "outputs": [
    {
     "name": "stdout",
     "output_type": "stream",
     "text": [
      "Original size     : 101527\n",
      "Filtered size     : 90891\n",
      "Removed molecules : 10636\n"
     ]
    }
   ],
   "execution_count": 6
  },
  {
   "metadata": {
    "scrolled": true,
    "ExecuteTime": {
     "end_time": "2025-09-01T12:44:14.801022Z",
     "start_time": "2025-09-01T12:44:11.039299Z"
    }
   },
   "cell_type": "code",
   "source": [
    "from skfp.filters import LipinskiFilter\n",
    "\n",
    "lipinski_filter = LipinskiFilter(n_jobs=-1, allow_one_violation=False)\n",
    "mols_filtered_skfp, labels_filtered_skfp = lipinski_filter.transform_x_y(mols, labels)"
   ],
   "id": "6e9fe220876c3461",
   "outputs": [],
   "execution_count": 7
  },
  {
   "metadata": {},
   "cell_type": "markdown",
   "source": "Display the how the number of molecules changes",
   "id": "4cad93d08e7e0a1c"
  },
  {
   "metadata": {
    "ExecuteTime": {
     "end_time": "2025-09-01T12:44:14.807994Z",
     "start_time": "2025-09-01T12:44:14.805025Z"
    }
   },
   "cell_type": "code",
   "source": [
    "print(f\"Original size     : {len(mols)}\")\n",
    "print(f\"Filtered size     : {len(mols_filtered_skfp)}\")\n",
    "print(f\"Removed molecules : {len(mols) - len(labels_filtered_skfp)}\")"
   ],
   "id": "306270bc10edf227",
   "outputs": [
    {
     "name": "stdout",
     "output_type": "stream",
     "text": [
      "Original size     : 101527\n",
      "Filtered size     : 90891\n",
      "Removed molecules : 10636\n"
     ]
    }
   ],
   "execution_count": 8
  },
  {
   "metadata": {},
   "cell_type": "markdown",
   "source": [
    "### Exercise 3\n",
    "\n",
    "Scikit-learn `Pipeline` does not support `.transform_x_y()`, so in order to use multiple filters, we need to apply them one after another. A common example is using multiple PAINS sets A, B, C.\n",
    "\n",
    "Create a list of filters `PAINSFilter` with different variants A, B and C. Apply filtering on molecules and labels with all three filters one after another.\n",
    "\n",
    "Save final results in variables `mols_filtered` and `labels_filtered`, which we will use in the rest of the notebook."
   ],
   "id": "6803bb78e46281c4"
  },
  {
   "metadata": {
    "ExecuteTime": {
     "end_time": "2025-09-01T12:44:14.832998Z",
     "start_time": "2025-09-01T12:44:14.829741Z"
    }
   },
   "cell_type": "code",
   "source": [
    "n_active = labels.sum()\n",
    "n_inactive = len(labels) - n_active\n",
    "\n",
    "print(f\"Molecules before filtering: {len(mols)}\")\n",
    "print(f\"Inactive molecules: {n_inactive}\")\n",
    "print(f\"Active molecules: {n_active}\")"
   ],
   "id": "fe1e34daaad43426",
   "outputs": [
    {
     "name": "stdout",
     "output_type": "stream",
     "text": [
      "Molecules before filtering: 101527\n",
      "Inactive molecules: 99999\n",
      "Active molecules: 1528\n"
     ]
    }
   ],
   "execution_count": 9
  },
  {
   "metadata": {
    "ExecuteTime": {
     "end_time": "2025-09-01T12:44:39.393819Z",
     "start_time": "2025-09-01T12:44:14.843318Z"
    }
   },
   "cell_type": "code",
   "source": [
    "from skfp.filters import PAINSFilter\n",
    "\n",
    "pains_filters = [\n",
    "    PAINSFilter(variant=\"A\", n_jobs=-1),\n",
    "    PAINSFilter(variant=\"B\", n_jobs=-1),\n",
    "    PAINSFilter(variant=\"C\", n_jobs=-1),\n",
    "]\n",
    "\n",
    "mols_filtered = mols\n",
    "labels_filtered = labels\n",
    "\n",
    "for pains_filter_variant in pains_filters:\n",
    "    mols_filtered, labels_filtered = pains_filter_variant.transform_x_y(\n",
    "        mols_filtered, labels_filtered\n",
    "    )"
   ],
   "id": "f10844ef7fa56595",
   "outputs": [],
   "execution_count": 10
  },
  {
   "metadata": {
    "ExecuteTime": {
     "end_time": "2025-09-01T12:44:39.405968Z",
     "start_time": "2025-09-01T12:44:39.402240Z"
    }
   },
   "cell_type": "code",
   "source": [
    "n_active = labels_filtered.sum()\n",
    "n_inactive = len(labels_filtered) - n_active\n",
    "\n",
    "print(f\"Number of molecules: before {len(mols)}, after {len(mols_filtered)}\")\n",
    "print(f\"Inactive molecules: {n_inactive}\")\n",
    "print(f\"Active molecules: {n_active}\")"
   ],
   "id": "9c40f323c65b4d29",
   "outputs": [
    {
     "name": "stdout",
     "output_type": "stream",
     "text": [
      "Number of molecules: before 101527, after 94354\n",
      "Inactive molecules: 93139\n",
      "Active molecules: 1215\n"
     ]
    }
   ],
   "execution_count": 11
  },
  {
   "metadata": {},
   "cell_type": "markdown",
   "source": [
    "### All filters\n",
    "\n",
    "Here you can find all filters currently available in scikit-fingerprints"
   ],
   "id": "fd30d339343e20cd"
  },
  {
   "metadata": {
    "ExecuteTime": {
     "end_time": "2025-09-01T12:44:39.424406Z",
     "start_time": "2025-09-01T12:44:39.421332Z"
    }
   },
   "cell_type": "code",
   "source": [
    "# from skfp.filters import (\n",
    "#     BeyondRo5Filter,\n",
    "#     BMSFilter,\n",
    "#     BrenkFilter,\n",
    "#     FAF4DruglikeFilter,\n",
    "#     FAF4LeadlikeFilter,\n",
    "#     GhoseFilter,\n",
    "#     GlaxoFilter,\n",
    "#     GSKFilter,\n",
    "#     HaoFilter,\n",
    "#     InpharmaticaFilter,\n",
    "#     LINTFilter,\n",
    "#     LipinskiFilter,\n",
    "#     MLSMRFilter,\n",
    "#     MolecularWeightFilter,\n",
    "#     NIBRFilter,\n",
    "#     NIHFilter,\n",
    "#     OpreaFilter,\n",
    "#     PAINSFilter,\n",
    "#     PfizerFilter,\n",
    "#     REOSFilter,\n",
    "#     RuleOfFourFilter,\n",
    "#     RuleOfThreeFilter,\n",
    "#     RuleOfTwoFilter,\n",
    "#     RuleOfVeberFilter,\n",
    "#     RuleOfXuFilter,\n",
    "#     SureChEMBLFilter,\n",
    "#     TiceHerbicidesFilter,\n",
    "#     TiceInsecticidesFilter,\n",
    "#     ValenceDiscoveryFilter,\n",
    "#     ZINCBasicFilter,\n",
    "#     ZINCDruglikeFilter,\n",
    "# )"
   ],
   "id": "fd0b95399d1bef68",
   "outputs": [],
   "execution_count": 12
  },
  {
   "metadata": {},
   "cell_type": "markdown",
   "source": "---",
   "id": "f8930341294665e7"
  },
  {
   "cell_type": "markdown",
   "id": "50a22cd1-253b-449f-85f4-137a9c9d6b55",
   "metadata": {},
   "source": [
    "## Data splits\n",
    "\n",
    "Before, we loaded pre-computed splits provided by benchmarks.\n",
    "\n",
    "Sometimes we want to compute our own splits. In this case, implementing them by ourselves can get messy.\n",
    "\n",
    "Take a look at MaxMin split computation without scikit-fingerprints."
   ]
  },
  {
   "metadata": {
    "ExecuteTime": {
     "end_time": "2025-09-01T12:45:32.849822Z",
     "start_time": "2025-09-01T12:44:39.428411Z"
    }
   },
   "cell_type": "code",
   "source": [
    "# Without skfp\n",
    "from math import ceil\n",
    "from rdkit.SimDivFilters import MaxMinPicker\n",
    "from rdkit.Chem.rdFingerprintGenerator import GetMorganGenerator\n",
    "\n",
    "data_size = len(mols_filtered)\n",
    "\n",
    "# Compute sizes of the output dataset\n",
    "test_size = ceil(0.2 * data_size)\n",
    "train_size = data_size - test_size\n",
    "\n",
    "random_state = 42\n",
    "fps = GetMorganGenerator(radius=2, fpSize=2048).GetFingerprints(mols_filtered)\n",
    "\n",
    "picker = MaxMinPicker()\n",
    "test_idxs = picker.LazyBitVectorPick(\n",
    "    fps,\n",
    "    poolSize=data_size,\n",
    "    pickSize=test_size,\n",
    "    seed=random_state,\n",
    ")\n",
    "test_idxs = list(test_idxs)\n",
    "train_idxs = list(set(range(data_size)) - set(test_idxs))\n",
    "\n",
    "# Extract data\n",
    "mols_train_rdkit = [mols_filtered[i] for i in train_idxs]\n",
    "mols_test_rdkit = [mols_filtered[i] for i in test_idxs]\n",
    "\n",
    "labels_train = labels[train_idxs]\n",
    "labels_test = labels[test_idxs]"
   ],
   "id": "d06a073a3bcc0713",
   "outputs": [],
   "execution_count": 13
  },
  {
   "metadata": {
    "ExecuteTime": {
     "end_time": "2025-09-01T12:45:32.863967Z",
     "start_time": "2025-09-01T12:45:32.859561Z"
    }
   },
   "cell_type": "code",
   "source": "len(mols_train_rdkit), len(mols_test_rdkit)",
   "id": "a1297fa8b93419fd",
   "outputs": [
    {
     "data": {
      "text/plain": [
       "(75483, 18871)"
      ]
     },
     "execution_count": 14,
     "metadata": {},
     "output_type": "execute_result"
    }
   ],
   "execution_count": 14
  },
  {
   "metadata": {},
   "cell_type": "markdown",
   "source": [
    "### Exercise 4\n",
    "\n",
    "Fortunately scikit-fingerprints provides us with implemented splitting functionality.\n",
    "\n",
    "Lets split our original `molecules` and `labels` data into training, and testing dataset in 8:2 proportion.\n",
    "\n",
    "To do that use `maxmin_train_test_split` from `model_selection` submodule of `skfp`.\n",
    "\n",
    "You can find more information about how to use splits in `model_selection` section of [documentation](https://scikit-fingerprints.readthedocs.io/latest/api_reference.html)"
   ],
   "id": "327aeb1b9ec3468f"
  },
  {
   "metadata": {
    "ExecuteTime": {
     "end_time": "2025-09-01T12:46:27.965840Z",
     "start_time": "2025-09-01T12:45:32.873892Z"
    }
   },
   "cell_type": "code",
   "source": [
    "# With skfp\n",
    "\n",
    "from skfp.model_selection import maxmin_train_test_split\n",
    "\n",
    "(\n",
    "    mols_train,\n",
    "    mols_test,\n",
    "    labels_train,\n",
    "    labels_test,\n",
    ") = maxmin_train_test_split(\n",
    "    mols_filtered, labels_filtered, train_size=0.8, test_size=0.2\n",
    ")"
   ],
   "id": "4b98b807744b9ab0",
   "outputs": [],
   "execution_count": 15
  },
  {
   "metadata": {},
   "cell_type": "markdown",
   "source": "Note that if we want to use validation set we can always import `maximn_train_valid_test_split` instead",
   "id": "2c71295bb7644ca4"
  },
  {
   "metadata": {
    "ExecuteTime": {
     "end_time": "2025-09-01T12:46:27.977947Z",
     "start_time": "2025-09-01T12:46:27.974418Z"
    }
   },
   "cell_type": "code",
   "source": "len(mols_train), len(mols_test)",
   "id": "5a5639592ff58cfc",
   "outputs": [
    {
     "data": {
      "text/plain": [
       "(75483, 18871)"
      ]
     },
     "execution_count": 16,
     "metadata": {},
     "output_type": "execute_result"
    }
   ],
   "execution_count": 16
  },
  {
   "metadata": {},
   "cell_type": "markdown",
   "source": "All splits available in skfp",
   "id": "e980466ee66e9979"
  },
  {
   "metadata": {
    "ExecuteTime": {
     "end_time": "2025-09-01T12:46:27.989694Z",
     "start_time": "2025-09-01T12:46:27.987308Z"
    }
   },
   "cell_type": "code",
   "source": [
    "# from skfp.model_selection import (\n",
    "#     butina_train_test_split,\n",
    "#     butina_train_valid_test_split,\n",
    "#     maxmin_train_test_split,\n",
    "#     maxmin_train_valid_test_split,\n",
    "#     randomized_scaffold_train_test_split,\n",
    "#     randomized_scaffold_train_valid_test_split,\n",
    "#     scaffold_train_test_split,\n",
    "#     scaffold_train_valid_test_split,\n",
    "# )"
   ],
   "id": "49c17a9d4f56ffb2",
   "outputs": [],
   "execution_count": 17
  },
  {
   "metadata": {},
   "cell_type": "markdown",
   "source": "---",
   "id": "114997cc7cc6c948"
  },
  {
   "cell_type": "markdown",
   "id": "7e52e746-75f0-479d-9cc6-b741fabf8cf2",
   "metadata": {},
   "source": [
    "## Similarity, distance & evaluation metrics\n",
    "\n"
   ]
  },
  {
   "metadata": {},
   "cell_type": "markdown",
   "source": [
    "Now that we have a training and testing dataset we can perform similarity search virtual screening. To do that, lets take a look at distances and similarities delivered by scikit-fingerprints. They can be used to determine how similar, or different, two molecules are to each other.\n",
    "\n",
    "scikit-fingerprints delivers both binary and count variants of similarity and distance computation functions.\n",
    "\n",
    "Lets try to compute similarity between two binary vectors using `tanimoto_binary_similarity`"
   ],
   "id": "101bdd7eb9ddd9bc"
  },
  {
   "metadata": {
    "ExecuteTime": {
     "end_time": "2025-09-01T12:46:28.010256Z",
     "start_time": "2025-09-01T12:46:28.007623Z"
    }
   },
   "cell_type": "code",
   "source": [
    "bit_vec_1 = np.array([1, 1, 0, 0])\n",
    "bit_vec_2 = np.array([0, 1, 1, 0])"
   ],
   "id": "2b7fa4b52ab88740",
   "outputs": [],
   "execution_count": 18
  },
  {
   "metadata": {
    "ExecuteTime": {
     "end_time": "2025-09-01T12:46:28.335011Z",
     "start_time": "2025-09-01T12:46:28.012261Z"
    }
   },
   "cell_type": "code",
   "source": [
    "from skfp.distances import tanimoto_binary_similarity\n",
    "\n",
    "binary_similarity = tanimoto_binary_similarity(bit_vec_1, bit_vec_2)\n",
    "print(f\"similarity of binary vectors: {binary_similarity}\")"
   ],
   "id": "8ebc434b8d4ec6b8",
   "outputs": [
    {
     "name": "stdout",
     "output_type": "stream",
     "text": [
      "similarity of binary vectors: 0.3333333333333333\n"
     ]
    }
   ],
   "execution_count": 19
  },
  {
   "metadata": {},
   "cell_type": "markdown",
   "source": "If we use count vectors we need to use `tanimoto_count_similarity`",
   "id": "790797660b14ec62"
  },
  {
   "metadata": {
    "ExecuteTime": {
     "end_time": "2025-09-01T12:46:28.347670Z",
     "start_time": "2025-09-01T12:46:28.344980Z"
    }
   },
   "cell_type": "code",
   "source": [
    "count_vec_1 = np.array([2, 3, 4, 0])\n",
    "count_vec_2 = np.array([2, 3, 4, 2])"
   ],
   "id": "ab8ee9d637cb3df9",
   "outputs": [],
   "execution_count": 20
  },
  {
   "metadata": {
    "ExecuteTime": {
     "end_time": "2025-09-01T12:46:28.367075Z",
     "start_time": "2025-09-01T12:46:28.364260Z"
    }
   },
   "cell_type": "code",
   "source": [
    "from skfp.distances import tanimoto_count_similarity\n",
    "\n",
    "count_similarity = tanimoto_count_similarity(bit_vec_1, bit_vec_2)\n",
    "print(f\"similarity of count vectors: {count_similarity}\")"
   ],
   "id": "30e70cc9e8fb2cff",
   "outputs": [
    {
     "name": "stdout",
     "output_type": "stream",
     "text": [
      "similarity of count vectors: 0.3333333333333333\n"
     ]
    }
   ],
   "execution_count": 21
  },
  {
   "metadata": {},
   "cell_type": "markdown",
   "source": [
    "We can also use bulk similarity computation to speed up very heavy computations between two sets of molecules.\n",
    "\n",
    "If in one set we have X molecules and Y molecules in the other set, finding distances or similarities between every pair between X and Y can be very slow. scikit-fingerpirnts implementation allows us to compute them efficiently"
   ],
   "id": "b0df559dab2e4033"
  },
  {
   "metadata": {
    "ExecuteTime": {
     "end_time": "2025-09-01T12:46:29.207980Z",
     "start_time": "2025-09-01T12:46:28.370080Z"
    }
   },
   "cell_type": "code",
   "source": [
    "from skfp.distances.tanimoto import (\n",
    "    bulk_tanimoto_binary_similarity\n",
    ")\n",
    "\n",
    "arr_1 = np.array(\n",
    "    [\n",
    "        [1, 1, 1],\n",
    "        [0, 0, 1],\n",
    "        [1, 1, 1],\n",
    "    ]\n",
    ")\n",
    "\n",
    "arr_2 = np.array(\n",
    "    [\n",
    "        [1, 0, 1],\n",
    "        [0, 1, 1],\n",
    "        [1, 1, 1],\n",
    "    ]\n",
    ")\n",
    "\n",
    "sim = bulk_tanimoto_binary_similarity(arr_1, arr_2)\n",
    "sim"
   ],
   "id": "5c48ab5fbe6cfd56",
   "outputs": [
    {
     "data": {
      "text/plain": [
       "array([[0.66666667, 0.66666667, 1.        ],\n",
       "       [0.5       , 0.5       , 0.33333333],\n",
       "       [0.66666667, 0.66666667, 1.        ]])"
      ]
     },
     "execution_count": 22,
     "metadata": {},
     "output_type": "execute_result"
    }
   ],
   "execution_count": 22
  },
  {
   "metadata": {},
   "cell_type": "markdown",
   "source": "Sometimes we want to compute similarity between every two molcules in a dataset. We can compute that by passing just one argument.",
   "id": "780bab6936d12f4e"
  },
  {
   "metadata": {
    "ExecuteTime": {
     "end_time": "2025-09-01T12:46:29.797892Z",
     "start_time": "2025-09-01T12:46:29.335004Z"
    }
   },
   "cell_type": "code",
   "source": [
    "X = np.array(\n",
    "    [\n",
    "        [1, 0, 1],\n",
    "        [0, 1, 1],\n",
    "        [1, 1, 1],\n",
    "    ]\n",
    ")\n",
    "\n",
    "sim = bulk_tanimoto_binary_similarity(X)\n",
    "sim"
   ],
   "id": "f75f6ae17d1737f",
   "outputs": [
    {
     "data": {
      "text/plain": [
       "array([[1.        , 0.33333333, 0.66666667],\n",
       "       [0.33333333, 1.        , 0.66666667],\n",
       "       [0.66666667, 0.66666667, 1.        ]])"
      ]
     },
     "execution_count": 23,
     "metadata": {},
     "output_type": "execute_result"
    }
   ],
   "execution_count": 23
  },
  {
   "metadata": {},
   "cell_type": "markdown",
   "source": [
    "### Performance\n",
    "\n",
    "Lets see the time difference between manual computation of distance matrix between all molecules in a small dataset of 300 molecules."
   ],
   "id": "d0e6ced2d200ff93"
  },
  {
   "metadata": {
    "ExecuteTime": {
     "end_time": "2025-09-01T12:46:30.237824Z",
     "start_time": "2025-09-01T12:46:29.820729Z"
    }
   },
   "cell_type": "code",
   "source": [
    "from skfp.fingerprints import ECFPFingerprint\n",
    "\n",
    "ecfp_fingerprint = ECFPFingerprint(count=True, n_jobs=-1, verbose=True)\n",
    "\n",
    "fps = ecfp_fingerprint.transform(mols_train[:300])"
   ],
   "id": "3a937361f6108570",
   "outputs": [
    {
     "data": {
      "text/plain": [
       "  0%|          | 0/25 [00:00<?, ?it/s]"
      ],
      "application/vnd.jupyter.widget-view+json": {
       "version_major": 2,
       "version_minor": 0,
       "model_id": "4c19761074824b239b2e686b3667baa4"
      }
     },
     "metadata": {},
     "output_type": "display_data"
    }
   ],
   "execution_count": 24
  },
  {
   "metadata": {},
   "cell_type": "markdown",
   "source": "Manual implementation",
   "id": "201e8b0e0526b305"
  },
  {
   "metadata": {
    "ExecuteTime": {
     "end_time": "2025-09-01T12:47:22.833557Z",
     "start_time": "2025-09-01T12:46:30.258181Z"
    }
   },
   "cell_type": "code",
   "source": "%timeit -r 3 -n 10 [tanimoto_count_similarity(fps[i], fps[j]) for i in range(len(fps)) for j in range(len(fps))]",
   "id": "5f23367ab7d0e260",
   "outputs": [
    {
     "name": "stdout",
     "output_type": "stream",
     "text": [
      "1.75 s ± 9.44 ms per loop (mean ± std. dev. of 3 runs, 10 loops each)\n"
     ]
    }
   ],
   "execution_count": 25
  },
  {
   "metadata": {},
   "cell_type": "markdown",
   "source": "Bulk implementation",
   "id": "13fdcca76dd213aa"
  },
  {
   "metadata": {
    "ExecuteTime": {
     "end_time": "2025-09-01T12:47:22.858059Z",
     "start_time": "2025-09-01T12:47:22.855550Z"
    }
   },
   "cell_type": "code",
   "source": "from skfp.distances import bulk_tanimoto_count_similarity",
   "id": "8fb16fc0e88aee31",
   "outputs": [],
   "execution_count": 26
  },
  {
   "metadata": {
    "ExecuteTime": {
     "end_time": "2025-09-01T12:47:23.829527Z",
     "start_time": "2025-09-01T12:47:22.897568Z"
    }
   },
   "cell_type": "code",
   "source": "%timeit -r 3 -n 10 [bulk_tanimoto_count_similarity(fps)]",
   "id": "93fa077dc7867a7a",
   "outputs": [
    {
     "name": "stdout",
     "output_type": "stream",
     "text": [
      "30.7 ms ± 18.4 ms per loop (mean ± std. dev. of 3 runs, 10 loops each)\n"
     ]
    }
   ],
   "execution_count": 27
  },
  {
   "metadata": {},
   "cell_type": "markdown",
   "source": [
    "### Exercise 5\n",
    "\n",
    "Now that we know how to compute similarities in bulk, lets try ty perform MAX fusion similarity search VS.\n",
    "\n",
    "- First, extract positive samples from training dataset and transform them to vectors using molecular fingerprints You can use a molecular fingerprint of your choice. We recommend using ECFP.\n",
    "- After that transform the test set molecules using fingerprints.\n",
    "- Using `bulk_tanimoto_count_similarity()` compute similarities between the positive training samples and all test samples\n",
    "- Determine class probability for each molecule in the test set. Chose the highest similarity to a positive class molecule from test dataset. That's why this method is called \"MAX fusion\"\n",
    "- Compute AUROC, BEDROC and Enrichment Factor at 5%. You can find out about relevant metrics in [metrics section of documentation](https://scikit-fingerprints.readthedocs.io/latest/modules/metrics.html)\n"
   ],
   "id": "d4772ed51238d25"
  },
  {
   "metadata": {
    "ExecuteTime": {
     "end_time": "2025-09-01T12:47:29.488040Z",
     "start_time": "2025-09-01T12:47:23.841316Z"
    }
   },
   "cell_type": "code",
   "source": [
    "from sklearn.metrics import roc_auc_score\n",
    "\n",
    "# Complete needed imports!\n",
    "from skfp.metrics import enrichment_factor, bedroc_score\n",
    "\n",
    "positive_train_mols = [mols_train[i] for i in np.where(labels_train)[0]]\n",
    "\n",
    "ecfp_fingerprint = ECFPFingerprint(count=True, n_jobs=-1)\n",
    "positive_train_fps = ecfp_fingerprint.transform(positive_train_mols)\n",
    "\n",
    "test_fps = ecfp_fingerprint.transform(mols_test)\n",
    "\n",
    "bulk_similarity = bulk_tanimoto_count_similarity(positive_train_fps, test_fps)\n",
    "\n",
    "test_proba = bulk_similarity.max(axis=0)\n",
    "\n",
    "auroc = roc_auc_score(labels_test, test_proba)\n",
    "bedroc = bedroc_score(labels_test, test_proba, alpha=20)\n",
    "ef = enrichment_factor(labels_test, test_proba, fraction=0.05)\n",
    "\n",
    "print(f\"AUROC: {auroc}\")\n",
    "print(f\"EF5%: {ef}\")\n",
    "print(f\"bedroc score: {bedroc}\")"
   ],
   "id": "d488ebecbe4f6ff7",
   "outputs": [
    {
     "name": "stdout",
     "output_type": "stream",
     "text": [
      "AUROC: 0.7394705692456688\n",
      "EF5%: 7.645476509069284\n"
     ]
    }
   ],
   "execution_count": 28
  },
  {
   "metadata": {},
   "cell_type": "markdown",
   "source": "---",
   "id": "68872f447e5b05f7"
  }
 ],
 "metadata": {
  "kernelspec": {
   "display_name": "Python 3 (ipykernel)",
   "language": "python",
   "name": "python3"
  },
  "language_info": {
   "codemirror_mode": {
    "name": "ipython",
    "version": 3
   },
   "file_extension": ".py",
   "mimetype": "text/x-python",
   "name": "python",
   "nbconvert_exporter": "python",
   "pygments_lexer": "ipython3",
   "version": "3.12.11"
  }
 },
 "nbformat": 4,
 "nbformat_minor": 5
}

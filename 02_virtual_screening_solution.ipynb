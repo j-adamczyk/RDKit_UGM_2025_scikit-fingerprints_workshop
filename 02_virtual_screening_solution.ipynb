{
 "cells": [
  {
   "cell_type": "markdown",
   "id": "65e1b9bc-0458-4545-a504-cdb9e99919ac",
   "metadata": {
    "collapsed": true,
    "jupyter": {
     "outputs_hidden": true
    }
   },
   "source": [
    "# Virtual screening"
   ]
  },
  {
   "cell_type": "markdown",
   "id": "41c4c827-7387-4077-b924-1efc467addf4",
   "metadata": {},
   "source": [
    "Ligand-based virtual screening (LBVS) involves predicting bioactivity of large collections of compounds. It involves multiple steps, which are quite easy to perform with scikit-fingerprints.\n",
    "\n",
    "---\n",
    "\n",
    "## Notebook setup\n",
    "\n",
    "Import and load BACE dataset from moleculenet as shown in notebook 1."
   ]
  },
  {
   "metadata": {
    "ExecuteTime": {
     "end_time": "2025-08-29T08:36:53.406028Z",
     "start_time": "2025-08-29T08:36:53.047686Z"
    }
   },
   "cell_type": "code",
   "source": [
    "import pandas as pd\n",
    "import numpy as np\n",
    "\n",
    "# load malaria dataset\n",
    "df = pd.read_parquet(\"data/malaria_hts_train.parquet\")\n",
    "\n",
    "# Remove ambiguous labels\n",
    "df = df[df[\"label\"] != \"ambiguous\"]\n",
    "\n",
    "# map labels to binary\n",
    "df[\"label\"] = df[\"label\"].map({\"false\": 0, \"true\": 1})\n",
    "\n",
    "# Extract data into smiles and labels\n",
    "smiles_list = df[\"SMILES\"].values\n",
    "labels = df[\"label\"].values\n",
    "\n",
    "# subsample\n",
    "pos_idx = np.where(labels == 1)[0]\n",
    "neg_idx = np.random.choice(np.where(labels == 0)[0], size=100_000, replace=False)\n",
    "idx = np.concatenate([pos_idx, neg_idx])\n",
    "smiles_list = smiles_list[idx].tolist()\n",
    "labels = labels[idx]\n",
    "\n",
    "len(smiles_list), labels.shape"
   ],
   "id": "4d5ad9214c50edb4",
   "outputs": [
    {
     "data": {
      "text/plain": [
       "(101528, (101528,))"
      ]
     },
     "execution_count": 1,
     "metadata": {},
     "output_type": "execute_result"
    }
   ],
   "execution_count": 1
  },
  {
   "metadata": {
    "ExecuteTime": {
     "end_time": "2025-08-29T08:36:53.414430Z",
     "start_time": "2025-08-29T08:36:53.409034Z"
    }
   },
   "cell_type": "code",
   "source": "smiles_list[:10]",
   "id": "cd95c8ce9f56cda8",
   "outputs": [
    {
     "data": {
      "text/plain": [
       "['CC(C)CN(CC(C)C)S(=O)(=O)c1ccc(cc1)C(=O)Nc2nc(cs2)c3ccccn3',\n",
       " 'Clc1cccc(NC(=O)CSc2nc(ns2)c3ccccc3Cl)c1',\n",
       " 'COc1ccc(NC(=O)CSc2nc(ns2)c3ccccc3Cl)c(OC)c1',\n",
       " 'COc1ccc(OC)c(NC(=O)CSc2nc(ns2)c3ccccc3Cl)c1',\n",
       " 'COc1ccc(Cl)cc1NC(=O)CSc2nc(ns2)c3ccccc3Cl',\n",
       " 'Brc1ccc(NC2=C(C(=O)c3ccccc3C2=O)n4nnc5ccccc45)cc1',\n",
       " 'CCOC(=O)C1=C(C)N=C2S\\\\C(=C\\\\c3ccccc3O)\\\\C(=O)N2C1c4ccccc4',\n",
       " 'CCOC(=O)c1ccc(NC2=C(C(=O)c3ccccc3C2=O)n4nnc5ccccc45)cc1',\n",
       " 'CC(=O)c1ccc(NC2=C(C(=O)c3ccccc3C2=O)n4nnc5ccccc45)cc1',\n",
       " 'OC(=O)c1cccc(NC2=C(C(=O)c3ccccc3C2=O)n4nnc5ccccc45)c1']"
      ]
     },
     "execution_count": 2,
     "metadata": {},
     "output_type": "execute_result"
    }
   ],
   "execution_count": 2
  },
  {
   "metadata": {},
   "cell_type": "markdown",
   "source": [
    "This dataset contains invalid molecules. Let us use `MolFromSmilesTransformer` and remove invalid molecules by setting `valid_only` parameter to `True`.\n",
    "\n",
    "Notice that if we remove invalid molecules, the label array will be longer than list of molecules. We need to modify them both using `.transform_x_y()` method."
   ],
   "id": "d97a9613ee1c3512"
  },
  {
   "metadata": {
    "ExecuteTime": {
     "end_time": "2025-08-29T08:36:58.608071Z",
     "start_time": "2025-08-29T08:36:53.504097Z"
    }
   },
   "cell_type": "code",
   "source": [
    "from skfp.preprocessing import MolFromSmilesTransformer\n",
    "\n",
    "# Create MolFromSmilesTransformer\n",
    "mol_from_smiles = MolFromSmilesTransformer(\n",
    "    valid_only=True, n_jobs=-1, batch_size=1000, verbose=True\n",
    ")\n",
    "\n",
    "# Run the dataset transformation\n",
    "molecules, labels = mol_from_smiles.transform_x_y(smiles_list, labels)\n",
    "\n",
    "print(f\"Removed molecules: {len(smiles_list) - len(molecules)}\")"
   ],
   "id": "141063ec9a917a38",
   "outputs": [
    {
     "data": {
      "text/plain": [
       "  0%|          | 0/101 [00:00<?, ?it/s]"
      ],
      "application/vnd.jupyter.widget-view+json": {
       "version_major": 2,
       "version_minor": 0,
       "model_id": "93a02d6e2bec4231940daddaadca228a"
      }
     },
     "metadata": {},
     "output_type": "display_data"
    },
    {
     "name": "stdout",
     "output_type": "stream",
     "text": [
      "Removed molecules: 0\n"
     ]
    }
   ],
   "execution_count": 3
  },
  {
   "metadata": {},
   "cell_type": "markdown",
   "source": "---",
   "id": "f6412b32ab574aa"
  },
  {
   "metadata": {},
   "cell_type": "markdown",
   "source": "## Molecular filters",
   "id": "e54c4ab57716edb6"
  },
  {
   "cell_type": "markdown",
   "id": "9b7f68a9-8cfd-4069-bb87-f6f865b454ba",
   "metadata": {},
   "source": "TODO quick word about molecular filters, what they are for and why we want to use them."
  },
  {
   "metadata": {},
   "cell_type": "markdown",
   "source": [
    "### Physicochemical filters\n",
    "\n",
    "Todo quick word"
   ],
   "id": "ecc2def41cd5277d"
  },
  {
   "metadata": {},
   "cell_type": "markdown",
   "source": "Example without skfp",
   "id": "4782dcd2183d7ae0"
  },
  {
   "metadata": {
    "ExecuteTime": {
     "end_time": "2025-08-29T08:37:22.645939Z",
     "start_time": "2025-08-29T08:36:58.617656Z"
    }
   },
   "cell_type": "code",
   "source": [
    "from tqdm import tqdm\n",
    "from rdkit.Chem.Crippen import MolLogP\n",
    "from rdkit.Chem.rdMolDescriptors import CalcNumLipinskiHBA, CalcNumLipinskiHBD\n",
    "from rdkit.Chem.Descriptors import MolWt\n",
    "\n",
    "# Initialize lists for filtered molecules and labels\n",
    "molecules_filtered = []\n",
    "labels_filtered = []\n",
    "\n",
    "# iterate over molecules\n",
    "for i, mol in tqdm(enumerate(molecules), total=len(molecules)):\n",
    "\n",
    "    # check for Lipinski's Rule of 5 conditions\n",
    "    rules = [\n",
    "        MolWt(mol) <= 500,  # molecular weight\n",
    "        CalcNumLipinskiHBA(mol) <= 10,  # HBA\n",
    "        CalcNumLipinskiHBD(mol) <= 5,  # HBD\n",
    "        MolLogP(mol) <= 5,  # logP\n",
    "    ]\n",
    "\n",
    "    # Append data and label to the end of the output list\n",
    "    if all(rules):\n",
    "        molecules_filtered.append(mol)\n",
    "        labels_filtered.append(labels[i])"
   ],
   "id": "dbd4d50f2c9f7b51",
   "outputs": [
    {
     "name": "stderr",
     "output_type": "stream",
     "text": [
      "100%|██████████| 101528/101528 [00:23<00:00, 4231.31it/s]\n"
     ]
    }
   ],
   "execution_count": 4
  },
  {
   "metadata": {},
   "cell_type": "markdown",
   "source": [
    "Instead of filtering the molecules like that we can use scikit-learn compatible interface provided by scikit fingerprints.\n",
    "\n",
    "Initialize `LipinskiFilter` and perform `.transform_x_y` transformation on molecules and labels"
   ],
   "id": "a62c32c36a29a776"
  },
  {
   "metadata": {
    "ExecuteTime": {
     "end_time": "2025-08-29T08:37:26.667333Z",
     "start_time": "2025-08-29T08:37:22.651713Z"
    }
   },
   "cell_type": "code",
   "source": [
    "from skfp.filters import LipinskiFilter\n",
    "\n",
    "filter = LipinskiFilter(n_jobs=-1, verbose=True)\n",
    "molecules_filtered, labels_filtered = filter.transform_x_y(molecules, labels)"
   ],
   "id": "63ff9ae71bcc16a3",
   "outputs": [
    {
     "name": "stderr",
     "output_type": "stream",
     "text": [
      "<frozen importlib._bootstrap>:241: RuntimeWarning: to-Python converter for class boost::shared_ptr<class RDKit::FilterHierarchyMatcher> already registered; second conversion method ignored.\n",
      "<frozen importlib._bootstrap>:241: RuntimeWarning: to-Python converter for class boost::shared_ptr<class RDKit::FilterCatalogEntry> already registered; second conversion method ignored.\n"
     ]
    },
    {
     "data": {
      "text/plain": [
       "  0%|          | 0/24 [00:00<?, ?it/s]"
      ],
      "application/vnd.jupyter.widget-view+json": {
       "version_major": 2,
       "version_minor": 0,
       "model_id": "08f78ed17ef14d739fe30e86c212a7cb"
      }
     },
     "metadata": {},
     "output_type": "display_data"
    }
   ],
   "execution_count": 5
  },
  {
   "metadata": {},
   "cell_type": "markdown",
   "source": "If we don't have labels we can still filter the molecules only.",
   "id": "14a75029bc44b2c2"
  },
  {
   "metadata": {
    "ExecuteTime": {
     "end_time": "2025-08-29T08:37:30.557206Z",
     "start_time": "2025-08-29T08:37:26.675665Z"
    }
   },
   "cell_type": "code",
   "source": "molecules_filtered = filter.transform(molecules)",
   "id": "dd3cd67a7aebee00",
   "outputs": [
    {
     "data": {
      "text/plain": [
       "  0%|          | 0/24 [00:00<?, ?it/s]"
      ],
      "application/vnd.jupyter.widget-view+json": {
       "version_major": 2,
       "version_minor": 0,
       "model_id": "f517d9ba25f64e5189cd7ae486ee7e8c"
      }
     },
     "metadata": {},
     "output_type": "display_data"
    }
   ],
   "execution_count": 6
  },
  {
   "metadata": {},
   "cell_type": "markdown",
   "source": "Display the how the number of molecules changes",
   "id": "4cad93d08e7e0a1c"
  },
  {
   "metadata": {
    "ExecuteTime": {
     "end_time": "2025-08-29T08:37:30.566127Z",
     "start_time": "2025-08-29T08:37:30.563368Z"
    }
   },
   "cell_type": "code",
   "source": [
    "print(f\"Original size     : {len(molecules)}\")\n",
    "print(f\"Filtered size     : {len(molecules_filtered)}\")\n",
    "print(f\"Removed molecules : {len(molecules) - len(molecules_filtered)}\")"
   ],
   "id": "306270bc10edf227",
   "outputs": [
    {
     "name": "stdout",
     "output_type": "stream",
     "text": [
      "Original size     : 101528\n",
      "Filtered size     : 100946\n",
      "Removed molecules : 582\n"
     ]
    }
   ],
   "execution_count": 7
  },
  {
   "metadata": {},
   "cell_type": "markdown",
   "source": [
    "### Substructural filters\n",
    "\n",
    "TODO quick word"
   ],
   "id": "6803bb78e46281c4"
  },
  {
   "metadata": {
    "ExecuteTime": {
     "end_time": "2025-08-29T08:37:30.575251Z",
     "start_time": "2025-08-29T08:37:30.573458Z"
    }
   },
   "cell_type": "code",
   "source": [
    "# Create new names to avoid overriding `molecules` and `labels`\n",
    "mols, y = molecules, labels"
   ],
   "id": "fe1e34daaad43426",
   "outputs": [],
   "execution_count": 8
  },
  {
   "metadata": {
    "ExecuteTime": {
     "end_time": "2025-08-29T08:37:54.255822Z",
     "start_time": "2025-08-29T08:37:30.582015Z"
    }
   },
   "cell_type": "code",
   "source": [
    "from skfp.filters import PAINSFilter\n",
    "\n",
    "# Create a list of pains filters\n",
    "verbosity_args = dict(batch_size=1000, n_jobs=-1, verbose=True)\n",
    "pains_filters = [\n",
    "    PAINSFilter(variant=\"A\", **verbosity_args),\n",
    "    PAINSFilter(variant=\"B\", **verbosity_args),\n",
    "    PAINSFilter(variant=\"C\", **verbosity_args),\n",
    "]\n",
    "\n",
    "print(f\"Molecules before filtering: {len(mols)}\")\n",
    "\n",
    "# Iterate over filters and perform filtering\n",
    "for i, filter in enumerate(pains_filters):\n",
    "    mols, y = filter.transform_x_y(mols, y)\n",
    "    print(f\"Molecules after PAINS {i}: {len(mols)}\")\n",
    "\n",
    "n_active = y.sum()\n",
    "n_inactive = len(y) - n_active\n",
    "print(f\"Final inactive molecules: {n_inactive}\")\n",
    "print(f\"Final active molecules: {n_active}\")"
   ],
   "id": "f10844ef7fa56595",
   "outputs": [
    {
     "name": "stdout",
     "output_type": "stream",
     "text": [
      "Molecules before filtering: 101528\n"
     ]
    },
    {
     "data": {
      "text/plain": [
       "  0%|          | 0/101 [00:00<?, ?it/s]"
      ],
      "application/vnd.jupyter.widget-view+json": {
       "version_major": 2,
       "version_minor": 0,
       "model_id": "37e4f0eb11d1436994619a9cde4c8403"
      }
     },
     "metadata": {},
     "output_type": "display_data"
    },
    {
     "name": "stdout",
     "output_type": "stream",
     "text": [
      "Molecules after PAINS 0: 96483\n"
     ]
    },
    {
     "data": {
      "text/plain": [
       "  0%|          | 0/96 [00:00<?, ?it/s]"
      ],
      "application/vnd.jupyter.widget-view+json": {
       "version_major": 2,
       "version_minor": 0,
       "model_id": "a19e496cc54f4f54be5a46e3a597dff1"
      }
     },
     "metadata": {},
     "output_type": "display_data"
    },
    {
     "name": "stdout",
     "output_type": "stream",
     "text": [
      "Molecules after PAINS 1: 94850\n"
     ]
    },
    {
     "data": {
      "text/plain": [
       "  0%|          | 0/94 [00:00<?, ?it/s]"
      ],
      "application/vnd.jupyter.widget-view+json": {
       "version_major": 2,
       "version_minor": 0,
       "model_id": "7f91e2340294401998c8bb2d6357d7cb"
      }
     },
     "metadata": {},
     "output_type": "display_data"
    },
    {
     "name": "stdout",
     "output_type": "stream",
     "text": [
      "Molecules after PAINS 2: 94356\n",
      "Final inactive molecules: 93141\n",
      "Final active molecules: 1215\n"
     ]
    }
   ],
   "execution_count": 9
  },
  {
   "metadata": {},
   "cell_type": "markdown",
   "source": "### All filters in scikit-fingerprints",
   "id": "fd30d339343e20cd"
  },
  {
   "metadata": {
    "ExecuteTime": {
     "end_time": "2025-08-29T08:37:54.273276Z",
     "start_time": "2025-08-29T08:37:54.271325Z"
    }
   },
   "cell_type": "code",
   "source": [
    "# from skfp.filters import (\n",
    "#     BeyondRo5Filter,\n",
    "#     BMSFilter,\n",
    "#     BrenkFilter,\n",
    "#     FAF4DruglikeFilter,\n",
    "#     FAF4LeadlikeFilter,\n",
    "#     GhoseFilter,\n",
    "#     GlaxoFilter,\n",
    "#     GSKFilter,\n",
    "#     HaoFilter,\n",
    "#     InpharmaticaFilter,\n",
    "#     LINTFilter,\n",
    "#     LipinskiFilter,\n",
    "#     MLSMRFilter,\n",
    "#     MolecularWeightFilter,\n",
    "#     NIBRFilter,\n",
    "#     NIHFilter,\n",
    "#     OpreaFilter,\n",
    "#     PAINSFilter,\n",
    "#     PfizerFilter,\n",
    "#     REOSFilter,\n",
    "#     RuleOfFourFilter,\n",
    "#     RuleOfThreeFilter,\n",
    "#     RuleOfTwoFilter,\n",
    "#     RuleOfVeberFilter,\n",
    "#     RuleOfXuFilter,\n",
    "#     SureChEMBLFilter,\n",
    "#     TiceHerbicidesFilter,\n",
    "#     TiceInsecticidesFilter,\n",
    "#     ValenceDiscoveryFilter,\n",
    "#     ZINCBasicFilter,\n",
    "#     ZINCDruglikeFilter,\n",
    "# )"
   ],
   "id": "fd0b95399d1bef68",
   "outputs": [],
   "execution_count": 10
  },
  {
   "metadata": {},
   "cell_type": "markdown",
   "source": "---",
   "id": "f8930341294665e7"
  },
  {
   "cell_type": "markdown",
   "id": "50a22cd1-253b-449f-85f4-137a9c9d6b55",
   "metadata": {},
   "source": [
    "## Data splits\n",
    "\n",
    "Quick word if someone isn't familiar\n",
    "\n",
    "Before we used pre-computed splits provided by benchmarks.\n",
    "\n",
    "Sometimes we want to compute our own splits."
   ]
  },
  {
   "cell_type": "code",
   "id": "5962af78-76b9-448a-be79-f1d9b47eaff2",
   "metadata": {
    "ExecuteTime": {
     "end_time": "2025-08-29T08:37:54.278784Z",
     "start_time": "2025-08-29T08:37:54.275274Z"
    }
   },
   "source": [
    "\"\"\"TODO here:\n",
    "    - Show scaffold split without skfp\n",
    "    - Show manual split computation with skfp\n",
    "\"\"\""
   ],
   "outputs": [
    {
     "data": {
      "text/plain": [
       "'TODO here:\\n    - Show scaffold split without skfp\\n    - Show manual split computation with skfp\\n'"
      ]
     },
     "execution_count": 11,
     "metadata": {},
     "output_type": "execute_result"
    }
   ],
   "execution_count": 11
  },
  {
   "metadata": {
    "ExecuteTime": {
     "end_time": "2025-08-29T08:38:04.330395Z",
     "start_time": "2025-08-29T08:37:54.285214Z"
    }
   },
   "cell_type": "code",
   "source": [
    "# Without skfp\n",
    "\n",
    "from copy import deepcopy\n",
    "from rdkit.Chem.Scaffolds import MurckoScaffold\n",
    "from rdkit import Chem\n",
    "from collections import defaultdict\n",
    "\n",
    "data_size = len(molecules)\n",
    "\n",
    "# Compute sizes of the output dataset\n",
    "test_size = int(0.1 * data_size)\n",
    "valid_size = int(0.1 * data_size)\n",
    "train_size = data_size - test_size - valid_size\n",
    "\n",
    "# Determine indices that correspond to individual scaffold sets\n",
    "scaffold_sets = defaultdict(list)\n",
    "for idx, mol in enumerate(molecules):\n",
    "    mol = deepcopy(mol)\n",
    "    Chem.RemoveStereochemistry(mol)\n",
    "    scaffold = MurckoScaffold.MurckoScaffoldSmiles(mol=mol)\n",
    "    scaffold_sets[scaffold].append(idx)\n",
    "\n",
    "# Sort scaffold sets\n",
    "scaffold_sets = list(scaffold_sets.values())\n",
    "scaffold_sets.sort(key=len)\n",
    "\n",
    "# Create indices out of the created scaffold sets\n",
    "train_idxs: list[int] = []\n",
    "valid_idxs: list[int] = []\n",
    "test_idxs: list[int] = []\n",
    "for scaffold_set in scaffold_sets:\n",
    "    if len(test_idxs) < test_size:\n",
    "        test_idxs.extend(scaffold_set)\n",
    "    elif len(valid_idxs) < valid_size:\n",
    "        valid_idxs.extend(scaffold_set)\n",
    "    else:\n",
    "        train_idxs.extend(scaffold_set)\n",
    "\n",
    "# Extract data\n",
    "molecules_train = [molecules[i] for i in train_idxs]\n",
    "molecules_valid = [molecules[i] for i in valid_idxs]\n",
    "molecules_test = [molecules[i] for i in test_idxs]\n",
    "\n",
    "labels_train = labels[train_idxs]\n",
    "labels_valid = labels[valid_idxs]\n",
    "labels_test = labels[test_idxs]"
   ],
   "id": "d06a073a3bcc0713",
   "outputs": [],
   "execution_count": 12
  },
  {
   "metadata": {
    "ExecuteTime": {
     "end_time": "2025-08-29T08:38:04.342421Z",
     "start_time": "2025-08-29T08:38:04.338417Z"
    }
   },
   "cell_type": "code",
   "source": "len(molecules_train), len(molecules_valid), len(molecules_test)",
   "id": "a1297fa8b93419fd",
   "outputs": [
    {
     "data": {
      "text/plain": [
       "(81223, 10152, 10153)"
      ]
     },
     "execution_count": 13,
     "metadata": {},
     "output_type": "execute_result"
    }
   ],
   "execution_count": 13
  },
  {
   "metadata": {
    "ExecuteTime": {
     "end_time": "2025-08-29T08:38:14.682029Z",
     "start_time": "2025-08-29T08:38:04.352102Z"
    }
   },
   "cell_type": "code",
   "source": [
    "# With skfp\n",
    "\n",
    "from skfp.model_selection import scaffold_train_valid_test_split\n",
    "\n",
    "# We can also import scaffold_train_test_split!\n",
    "\n",
    "(\n",
    "    molecules_train,\n",
    "    molecules_valid,\n",
    "    molecules_test,\n",
    "    labels_train,\n",
    "    labels_valid,\n",
    "    labels_test,\n",
    ") = scaffold_train_valid_test_split(\n",
    "    molecules, labels, train_size=0.8, valid_size=0.1, test_size=0.1\n",
    ")"
   ],
   "id": "4b98b807744b9ab0",
   "outputs": [],
   "execution_count": 14
  },
  {
   "metadata": {
    "ExecuteTime": {
     "end_time": "2025-08-29T08:38:14.694014Z",
     "start_time": "2025-08-29T08:38:14.690572Z"
    }
   },
   "cell_type": "code",
   "source": "len(molecules_train), len(molecules_valid), len(molecules_test)",
   "id": "5a5639592ff58cfc",
   "outputs": [
    {
     "data": {
      "text/plain": [
       "(81223, 10152, 10153)"
      ]
     },
     "execution_count": 15,
     "metadata": {},
     "output_type": "execute_result"
    }
   ],
   "execution_count": 15
  },
  {
   "metadata": {},
   "cell_type": "markdown",
   "source": "All splits available in skfp",
   "id": "e980466ee66e9979"
  },
  {
   "metadata": {
    "ExecuteTime": {
     "end_time": "2025-08-29T08:38:14.705163Z",
     "start_time": "2025-08-29T08:38:14.702792Z"
    }
   },
   "cell_type": "code",
   "source": [
    "# from skfp.model_selection import (\n",
    "#     butina_train_test_split,\n",
    "#     butina_train_valid_test_split,\n",
    "#     maxmin_train_test_split,\n",
    "#     maxmin_train_valid_test_split,\n",
    "#     randomized_scaffold_train_test_split,\n",
    "#     randomized_scaffold_train_valid_test_split,\n",
    "#     scaffold_train_test_split,\n",
    "#     scaffold_train_valid_test_split,\n",
    "# )"
   ],
   "id": "49c17a9d4f56ffb2",
   "outputs": [],
   "execution_count": 16
  },
  {
   "metadata": {},
   "cell_type": "markdown",
   "source": "---",
   "id": "114997cc7cc6c948"
  },
  {
   "cell_type": "markdown",
   "id": "7e52e746-75f0-479d-9cc6-b741fabf8cf2",
   "metadata": {},
   "source": [
    "## Similarity, distance & evaluation metrics\n",
    "\n"
   ]
  },
  {
   "metadata": {},
   "cell_type": "markdown",
   "source": [
    "### Similarities & distances\n",
    "\n",
    "quick word"
   ],
   "id": "101bdd7eb9ddd9bc"
  },
  {
   "metadata": {
    "ExecuteTime": {
     "end_time": "2025-08-29T08:38:14.715885Z",
     "start_time": "2025-08-29T08:38:14.713430Z"
    }
   },
   "cell_type": "code",
   "source": [
    "bit_vec_1 = np.array([1, 1, 0, 0])\n",
    "bit_vec_2 = np.array([0, 1, 1, 0])"
   ],
   "id": "2b7fa4b52ab88740",
   "outputs": [],
   "execution_count": 17
  },
  {
   "metadata": {
    "ExecuteTime": {
     "end_time": "2025-08-29T08:38:15.108401Z",
     "start_time": "2025-08-29T08:38:14.725096Z"
    }
   },
   "cell_type": "code",
   "source": [
    "from skfp.distances import tanimoto_binary_distance\n",
    "\n",
    "binary_distance = tanimoto_binary_distance(bit_vec_1, bit_vec_2)\n",
    "\n",
    "print(f\"similarity of binary vectors: {binary_distance}\")"
   ],
   "id": "8ebc434b8d4ec6b8",
   "outputs": [
    {
     "name": "stdout",
     "output_type": "stream",
     "text": [
      "similarity of binary vectors: 0.6666666666666667\n"
     ]
    }
   ],
   "execution_count": 18
  },
  {
   "metadata": {
    "ExecuteTime": {
     "end_time": "2025-08-29T08:38:15.119399Z",
     "start_time": "2025-08-29T08:38:15.117416Z"
    }
   },
   "cell_type": "code",
   "source": [
    "count_vec_1 = np.array([2, 3, 4, 0])\n",
    "count_vec_2 = np.array([2, 3, 4, 2])"
   ],
   "id": "ab8ee9d637cb3df9",
   "outputs": [],
   "execution_count": 19
  },
  {
   "metadata": {
    "ExecuteTime": {
     "end_time": "2025-08-29T08:38:15.131600Z",
     "start_time": "2025-08-29T08:38:15.128700Z"
    }
   },
   "cell_type": "code",
   "source": [
    "from skfp.distances import tanimoto_count_distance\n",
    "\n",
    "count_distance = tanimoto_count_distance(bit_vec_1, bit_vec_2)\n",
    "\n",
    "print(f\"similarity of count vectors: {count_distance}\")"
   ],
   "id": "30e70cc9e8fb2cff",
   "outputs": [
    {
     "name": "stdout",
     "output_type": "stream",
     "text": [
      "similarity of count vectors: 0.6666666666666667\n"
     ]
    }
   ],
   "execution_count": 20
  },
  {
   "metadata": {
    "ExecuteTime": {
     "end_time": "2025-08-29T08:38:16.058314Z",
     "start_time": "2025-08-29T08:38:15.142377Z"
    }
   },
   "cell_type": "code",
   "source": [
    "from skfp.distances.tanimoto import (\n",
    "    bulk_tanimoto_binary_similarity,\n",
    ")\n",
    "\n",
    "arr_1 = np.array(\n",
    "    [\n",
    "        [1, 1, 1],\n",
    "        [0, 0, 1],\n",
    "        [1, 1, 1],\n",
    "    ]\n",
    ")\n",
    "\n",
    "arr_2 = np.array(\n",
    "    [\n",
    "        [1, 0, 1],\n",
    "        [0, 1, 1],\n",
    "        [1, 1, 1],\n",
    "    ]\n",
    ")\n",
    "\n",
    "sim = bulk_tanimoto_binary_similarity(arr_1, arr_2)\n",
    "sim"
   ],
   "id": "5c48ab5fbe6cfd56",
   "outputs": [
    {
     "data": {
      "text/plain": [
       "array([[0.66666667, 0.66666667, 1.        ],\n",
       "       [0.5       , 0.5       , 0.33333333],\n",
       "       [0.66666667, 0.66666667, 1.        ]])"
      ]
     },
     "execution_count": 21,
     "metadata": {},
     "output_type": "execute_result"
    }
   ],
   "execution_count": 21
  },
  {
   "metadata": {
    "ExecuteTime": {
     "end_time": "2025-08-29T08:38:16.530827Z",
     "start_time": "2025-08-29T08:38:16.072082Z"
    }
   },
   "cell_type": "code",
   "source": [
    "X = np.array(\n",
    "    [\n",
    "        [1, 0, 1],\n",
    "        [0, 1, 1],\n",
    "        [1, 1, 1],\n",
    "    ]\n",
    ")\n",
    "\n",
    "sim = bulk_tanimoto_binary_similarity(X)\n",
    "sim"
   ],
   "id": "f75f6ae17d1737f",
   "outputs": [
    {
     "data": {
      "text/plain": [
       "array([[1.        , 0.33333333, 0.66666667],\n",
       "       [0.33333333, 1.        , 0.66666667],\n",
       "       [0.66666667, 0.66666667, 1.        ]])"
      ]
     },
     "execution_count": 22,
     "metadata": {},
     "output_type": "execute_result"
    }
   ],
   "execution_count": 22
  },
  {
   "metadata": {
    "ExecuteTime": {
     "end_time": "2025-08-29T08:38:17.128663Z",
     "start_time": "2025-08-29T08:38:16.554349Z"
    }
   },
   "cell_type": "code",
   "source": [
    "from skfp.fingerprints import ECFPFingerprint\n",
    "from skfp.distances import bulk_tanimoto_count_similarity, tanimoto_count_similarity\n",
    "\n",
    "ecfp_fingerprint = ECFPFingerprint(count=True, n_jobs=-1, verbose=True)\n",
    "\n",
    "fps = ecfp_fingerprint.transform(molecules[:300])"
   ],
   "id": "3a937361f6108570",
   "outputs": [
    {
     "data": {
      "text/plain": [
       "  0%|          | 0/25 [00:00<?, ?it/s]"
      ],
      "application/vnd.jupyter.widget-view+json": {
       "version_major": 2,
       "version_minor": 0,
       "model_id": "f316c54a43a141058f40f2fdafc76df6"
      }
     },
     "metadata": {},
     "output_type": "display_data"
    }
   ],
   "execution_count": 23
  },
  {
   "metadata": {
    "ExecuteTime": {
     "end_time": "2025-08-29T08:39:06.275617Z",
     "start_time": "2025-08-29T08:38:17.150239Z"
    }
   },
   "cell_type": "code",
   "source": "%timeit -r 3 -n 10 [tanimoto_count_similarity(fps[i], fps[j]) for i in range(len(fps)) for j in range(len(fps))]",
   "id": "5f23367ab7d0e260",
   "outputs": [
    {
     "name": "stdout",
     "output_type": "stream",
     "text": [
      "1.64 s ± 1.56 ms per loop (mean ± std. dev. of 3 runs, 10 loops each)\n"
     ]
    }
   ],
   "execution_count": 24
  },
  {
   "metadata": {
    "ExecuteTime": {
     "end_time": "2025-08-29T08:39:07.172107Z",
     "start_time": "2025-08-29T08:39:06.279624Z"
    }
   },
   "cell_type": "code",
   "source": "%timeit -r 3 -n 10 [bulk_tanimoto_count_similarity(fps)]",
   "id": "93fa077dc7867a7a",
   "outputs": [
    {
     "name": "stdout",
     "output_type": "stream",
     "text": [
      "29.5 ms ± 17 ms per loop (mean ± std. dev. of 3 runs, 10 loops each)\n"
     ]
    }
   ],
   "execution_count": 25
  },
  {
   "metadata": {
    "ExecuteTime": {
     "end_time": "2025-08-29T08:39:15.963771Z",
     "start_time": "2025-08-29T08:39:07.197484Z"
    }
   },
   "cell_type": "code",
   "source": [
    "from sklearn.pipeline import make_pipeline\n",
    "from sklearn.metrics import roc_auc_score\n",
    "from sklearn.neighbors import KNeighborsClassifier\n",
    "\n",
    "# Complete needed imports!\n",
    "from skfp.model_selection import scaffold_train_test_split\n",
    "from skfp.datasets.moleculenet import load_bace\n",
    "\n",
    "# load bace dataset\n",
    "smiles, labels = load_bace()\n",
    "\n",
    "# perform train/test split. (we don't want to use validation set!)\n",
    "smiles_train, smiles_test, labels_train, labels_test = scaffold_train_test_split(\n",
    "    smiles, labels, test_size=0.2\n",
    ")\n",
    "\n",
    "# initialize a pipeline consisting of binary ECFP fingerprint,\n",
    "# and KNeighborsClassifier with correct tanimoto distance metric\n",
    "pipeline = make_pipeline(\n",
    "    ECFPFingerprint(n_jobs=-1),\n",
    "    KNeighborsClassifier(metric=tanimoto_binary_distance, n_jobs=-1),\n",
    ")\n",
    "\n",
    "# rain and predict the pipeline\n",
    "pipeline.fit(smiles_train, labels_train)\n",
    "labels_pred = pipeline.predict(smiles_test)\n",
    "\n",
    "# Compute auroc metric\n",
    "auroc = roc_auc_score(labels_test, labels_pred)"
   ],
   "id": "d488ebecbe4f6ff7",
   "outputs": [],
   "execution_count": 26
  },
  {
   "metadata": {},
   "cell_type": "markdown",
   "source": "### Multioutput evaluation metrics",
   "id": "48f233c1094badc0"
  },
  {
   "metadata": {
    "ExecuteTime": {
     "end_time": "2025-08-29T08:39:17.909710Z",
     "start_time": "2025-08-29T08:39:15.982817Z"
    }
   },
   "cell_type": "code",
   "source": [
    "from sklearn.ensemble import RandomForestClassifier\n",
    "from skfp.datasets.moleculenet import load_sider\n",
    "from skfp.metrics import multioutput_auprc_score, extract_pos_proba\n",
    "\n",
    "smiles, labels = load_sider()\n",
    "\n",
    "smiles_train, smiles_test, labels_train, labels_test = scaffold_train_test_split(\n",
    "    smiles, labels, test_size=0.2\n",
    ")\n",
    "\n",
    "pipeline = make_pipeline(ECFPFingerprint(n_jobs=-1), RandomForestClassifier(n_jobs=-1))\n",
    "\n",
    "pipeline.fit(smiles_train, labels_train)\n",
    "\n",
    "labels_proba = pipeline.predict_proba(smiles_test)\n",
    "labels_proba = extract_pos_proba(labels_proba)\n",
    "\n",
    "auprc_score = multioutput_auprc_score(labels_test, labels_proba)"
   ],
   "id": "af0fd3a3800f3b14",
   "outputs": [
    {
     "name": "stderr",
     "output_type": "stream",
     "text": [
      "[10:39:16] WARNING: not removing hydrogen atom without neighbors\n",
      "[10:39:16] WARNING: not removing hydrogen atom without neighbors\n",
      "[10:39:16] WARNING: not removing hydrogen atom without neighbors\n",
      "[10:39:16] WARNING: not removing hydrogen atom without neighbors\n",
      "[10:39:16] WARNING: not removing hydrogen atom without neighbors\n",
      "[10:39:16] WARNING: not removing hydrogen atom without neighbors\n",
      "[10:39:16] WARNING: not removing hydrogen atom without neighbors\n",
      "[10:39:16] WARNING: not removing hydrogen atom without neighbors\n",
      "[10:39:16] WARNING: not removing hydrogen atom without neighbors\n",
      "[10:39:16] WARNING: not removing hydrogen atom without neighbors\n",
      "[10:39:16] WARNING: not removing hydrogen atom without neighbors\n",
      "[10:39:16] WARNING: not removing hydrogen atom without neighbors\n",
      "[10:39:16] WARNING: not removing hydrogen atom without neighbors\n"
     ]
    }
   ],
   "execution_count": 27
  },
  {
   "metadata": {
    "ExecuteTime": {
     "end_time": "2025-08-29T08:40:34.006832Z",
     "start_time": "2025-08-29T08:40:34.002849Z"
    }
   },
   "cell_type": "code",
   "source": "auprc_score",
   "id": "93c243728fa802aa",
   "outputs": [
    {
     "data": {
      "text/plain": [
       "0.671021176167776"
      ]
     },
     "execution_count": 28,
     "metadata": {},
     "output_type": "execute_result"
    }
   ],
   "execution_count": 28
  },
  {
   "metadata": {},
   "cell_type": "markdown",
   "source": "---",
   "id": "68872f447e5b05f7"
  },
  {
   "metadata": {
    "ExecuteTime": {
     "end_time": "2025-08-29T08:39:17.913768Z",
     "start_time": "2025-08-29T08:39:17.911722Z"
    }
   },
   "cell_type": "code",
   "source": "",
   "id": "7da3704b0f6f96ed",
   "outputs": [],
   "execution_count": null
  }
 ],
 "metadata": {
  "kernelspec": {
   "display_name": "Python 3 (ipykernel)",
   "language": "python",
   "name": "python3"
  },
  "language_info": {
   "codemirror_mode": {
    "name": "ipython",
    "version": 3
   },
   "file_extension": ".py",
   "mimetype": "text/x-python",
   "name": "python",
   "nbconvert_exporter": "python",
   "pygments_lexer": "ipython3",
   "version": "3.12.11"
  }
 },
 "nbformat": 4,
 "nbformat_minor": 5
}

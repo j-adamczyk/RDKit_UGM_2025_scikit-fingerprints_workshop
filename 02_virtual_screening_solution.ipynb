{
 "cells": [
  {
   "cell_type": "markdown",
   "id": "65e1b9bc-0458-4545-a504-cdb9e99919ac",
   "metadata": {
    "collapsed": true,
    "jupyter": {
     "outputs_hidden": true
    }
   },
   "source": [
    "# Virtual screening"
   ]
  },
  {
   "cell_type": "markdown",
   "id": "41c4c827-7387-4077-b924-1efc467addf4",
   "metadata": {},
   "source": [
    "Ligand-based virtual screening (LBVS) involves predicting bioactivity of large collections of compounds. It involves multiple steps, which are quite easy to perform with scikit-fingerprints.\n",
    "\n",
    "---\n",
    "\n",
    "## Notebook setup\n",
    "\n",
    "Import and load a malaria_hts dataset that comes from high-throughput screening (HTS) campaigns from around 2010-2012.\n",
    "\n",
    "Let's load and preprocess the data to match our desired format. Which is, SMILES strings stored in a list and their corresponding labels stored in numpy array without ambiguous labels."
   ]
  },
  {
   "metadata": {
    "ExecuteTime": {
     "end_time": "2025-08-30T11:29:28.279290Z",
     "start_time": "2025-08-30T11:29:27.914663Z"
    }
   },
   "cell_type": "code",
   "source": [
    "import pandas as pd\n",
    "import numpy as np\n",
    "\n",
    "# load malaria dataset\n",
    "df = pd.read_parquet(\"data/malaria_hts_train.parquet\")\n",
    "\n",
    "# Remove ambiguous labels\n",
    "df = df[df[\"label\"] != \"ambiguous\"]\n",
    "\n",
    "# map labels to binary\n",
    "df[\"label\"] = df[\"label\"].map({\"false\": 0, \"true\": 1})\n",
    "\n",
    "# Extract data into smiles and labels\n",
    "smiles_list = df[\"SMILES\"].values\n",
    "labels = df[\"label\"].values\n",
    "\n",
    "# subsample\n",
    "pos_idx = np.where(labels == 1)[0]\n",
    "neg_idx = np.random.choice(np.where(labels == 0)[0], size=100_000, replace=False)\n",
    "idx = np.concatenate([pos_idx, neg_idx])\n",
    "smiles_list = smiles_list[idx].tolist()\n",
    "labels = labels[idx]\n",
    "\n",
    "len(smiles_list), labels.shape[0]"
   ],
   "id": "4d5ad9214c50edb4",
   "outputs": [
    {
     "data": {
      "text/plain": [
       "(101528, 101528)"
      ]
     },
     "execution_count": 1,
     "metadata": {},
     "output_type": "execute_result"
    }
   ],
   "execution_count": 1
  },
  {
   "metadata": {},
   "cell_type": "markdown",
   "source": "Display example Smiles",
   "id": "e6ae2d3dc59b1b9"
  },
  {
   "metadata": {
    "ExecuteTime": {
     "end_time": "2025-08-30T11:29:28.286326Z",
     "start_time": "2025-08-30T11:29:28.282289Z"
    }
   },
   "cell_type": "code",
   "source": "smiles_list[:10]",
   "id": "cd95c8ce9f56cda8",
   "outputs": [
    {
     "data": {
      "text/plain": [
       "['CC(C)CN(CC(C)C)S(=O)(=O)c1ccc(cc1)C(=O)Nc2nc(cs2)c3ccccn3',\n",
       " 'Clc1cccc(NC(=O)CSc2nc(ns2)c3ccccc3Cl)c1',\n",
       " 'COc1ccc(NC(=O)CSc2nc(ns2)c3ccccc3Cl)c(OC)c1',\n",
       " 'COc1ccc(OC)c(NC(=O)CSc2nc(ns2)c3ccccc3Cl)c1',\n",
       " 'COc1ccc(Cl)cc1NC(=O)CSc2nc(ns2)c3ccccc3Cl',\n",
       " 'Brc1ccc(NC2=C(C(=O)c3ccccc3C2=O)n4nnc5ccccc45)cc1',\n",
       " 'CCOC(=O)C1=C(C)N=C2S\\\\C(=C\\\\c3ccccc3O)\\\\C(=O)N2C1c4ccccc4',\n",
       " 'CCOC(=O)c1ccc(NC2=C(C(=O)c3ccccc3C2=O)n4nnc5ccccc45)cc1',\n",
       " 'CC(=O)c1ccc(NC2=C(C(=O)c3ccccc3C2=O)n4nnc5ccccc45)cc1',\n",
       " 'OC(=O)c1cccc(NC2=C(C(=O)c3ccccc3C2=O)n4nnc5ccccc45)c1']"
      ]
     },
     "execution_count": 2,
     "metadata": {},
     "output_type": "execute_result"
    }
   ],
   "execution_count": 2
  },
  {
   "metadata": {},
   "cell_type": "markdown",
   "source": [
    "### Exercise 1\n",
    "\n",
    "This dataset contains invalid molecules. Use `MolFromSmilesTransformer` to remove invalid molecules by setting `valid_only` parameter to `True`.\n",
    "\n",
    "Notice that if we remove invalid molecules, the label array will be longer than list of molecules. We need to modify both of them by using `.transform_x_y()` method.\n",
    "\n",
    "In case of issues consult the `MolFromSmilesTransformer` [documentation](https://scikit-fingerprints.readthedocs.io/latest/api_reference.html) that you will find in the preprocessing section."
   ],
   "id": "d97a9613ee1c3512"
  },
  {
   "metadata": {
    "ExecuteTime": {
     "end_time": "2025-08-30T11:29:33.917261Z",
     "start_time": "2025-08-30T11:29:28.373885Z"
    }
   },
   "cell_type": "code",
   "source": [
    "# import MolFromSmilesTransformer\n",
    "from skfp.preprocessing import MolFromSmilesTransformer\n",
    "\n",
    "# Create MolFromSmilesTransformer\n",
    "mol_from_smiles = MolFromSmilesTransformer(\n",
    "    valid_only=True, n_jobs=-1, batch_size=1000, verbose=True\n",
    ")\n",
    "\n",
    "# Run the dataset transformation to createe molecules and labels\n",
    "molecules, labels = mol_from_smiles.transform_x_y(smiles_list, labels)\n",
    "\n",
    "print(f\"Removed molecules: {len(smiles_list) - len(molecules)}\")"
   ],
   "id": "141063ec9a917a38",
   "outputs": [
    {
     "data": {
      "text/plain": [
       "  0%|          | 0/101 [00:00<?, ?it/s]"
      ],
      "application/vnd.jupyter.widget-view+json": {
       "version_major": 2,
       "version_minor": 0,
       "model_id": "344a1853e6564067a4a0c4cc2d5894b5"
      }
     },
     "metadata": {},
     "output_type": "display_data"
    },
    {
     "name": "stdout",
     "output_type": "stream",
     "text": [
      "Removed molecules: 1\n"
     ]
    }
   ],
   "execution_count": 3
  },
  {
   "metadata": {},
   "cell_type": "markdown",
   "source": "---",
   "id": "f6412b32ab574aa"
  },
  {
   "cell_type": "markdown",
   "id": "9b7f68a9-8cfd-4069-bb87-f6f865b454ba",
   "metadata": {},
   "source": [
    "# Molecular Filters\n",
    "\n",
    "First step in virtual screening (VS) workflows is filtering. Scikit fingerprints exports many physiochemial and substructural molecular filters."
   ]
  },
  {
   "metadata": {},
   "cell_type": "markdown",
   "source": "First, take a look at how we would implement Lipinski's Rule of 5 filtering without scikit-fingerprints.",
   "id": "4782dcd2183d7ae0"
  },
  {
   "metadata": {
    "ExecuteTime": {
     "end_time": "2025-08-30T11:29:56.252163Z",
     "start_time": "2025-08-30T11:29:33.926283Z"
    }
   },
   "cell_type": "code",
   "source": [
    "from tqdm import tqdm\n",
    "from rdkit.Chem.Crippen import MolLogP\n",
    "from rdkit.Chem.rdMolDescriptors import CalcNumLipinskiHBA, CalcNumLipinskiHBD\n",
    "from rdkit.Chem.Descriptors import MolWt\n",
    "\n",
    "# Initialize lists for filtered molecules and labels\n",
    "molecules_filtered = []\n",
    "labels_filtered = []\n",
    "\n",
    "# iterate over molecules\n",
    "for i, mol in tqdm(enumerate(molecules), total=len(molecules)):\n",
    "\n",
    "    # check for Lipinski's Rule of 5 conditions\n",
    "    rules = [\n",
    "        MolWt(mol) <= 500,  # molecular weight\n",
    "        CalcNumLipinskiHBA(mol) <= 10,  # HBA\n",
    "        CalcNumLipinskiHBD(mol) <= 5,  # HBD\n",
    "        MolLogP(mol) <= 5,  # logP\n",
    "    ]\n",
    "\n",
    "    # Append data and label to the end of the output list\n",
    "    if all(rules):\n",
    "        molecules_filtered.append(mol)\n",
    "        labels_filtered.append(labels[i])"
   ],
   "id": "dbd4d50f2c9f7b51",
   "outputs": [
    {
     "name": "stderr",
     "output_type": "stream",
     "text": [
      "100%|██████████| 101527/101527 [00:22<00:00, 4553.64it/s]\n"
     ]
    }
   ],
   "execution_count": 4
  },
  {
   "metadata": {},
   "cell_type": "markdown",
   "source": [
    "### Exercise 2\n",
    "\n",
    "Instead of filtering the molecules like that we can use scikit-learn compatible interface provided by scikit-fingerprints.\n",
    "\n",
    "Import and initialize `LipinskiFilter`, and run `.transform_x_y()` transformation on molecules and labels, similarly to how we transformed both SMILES and labels before.\n",
    "\n",
    "*Note that without labels we could still perform filtering of the dataset using* `.transform()` *method*\n",
    "\n"
   ],
   "id": "a62c32c36a29a776"
  },
  {
   "metadata": {
    "ExecuteTime": {
     "end_time": "2025-08-30T11:29:59.977884Z",
     "start_time": "2025-08-30T11:29:56.259654Z"
    }
   },
   "cell_type": "code",
   "source": [
    "from skfp.filters import LipinskiFilter\n",
    "\n",
    "filter = LipinskiFilter(n_jobs=-1, verbose=True)\n",
    "molecules_filtered, labels_filtered = filter.transform_x_y(molecules, labels)"
   ],
   "id": "63ff9ae71bcc16a3",
   "outputs": [
    {
     "name": "stderr",
     "output_type": "stream",
     "text": [
      "<frozen importlib._bootstrap>:241: RuntimeWarning: to-Python converter for class boost::shared_ptr<class RDKit::FilterHierarchyMatcher> already registered; second conversion method ignored.\n",
      "<frozen importlib._bootstrap>:241: RuntimeWarning: to-Python converter for class boost::shared_ptr<class RDKit::FilterCatalogEntry> already registered; second conversion method ignored.\n"
     ]
    },
    {
     "data": {
      "text/plain": [
       "  0%|          | 0/24 [00:00<?, ?it/s]"
      ],
      "application/vnd.jupyter.widget-view+json": {
       "version_major": 2,
       "version_minor": 0,
       "model_id": "0216db2f2e204a7f9b76f8ca953cd74c"
      }
     },
     "metadata": {},
     "output_type": "display_data"
    }
   ],
   "execution_count": 5
  },
  {
   "metadata": {},
   "cell_type": "markdown",
   "source": "Display the how the number of molecules changes",
   "id": "4cad93d08e7e0a1c"
  },
  {
   "metadata": {
    "ExecuteTime": {
     "end_time": "2025-08-30T11:29:59.987231Z",
     "start_time": "2025-08-30T11:29:59.984217Z"
    }
   },
   "cell_type": "code",
   "source": [
    "print(f\"Original size     : {len(molecules)}\")\n",
    "print(f\"Filtered size     : {len(molecules_filtered)}\")\n",
    "print(f\"Removed molecules : {len(molecules) - len(molecules_filtered)}\")"
   ],
   "id": "306270bc10edf227",
   "outputs": [
    {
     "name": "stdout",
     "output_type": "stream",
     "text": [
      "Original size     : 101527\n",
      "Filtered size     : 100918\n",
      "Removed molecules : 609\n"
     ]
    }
   ],
   "execution_count": 6
  },
  {
   "metadata": {},
   "cell_type": "markdown",
   "source": [
    "### Exercise 3\n",
    "\n",
    "Using multiple filters in a loop.\n",
    "\n",
    "Lets see how we can easily use several filters in a loop.\n",
    "\n",
    "- First, import `PAINSFilter` from `filters` submodule of `skfp`.\n",
    "- Create a list with 3 instances of `PAINSFilter`. For each of them pass different `variant` argument. `\"A\"`, `\"B\"` and `\"C\"`.\n",
    "- In a for loop apply the `transform_x_y()` on `mols` (molecules) and `y` (labels).\n",
    "- Make sure to override `mols` and `y` in each iteration of the loop."
   ],
   "id": "6803bb78e46281c4"
  },
  {
   "metadata": {
    "ExecuteTime": {
     "end_time": "2025-08-30T11:29:59.996761Z",
     "start_time": "2025-08-30T11:29:59.993207Z"
    }
   },
   "cell_type": "code",
   "source": [
    "# Create new names to avoid overriding `molecules` and `labels`\n",
    "mols, y = molecules, labels\n",
    "\n",
    "print(f\"Molecules before filtering: {len(mols)}\")"
   ],
   "id": "fe1e34daaad43426",
   "outputs": [
    {
     "name": "stdout",
     "output_type": "stream",
     "text": [
      "Molecules before filtering: 101527\n"
     ]
    }
   ],
   "execution_count": 7
  },
  {
   "metadata": {
    "ExecuteTime": {
     "end_time": "2025-08-30T11:30:26.993196Z",
     "start_time": "2025-08-30T11:30:00.025557Z"
    }
   },
   "cell_type": "code",
   "source": [
    "from skfp.filters import PAINSFilter\n",
    "\n",
    "# Create a list of pains filters\n",
    "pains_filters = [\n",
    "    PAINSFilter(variant=\"A\", n_jobs=-1),\n",
    "    PAINSFilter(variant=\"B\", n_jobs=-1),\n",
    "    PAINSFilter(variant=\"C\", n_jobs=-1),\n",
    "]\n",
    "\n",
    "# Iterate over filters and perform filtering\n",
    "for filter in pains_filters:\n",
    "    mols, y = filter.transform_x_y(mols, y)"
   ],
   "id": "f10844ef7fa56595",
   "outputs": [],
   "execution_count": 8
  },
  {
   "metadata": {
    "ExecuteTime": {
     "end_time": "2025-08-30T11:30:27.001277Z",
     "start_time": "2025-08-30T11:30:26.998191Z"
    }
   },
   "cell_type": "code",
   "source": [
    "n_active = y.sum()\n",
    "n_inactive = len(y) - n_active\n",
    "\n",
    "print(f\"Molecules after filtering: {len(mols)}\")\n",
    "print(f\"Final inactive molecules: {n_inactive}\")\n",
    "print(f\"Final active molecules: {n_active}\")"
   ],
   "id": "9c40f323c65b4d29",
   "outputs": [
    {
     "name": "stdout",
     "output_type": "stream",
     "text": [
      "Molecules after filtering: 94224\n",
      "Final inactive molecules: 93009\n",
      "Final active molecules: 1215\n"
     ]
    }
   ],
   "execution_count": 9
  },
  {
   "metadata": {},
   "cell_type": "markdown",
   "source": [
    "### All filters\n",
    "\n",
    "Here you can find all filters currently available in scikit-fingerprints"
   ],
   "id": "fd30d339343e20cd"
  },
  {
   "metadata": {
    "ExecuteTime": {
     "end_time": "2025-08-30T11:30:27.012871Z",
     "start_time": "2025-08-30T11:30:27.010321Z"
    }
   },
   "cell_type": "code",
   "source": [
    "# from skfp.filters import (\n",
    "#     BeyondRo5Filter,\n",
    "#     BMSFilter,\n",
    "#     BrenkFilter,\n",
    "#     FAF4DruglikeFilter,\n",
    "#     FAF4LeadlikeFilter,\n",
    "#     GhoseFilter,\n",
    "#     GlaxoFilter,\n",
    "#     GSKFilter,\n",
    "#     HaoFilter,\n",
    "#     InpharmaticaFilter,\n",
    "#     LINTFilter,\n",
    "#     LipinskiFilter,\n",
    "#     MLSMRFilter,\n",
    "#     MolecularWeightFilter,\n",
    "#     NIBRFilter,\n",
    "#     NIHFilter,\n",
    "#     OpreaFilter,\n",
    "#     PAINSFilter,\n",
    "#     PfizerFilter,\n",
    "#     REOSFilter,\n",
    "#     RuleOfFourFilter,\n",
    "#     RuleOfThreeFilter,\n",
    "#     RuleOfTwoFilter,\n",
    "#     RuleOfVeberFilter,\n",
    "#     RuleOfXuFilter,\n",
    "#     SureChEMBLFilter,\n",
    "#     TiceHerbicidesFilter,\n",
    "#     TiceInsecticidesFilter,\n",
    "#     ValenceDiscoveryFilter,\n",
    "#     ZINCBasicFilter,\n",
    "#     ZINCDruglikeFilter,\n",
    "# )"
   ],
   "id": "fd0b95399d1bef68",
   "outputs": [],
   "execution_count": 10
  },
  {
   "metadata": {},
   "cell_type": "markdown",
   "source": "---",
   "id": "f8930341294665e7"
  },
  {
   "cell_type": "markdown",
   "id": "50a22cd1-253b-449f-85f4-137a9c9d6b55",
   "metadata": {},
   "source": [
    "## Data splits\n",
    "\n",
    "Quick word if someone isn't familiar\n",
    "\n",
    "Before, we loaded pre-computed splits provided by benchmarks.\n",
    "\n",
    "Sometimes we want to compute our own splits. In this case, implementing them by ourselves can get messy.\n",
    "\n",
    "Take a look at scaffold split computation without scikit-fingerprints."
   ]
  },
  {
   "metadata": {
    "ExecuteTime": {
     "end_time": "2025-08-30T11:30:37.520057Z",
     "start_time": "2025-08-30T11:30:27.043856Z"
    }
   },
   "cell_type": "code",
   "source": [
    "# Without skfp\n",
    "\n",
    "from copy import deepcopy\n",
    "from rdkit.Chem.Scaffolds import MurckoScaffold\n",
    "from rdkit import Chem\n",
    "from collections import defaultdict\n",
    "\n",
    "data_size = len(molecules)\n",
    "\n",
    "# Compute sizes of the output dataset\n",
    "test_size = int(0.1 * data_size)\n",
    "valid_size = int(0.1 * data_size)\n",
    "train_size = data_size - test_size - valid_size\n",
    "\n",
    "# Determine indices that correspond to individual scaffold sets\n",
    "scaffold_sets = defaultdict(list)\n",
    "for idx, mol in enumerate(molecules):\n",
    "    mol = deepcopy(mol)\n",
    "    Chem.RemoveStereochemistry(mol)\n",
    "    scaffold = MurckoScaffold.MurckoScaffoldSmiles(mol=mol)\n",
    "    scaffold_sets[scaffold].append(idx)\n",
    "\n",
    "# Sort scaffold sets\n",
    "scaffold_sets = list(scaffold_sets.values())\n",
    "scaffold_sets.sort(key=len)\n",
    "\n",
    "# Create indices out of the created scaffold sets\n",
    "train_idxs: list[int] = []\n",
    "valid_idxs: list[int] = []\n",
    "test_idxs: list[int] = []\n",
    "for scaffold_set in scaffold_sets:\n",
    "    if len(test_idxs) < test_size:\n",
    "        test_idxs.extend(scaffold_set)\n",
    "    elif len(valid_idxs) < valid_size:\n",
    "        valid_idxs.extend(scaffold_set)\n",
    "    else:\n",
    "        train_idxs.extend(scaffold_set)\n",
    "\n",
    "# Extract data\n",
    "molecules_train = [molecules[i] for i in train_idxs]\n",
    "molecules_valid = [molecules[i] for i in valid_idxs]\n",
    "molecules_test = [molecules[i] for i in test_idxs]\n",
    "\n",
    "labels_train = labels[train_idxs]\n",
    "labels_valid = labels[valid_idxs]\n",
    "labels_test = labels[test_idxs]"
   ],
   "id": "d06a073a3bcc0713",
   "outputs": [],
   "execution_count": 11
  },
  {
   "metadata": {
    "ExecuteTime": {
     "end_time": "2025-08-30T11:30:37.526056Z",
     "start_time": "2025-08-30T11:30:37.522055Z"
    }
   },
   "cell_type": "code",
   "source": "len(molecules_train), len(molecules_valid), len(molecules_test)",
   "id": "a1297fa8b93419fd",
   "outputs": [
    {
     "data": {
      "text/plain": [
       "(81220, 10154, 10153)"
      ]
     },
     "execution_count": 12,
     "metadata": {},
     "output_type": "execute_result"
    }
   ],
   "execution_count": 12
  },
  {
   "metadata": {},
   "cell_type": "markdown",
   "source": [
    "### Exercise 4\n",
    "\n",
    "Fortunately scikit-fingerprints provides us with implemented splitting functionality.\n",
    "\n",
    "Lets split our original `molecules` and `labels` data into training, validation and testing dataset in 8:1:1 proportion.\n",
    "\n",
    "To do that use `scaffold_train_valid_test_split` from `model_selection` submodule of `skfp`.\n",
    "\n",
    "You can find more information about how to use splits in `model_selection` section of [documentation](https://scikit-fingerprints.readthedocs.io/latest/api_reference.html)"
   ],
   "id": "327aeb1b9ec3468f"
  },
  {
   "metadata": {
    "ExecuteTime": {
     "end_time": "2025-08-30T11:30:48.852988Z",
     "start_time": "2025-08-30T11:30:37.534734Z"
    }
   },
   "cell_type": "code",
   "source": [
    "# With skfp\n",
    "\n",
    "from skfp.model_selection import scaffold_train_valid_test_split\n",
    "\n",
    "(\n",
    "    molecules_train,\n",
    "    molecules_valid,\n",
    "    molecules_test,\n",
    "    labels_train,\n",
    "    labels_valid,\n",
    "    labels_test,\n",
    ") = scaffold_train_valid_test_split(\n",
    "    molecules, labels, train_size=0.8, valid_size=0.1, test_size=0.1\n",
    ")"
   ],
   "id": "4b98b807744b9ab0",
   "outputs": [],
   "execution_count": 13
  },
  {
   "metadata": {},
   "cell_type": "markdown",
   "source": "Note that if we don't want to use validation set we can always import `scaffold_train_test_split` instead",
   "id": "2c71295bb7644ca4"
  },
  {
   "metadata": {
    "ExecuteTime": {
     "end_time": "2025-08-30T11:30:48.865201Z",
     "start_time": "2025-08-30T11:30:48.861202Z"
    }
   },
   "cell_type": "code",
   "source": "len(molecules_train), len(molecules_valid), len(molecules_test)",
   "id": "5a5639592ff58cfc",
   "outputs": [
    {
     "data": {
      "text/plain": [
       "(81220, 10154, 10153)"
      ]
     },
     "execution_count": 14,
     "metadata": {},
     "output_type": "execute_result"
    }
   ],
   "execution_count": 14
  },
  {
   "metadata": {},
   "cell_type": "markdown",
   "source": "All splits available in skfp",
   "id": "e980466ee66e9979"
  },
  {
   "metadata": {
    "ExecuteTime": {
     "end_time": "2025-08-30T11:30:48.877943Z",
     "start_time": "2025-08-30T11:30:48.875548Z"
    }
   },
   "cell_type": "code",
   "source": [
    "# from skfp.model_selection import (\n",
    "#     butina_train_test_split,\n",
    "#     butina_train_valid_test_split,\n",
    "#     maxmin_train_test_split,\n",
    "#     maxmin_train_valid_test_split,\n",
    "#     randomized_scaffold_train_test_split,\n",
    "#     randomized_scaffold_train_valid_test_split,\n",
    "#     scaffold_train_test_split,\n",
    "#     scaffold_train_valid_test_split,\n",
    "# )"
   ],
   "id": "49c17a9d4f56ffb2",
   "outputs": [],
   "execution_count": 15
  },
  {
   "metadata": {},
   "cell_type": "markdown",
   "source": "---",
   "id": "114997cc7cc6c948"
  },
  {
   "cell_type": "markdown",
   "id": "7e52e746-75f0-479d-9cc6-b741fabf8cf2",
   "metadata": {},
   "source": [
    "## Similarity, distance & evaluation metrics\n",
    "\n"
   ]
  },
  {
   "metadata": {},
   "cell_type": "markdown",
   "source": [
    "### Similarities & distances\n",
    "\n",
    "In some cases we might want to compute how similar two molecules are to each other, or how far they are in some euclidean space mapping. To do that we can compute similarity or distance using molecular fingerprints.\n",
    "\n",
    "scikit-fingerprints delivers both binary and count variants of similarity and distance computation functions.\n",
    "\n",
    "Lets try to compute similarity between two binary vectors using `tanimoto_binary_similarity`"
   ],
   "id": "101bdd7eb9ddd9bc"
  },
  {
   "metadata": {
    "ExecuteTime": {
     "end_time": "2025-08-30T11:30:48.888657Z",
     "start_time": "2025-08-30T11:30:48.885939Z"
    }
   },
   "cell_type": "code",
   "source": [
    "bit_vec_1 = np.array([1, 1, 0, 0])\n",
    "bit_vec_2 = np.array([0, 1, 1, 0])"
   ],
   "id": "2b7fa4b52ab88740",
   "outputs": [],
   "execution_count": 16
  },
  {
   "metadata": {
    "ExecuteTime": {
     "end_time": "2025-08-30T11:30:49.241142Z",
     "start_time": "2025-08-30T11:30:48.898367Z"
    }
   },
   "cell_type": "code",
   "source": [
    "from skfp.distances import tanimoto_binary_similarity\n",
    "\n",
    "binary_similarity = tanimoto_binary_similarity(bit_vec_1, bit_vec_2)\n",
    "\n",
    "print(f\"similarity of binary vectors: {binary_similarity}\")"
   ],
   "id": "8ebc434b8d4ec6b8",
   "outputs": [
    {
     "name": "stdout",
     "output_type": "stream",
     "text": [
      "similarity of binary vectors: 0.3333333333333333\n"
     ]
    }
   ],
   "execution_count": 17
  },
  {
   "metadata": {},
   "cell_type": "markdown",
   "source": "If we use count vectors we need to use `tanimoto_count_similarity`",
   "id": "790797660b14ec62"
  },
  {
   "metadata": {
    "ExecuteTime": {
     "end_time": "2025-08-30T11:30:49.253849Z",
     "start_time": "2025-08-30T11:30:49.251328Z"
    }
   },
   "cell_type": "code",
   "source": [
    "count_vec_1 = np.array([2, 3, 4, 0])\n",
    "count_vec_2 = np.array([2, 3, 4, 2])"
   ],
   "id": "ab8ee9d637cb3df9",
   "outputs": [],
   "execution_count": 18
  },
  {
   "metadata": {
    "ExecuteTime": {
     "end_time": "2025-08-30T11:30:49.265200Z",
     "start_time": "2025-08-30T11:30:49.262081Z"
    }
   },
   "cell_type": "code",
   "source": [
    "from skfp.distances import tanimoto_count_similarity\n",
    "\n",
    "count_similarity = tanimoto_count_similarity(bit_vec_1, bit_vec_2)\n",
    "\n",
    "print(f\"similarity of count vectors: {count_similarity}\")"
   ],
   "id": "30e70cc9e8fb2cff",
   "outputs": [
    {
     "name": "stdout",
     "output_type": "stream",
     "text": [
      "similarity of count vectors: 0.3333333333333333\n"
     ]
    }
   ],
   "execution_count": 19
  },
  {
   "metadata": {},
   "cell_type": "markdown",
   "source": [
    "We can also use bulk similarity computation to speed up very heavy computations between two sets of molecules.\n",
    "\n",
    "If in one set we have X molecules and Y molecules in the other set, finding distances or similarities between every pair between X and Y can be very slow. scikit-fingerpirnts implementation allows us to compute them efficiently"
   ],
   "id": "b0df559dab2e4033"
  },
  {
   "metadata": {
    "ExecuteTime": {
     "end_time": "2025-08-30T11:30:50.212122Z",
     "start_time": "2025-08-30T11:30:49.274128Z"
    }
   },
   "cell_type": "code",
   "source": [
    "from skfp.distances.tanimoto import (\n",
    "    bulk_tanimoto_binary_similarity\n",
    ")\n",
    "\n",
    "arr_1 = np.array(\n",
    "    [\n",
    "        [1, 1, 1],\n",
    "        [0, 0, 1],\n",
    "        [1, 1, 1],\n",
    "    ]\n",
    ")\n",
    "\n",
    "arr_2 = np.array(\n",
    "    [\n",
    "        [1, 0, 1],\n",
    "        [0, 1, 1],\n",
    "        [1, 1, 1],\n",
    "    ]\n",
    ")\n",
    "\n",
    "sim = bulk_tanimoto_binary_similarity(arr_1, arr_2)\n",
    "sim"
   ],
   "id": "5c48ab5fbe6cfd56",
   "outputs": [
    {
     "data": {
      "text/plain": [
       "array([[0.66666667, 0.66666667, 1.        ],\n",
       "       [0.5       , 0.5       , 0.33333333],\n",
       "       [0.66666667, 0.66666667, 1.        ]])"
      ]
     },
     "execution_count": 20,
     "metadata": {},
     "output_type": "execute_result"
    }
   ],
   "execution_count": 20
  },
  {
   "metadata": {},
   "cell_type": "markdown",
   "source": "Sometimes we want to compute similarity between every two molcules in a dataset. We can compute that by passing just one argument.",
   "id": "780bab6936d12f4e"
  },
  {
   "metadata": {
    "ExecuteTime": {
     "end_time": "2025-08-30T11:30:50.705242Z",
     "start_time": "2025-08-30T11:30:50.224945Z"
    }
   },
   "cell_type": "code",
   "source": [
    "X = np.array(\n",
    "    [\n",
    "        [1, 0, 1],\n",
    "        [0, 1, 1],\n",
    "        [1, 1, 1],\n",
    "    ]\n",
    ")\n",
    "\n",
    "sim = bulk_tanimoto_binary_similarity(X)\n",
    "sim"
   ],
   "id": "f75f6ae17d1737f",
   "outputs": [
    {
     "data": {
      "text/plain": [
       "array([[1.        , 0.33333333, 0.66666667],\n",
       "       [0.33333333, 1.        , 0.66666667],\n",
       "       [0.66666667, 0.66666667, 1.        ]])"
      ]
     },
     "execution_count": 21,
     "metadata": {},
     "output_type": "execute_result"
    }
   ],
   "execution_count": 21
  },
  {
   "metadata": {},
   "cell_type": "markdown",
   "source": [
    "### Performance\n",
    "\n",
    "Lets see the time difference between manual computation of distance matrix between all molecules in a small dataset of 300 molecules."
   ],
   "id": "d0e6ced2d200ff93"
  },
  {
   "metadata": {
    "ExecuteTime": {
     "end_time": "2025-08-30T11:30:51.356160Z",
     "start_time": "2025-08-30T11:30:50.726239Z"
    }
   },
   "cell_type": "code",
   "source": [
    "from skfp.fingerprints import ECFPFingerprint\n",
    "\n",
    "ecfp_fingerprint = ECFPFingerprint(count=True, n_jobs=-1, verbose=True)\n",
    "\n",
    "fps = ecfp_fingerprint.transform(molecules[:300])"
   ],
   "id": "3a937361f6108570",
   "outputs": [
    {
     "data": {
      "text/plain": [
       "  0%|          | 0/25 [00:00<?, ?it/s]"
      ],
      "application/vnd.jupyter.widget-view+json": {
       "version_major": 2,
       "version_minor": 0,
       "model_id": "bb136120a42c40bab92b77be3a5f2982"
      }
     },
     "metadata": {},
     "output_type": "display_data"
    }
   ],
   "execution_count": 22
  },
  {
   "metadata": {},
   "cell_type": "markdown",
   "source": "Manual implementation",
   "id": "201e8b0e0526b305"
  },
  {
   "metadata": {
    "ExecuteTime": {
     "end_time": "2025-08-30T11:31:43.334353Z",
     "start_time": "2025-08-30T11:30:51.378268Z"
    }
   },
   "cell_type": "code",
   "source": "%timeit -r 3 -n 10 [tanimoto_count_similarity(fps[i], fps[j]) for i in range(len(fps)) for j in range(len(fps))]",
   "id": "5f23367ab7d0e260",
   "outputs": [
    {
     "name": "stdout",
     "output_type": "stream",
     "text": [
      "1.73 s ± 11.1 ms per loop (mean ± std. dev. of 3 runs, 10 loops each)\n"
     ]
    }
   ],
   "execution_count": 23
  },
  {
   "metadata": {},
   "cell_type": "markdown",
   "source": "Bulk implementation",
   "id": "13fdcca76dd213aa"
  },
  {
   "metadata": {
    "ExecuteTime": {
     "end_time": "2025-08-30T11:31:43.359863Z",
     "start_time": "2025-08-30T11:31:43.357351Z"
    }
   },
   "cell_type": "code",
   "source": "from skfp.distances.tanimoto import bulk_tanimoto_count_similarity",
   "id": "ee8f5a022b9aed9",
   "outputs": [],
   "execution_count": 24
  },
  {
   "metadata": {
    "ExecuteTime": {
     "end_time": "2025-08-30T11:31:44.318161Z",
     "start_time": "2025-08-30T11:31:43.388543Z"
    }
   },
   "cell_type": "code",
   "source": "%timeit -r 3 -n 10 [bulk_tanimoto_count_similarity(fps)]",
   "id": "93fa077dc7867a7a",
   "outputs": [
    {
     "name": "stdout",
     "output_type": "stream",
     "text": [
      "30.6 ms ± 19.8 ms per loop (mean ± std. dev. of 3 runs, 10 loops each)\n"
     ]
    }
   ],
   "execution_count": 25
  },
  {
   "metadata": {},
   "cell_type": "markdown",
   "source": [
    "### Exercise 5\n",
    "\n",
    "Smilarities and distances have very similar implementation. Now that we know how to use similarities, let's try to train a K nearest neighbors model using binary variant of `ECFPFingerprint`. To do that we'll use a BACE dataset from MoleculeNet benchmark.\n",
    "\n",
    "- Load SMILES strings and labels from BACE dataset.\n",
    "- Perform scaffold train-test split with 8:2 ratio\n",
    "- Build a scikit-learn pipeline using ECFP fingerprint annd KNeighborsClassfier. Remember to pass binary variant of Tanimoto **distance** as `metric` parameter of the KNN model.\n",
    "- fit the pipeline on training data and make prediction"
   ],
   "id": "d4772ed51238d25"
  },
  {
   "metadata": {
    "ExecuteTime": {
     "end_time": "2025-08-30T11:31:54.027692Z",
     "start_time": "2025-08-30T11:31:44.320667Z"
    }
   },
   "cell_type": "code",
   "source": [
    "from sklearn.pipeline import make_pipeline\n",
    "from sklearn.metrics import roc_auc_score\n",
    "from sklearn.neighbors import KNeighborsClassifier\n",
    "\n",
    "# Complete needed imports!\n",
    "from skfp.distances import tanimoto_binary_distance\n",
    "from skfp.model_selection import scaffold_train_test_split\n",
    "from skfp.datasets.moleculenet import load_bace\n",
    "\n",
    "# load bace dataset\n",
    "smiles, labels = load_bace()\n",
    "\n",
    "# perform train/test split. (we don't want to use validation set!)\n",
    "smiles_train, smiles_test, labels_train, labels_test = scaffold_train_test_split(\n",
    "    smiles, labels, test_size=0.2\n",
    ")\n",
    "\n",
    "# initialize a pipeline consisting of binary ECFP fingerprint\n",
    "# and KNeighborsClassifier with correct Tanimoto distance metric\n",
    "pipeline = make_pipeline(\n",
    "    ECFPFingerprint(n_jobs=-1),\n",
    "    KNeighborsClassifier(metric=tanimoto_binary_distance, n_jobs=-1),\n",
    ")\n",
    "\n",
    "# rain and predict the pipeline\n",
    "pipeline.fit(smiles_train, labels_train)\n",
    "labels_pred = pipeline.predict_proba(smiles_test)[:,1]\n",
    "\n",
    "# Compute auroc metric\n",
    "auroc_score = roc_auc_score(labels_test, labels_pred)\n",
    "\n",
    "print(f\"AUROC score: {auroc_score}\")"
   ],
   "id": "d488ebecbe4f6ff7",
   "outputs": [
    {
     "name": "stdout",
     "output_type": "stream",
     "text": [
      "AUROC score: 0.7775590551181102\n"
     ]
    }
   ],
   "execution_count": 26
  },
  {
   "metadata": {
    "ExecuteTime": {
     "end_time": "2025-08-30T11:31:54.043172Z",
     "start_time": "2025-08-30T11:31:54.039982Z"
    }
   },
   "cell_type": "code",
   "source": "auroc_score",
   "id": "1fc1ca5a10debb9f",
   "outputs": [
    {
     "data": {
      "text/plain": [
       "0.7775590551181102"
      ]
     },
     "execution_count": 27,
     "metadata": {},
     "output_type": "execute_result"
    }
   ],
   "execution_count": 27
  },
  {
   "metadata": {},
   "cell_type": "markdown",
   "source": [
    "### Multioutput evaluation metrics\n",
    "\n",
    "Sometimes, the dataset that we use will have multiple labels.\n",
    "\n",
    "In these scenarios we want to compute aggregated metrics from each predicted class.\n",
    "\n",
    "To allow that, scikit-fingerprints exports multioutput scoring metrics.\n",
    "\n",
    "### Exercise 6\n",
    "\n",
    "- Load sider dataset from MoleculeNet benchmark as SMILES strings and labeks.\n",
    "- Perform scaffold train-test split with 8:2 ratio.\n",
    "- Create and fit the pipeline consisting of **count** variant of ECFP fingerprint, and RandomForestClassifier, similarly to the previous exercise.\n",
    "- Make a probability prediction using `.predict_proba()` method\n",
    "- Predicted probabilities are stored in a 3-dimensional array. `extract_pos_proba()` function from `metrics` submodule of `skfp` allows to extract relevant probabilities easily.\n",
    "- Pass correct labels alongside the extracted probabilities to `multioutput_auprc_score` from `metrics` submodule of `skfp`."
   ],
   "id": "48f233c1094badc0"
  },
  {
   "metadata": {
    "ExecuteTime": {
     "end_time": "2025-08-30T11:31:56.615819Z",
     "start_time": "2025-08-30T11:31:54.067307Z"
    }
   },
   "cell_type": "code",
   "source": [
    "from sklearn.ensemble import RandomForestClassifier\n",
    "\n",
    "# complete imports\n",
    "from skfp.datasets.moleculenet import load_sider\n",
    "from skfp.metrics import multioutput_auprc_score, extract_pos_proba\n",
    "\n",
    "smiles, labels = load_sider()\n",
    "\n",
    "smiles_train, smiles_test, labels_train, labels_test = scaffold_train_test_split(\n",
    "    smiles, labels, test_size=0.2\n",
    ")\n",
    "\n",
    "pipeline = make_pipeline(ECFPFingerprint(n_jobs=-1, count=True), RandomForestClassifier(n_jobs=-1))\n",
    "\n",
    "pipeline.fit(smiles_train, labels_train)\n",
    "\n",
    "labels_proba = pipeline.predict_proba(smiles_test)\n",
    "labels_proba = extract_pos_proba(labels_proba)\n",
    "\n",
    "auprc_score = multioutput_auprc_score(labels_test, labels_proba)\n",
    "\n",
    "print(f\"AUPRC score: {auprc_score}\")"
   ],
   "id": "af0fd3a3800f3b14",
   "outputs": [
    {
     "name": "stderr",
     "output_type": "stream",
     "text": [
      "[13:31:54] WARNING: not removing hydrogen atom without neighbors\n",
      "[13:31:54] WARNING: not removing hydrogen atom without neighbors\n",
      "[13:31:54] WARNING: not removing hydrogen atom without neighbors\n",
      "[13:31:54] WARNING: not removing hydrogen atom without neighbors\n",
      "[13:31:55] WARNING: not removing hydrogen atom without neighbors\n",
      "[13:31:55] WARNING: not removing hydrogen atom without neighbors\n",
      "[13:31:55] WARNING: not removing hydrogen atom without neighbors\n",
      "[13:31:55] WARNING: not removing hydrogen atom without neighbors\n",
      "[13:31:55] WARNING: not removing hydrogen atom without neighbors\n",
      "[13:31:55] WARNING: not removing hydrogen atom without neighbors\n",
      "[13:31:55] WARNING: not removing hydrogen atom without neighbors\n",
      "[13:31:55] WARNING: not removing hydrogen atom without neighbors\n",
      "[13:31:55] WARNING: not removing hydrogen atom without neighbors\n"
     ]
    },
    {
     "name": "stdout",
     "output_type": "stream",
     "text": [
      "AUPRC score: 0.6865983292077823\n"
     ]
    }
   ],
   "execution_count": 28
  },
  {
   "metadata": {
    "ExecuteTime": {
     "end_time": "2025-08-30T11:31:56.632342Z",
     "start_time": "2025-08-30T11:31:56.629337Z"
    }
   },
   "cell_type": "code",
   "source": "auprc_score",
   "id": "93c243728fa802aa",
   "outputs": [
    {
     "data": {
      "text/plain": [
       "0.6865983292077823"
      ]
     },
     "execution_count": 29,
     "metadata": {},
     "output_type": "execute_result"
    }
   ],
   "execution_count": 29
  },
  {
   "metadata": {},
   "cell_type": "markdown",
   "source": "---",
   "id": "68872f447e5b05f7"
  },
  {
   "metadata": {
    "ExecuteTime": {
     "end_time": "2025-08-30T11:31:56.646461Z",
     "start_time": "2025-08-30T11:31:56.644468Z"
    }
   },
   "cell_type": "code",
   "source": "",
   "id": "7da3704b0f6f96ed",
   "outputs": [],
   "execution_count": null
  }
 ],
 "metadata": {
  "kernelspec": {
   "display_name": "Python 3 (ipykernel)",
   "language": "python",
   "name": "python3"
  },
  "language_info": {
   "codemirror_mode": {
    "name": "ipython",
    "version": 3
   },
   "file_extension": ".py",
   "mimetype": "text/x-python",
   "name": "python",
   "nbconvert_exporter": "python",
   "pygments_lexer": "ipython3",
   "version": "3.12.11"
  }
 },
 "nbformat": 4,
 "nbformat_minor": 5
}

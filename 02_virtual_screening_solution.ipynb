{
 "cells": [
  {
   "cell_type": "markdown",
   "id": "65e1b9bc-0458-4545-a504-cdb9e99919ac",
   "metadata": {
    "collapsed": true,
    "jupyter": {
     "outputs_hidden": true
    }
   },
   "source": [
    "# Virtual screening"
   ]
  },
  {
   "cell_type": "markdown",
   "id": "41c4c827-7387-4077-b924-1efc467addf4",
   "metadata": {},
   "source": [
    "Ligand-based virtual screening (LBVS) involves predicting bioactivity of large collections of compounds. It involves multiple steps, which are quite easy to perform with scikit-fingerprints.\n",
    "\n",
    "---\n",
    "\n",
    "## Notebook setup\n",
    "\n",
    "Import and load BACE dataset from moleculenet as shown in notebook 1."
   ]
  },
  {
   "metadata": {
    "ExecuteTime": {
     "end_time": "2025-08-28T08:50:08.814727Z",
     "start_time": "2025-08-28T08:50:08.465271Z"
    }
   },
   "cell_type": "code",
   "source": [
    "import pandas as pd\n",
    "import numpy as np\n",
    "\n",
    "# load malaria dataset\n",
    "df = pd.read_parquet(\"data/malaria_hts_train.parquet\")\n",
    "\n",
    "# Remove ambiguous labels\n",
    "df = df[df[\"label\"] != \"ambiguous\"]\n",
    "\n",
    "# map labels to binary\n",
    "df[\"label\"] = df[\"label\"].map({\"false\": 0, \"true\": 1})\n",
    "\n",
    "# Extract data into smiles and labels\n",
    "smiles_list = df[\"SMILES\"].values\n",
    "labels = df[\"label\"].values\n",
    "\n",
    "# subsample\n",
    "pos_idx = np.where(labels == 1)[0]\n",
    "neg_idx = np.random.choice(np.where(labels == 0)[0], size=100_000, replace=False)\n",
    "idx = np.concatenate([pos_idx, neg_idx])\n",
    "smiles_list = smiles_list[idx].tolist()\n",
    "labels = labels[idx]\n",
    "\n",
    "len(smiles_list), labels.shape"
   ],
   "id": "4d5ad9214c50edb4",
   "outputs": [
    {
     "data": {
      "text/plain": [
       "(101528, (101528,))"
      ]
     },
     "execution_count": 1,
     "metadata": {},
     "output_type": "execute_result"
    }
   ],
   "execution_count": 1
  },
  {
   "metadata": {
    "ExecuteTime": {
     "end_time": "2025-08-28T08:50:08.820725Z",
     "start_time": "2025-08-28T08:50:08.817724Z"
    }
   },
   "cell_type": "code",
   "source": "smiles_list[:10]",
   "id": "cd95c8ce9f56cda8",
   "outputs": [
    {
     "data": {
      "text/plain": [
       "['CC(C)CN(CC(C)C)S(=O)(=O)c1ccc(cc1)C(=O)Nc2nc(cs2)c3ccccn3',\n",
       " 'Clc1cccc(NC(=O)CSc2nc(ns2)c3ccccc3Cl)c1',\n",
       " 'COc1ccc(NC(=O)CSc2nc(ns2)c3ccccc3Cl)c(OC)c1',\n",
       " 'COc1ccc(OC)c(NC(=O)CSc2nc(ns2)c3ccccc3Cl)c1',\n",
       " 'COc1ccc(Cl)cc1NC(=O)CSc2nc(ns2)c3ccccc3Cl',\n",
       " 'Brc1ccc(NC2=C(C(=O)c3ccccc3C2=O)n4nnc5ccccc45)cc1',\n",
       " 'CCOC(=O)C1=C(C)N=C2S\\\\C(=C\\\\c3ccccc3O)\\\\C(=O)N2C1c4ccccc4',\n",
       " 'CCOC(=O)c1ccc(NC2=C(C(=O)c3ccccc3C2=O)n4nnc5ccccc45)cc1',\n",
       " 'CC(=O)c1ccc(NC2=C(C(=O)c3ccccc3C2=O)n4nnc5ccccc45)cc1',\n",
       " 'OC(=O)c1cccc(NC2=C(C(=O)c3ccccc3C2=O)n4nnc5ccccc45)c1']"
      ]
     },
     "execution_count": 2,
     "metadata": {},
     "output_type": "execute_result"
    }
   ],
   "execution_count": 2
  },
  {
   "metadata": {},
   "cell_type": "markdown",
   "source": [
    "This dataset contains invalid molecules. Let us use `MolFromSmilesTransformer` and remove invalid molecules by setting `valid_only` parameter to `True`.\n",
    "\n",
    "Notice that if we remove invalid molecules, the label array will be longer than list of molecules. We need to modify them both using `.transform_x_y()` method."
   ],
   "id": "d97a9613ee1c3512"
  },
  {
   "metadata": {
    "ExecuteTime": {
     "end_time": "2025-08-28T08:50:13.924878Z",
     "start_time": "2025-08-28T08:50:08.913244Z"
    }
   },
   "cell_type": "code",
   "source": [
    "from skfp.preprocessing import MolFromSmilesTransformer\n",
    "\n",
    "# Create MolFromSmilesTransformer\n",
    "mol_from_smiles = MolFromSmilesTransformer(\n",
    "    valid_only=True, n_jobs=-1, batch_size=1000, verbose=True\n",
    ")\n",
    "\n",
    "# Run the dataset transformation\n",
    "molecules, labels = mol_from_smiles.transform_x_y(smiles_list, labels)\n",
    "\n",
    "print(f\"Removed molecules: {len(smiles_list) - len(molecules)}\")"
   ],
   "id": "141063ec9a917a38",
   "outputs": [
    {
     "data": {
      "text/plain": [
       "  0%|          | 0/101 [00:00<?, ?it/s]"
      ],
      "application/vnd.jupyter.widget-view+json": {
       "version_major": 2,
       "version_minor": 0,
       "model_id": "274a1e4ca0614d6bb3fde32650aef4f0"
      }
     },
     "metadata": {},
     "output_type": "display_data"
    },
    {
     "name": "stdout",
     "output_type": "stream",
     "text": [
      "Removed molecules: 0\n"
     ]
    }
   ],
   "execution_count": 3
  },
  {
   "metadata": {},
   "cell_type": "markdown",
   "source": "---",
   "id": "f6412b32ab574aa"
  },
  {
   "metadata": {},
   "cell_type": "markdown",
   "source": "## Molecular filters",
   "id": "e54c4ab57716edb6"
  },
  {
   "cell_type": "markdown",
   "id": "9b7f68a9-8cfd-4069-bb87-f6f865b454ba",
   "metadata": {},
   "source": "TODO quick word about molecular filters, what they are for and why we want to use them."
  },
  {
   "metadata": {},
   "cell_type": "markdown",
   "source": [
    "### Physicochemical filters\n",
    "\n",
    "Todo quick word"
   ],
   "id": "ecc2def41cd5277d"
  },
  {
   "metadata": {},
   "cell_type": "markdown",
   "source": "Example without skfp",
   "id": "4782dcd2183d7ae0"
  },
  {
   "metadata": {
    "ExecuteTime": {
     "end_time": "2025-08-28T08:50:37.632496Z",
     "start_time": "2025-08-28T08:50:13.942729Z"
    }
   },
   "cell_type": "code",
   "source": [
    "from tqdm import tqdm\n",
    "from rdkit.Chem.Crippen import MolLogP\n",
    "from rdkit.Chem.rdMolDescriptors import CalcNumLipinskiHBA, CalcNumLipinskiHBD\n",
    "from rdkit.Chem.Descriptors import MolWt\n",
    "\n",
    "# Initialize lists for filtered molecules and labels\n",
    "molecules_filtered = []\n",
    "labels_filtered = []\n",
    "\n",
    "# iterate over molecules\n",
    "for i, mol in tqdm(enumerate(molecules), total=len(molecules)):\n",
    "\n",
    "    # check for Lipinski's Rule of 5 conditions\n",
    "    rules = [\n",
    "        MolWt(mol) <= 500,  # molecular weight\n",
    "        CalcNumLipinskiHBA(mol) <= 10,  # HBA\n",
    "        CalcNumLipinskiHBD(mol) <= 5,  # HBD\n",
    "        MolLogP(mol) <= 5,  # logP\n",
    "    ]\n",
    "\n",
    "    # Append data and label to the end of the output list\n",
    "    if all(rules):\n",
    "        molecules_filtered.append(mol)\n",
    "        labels_filtered.append(labels[i])"
   ],
   "id": "dbd4d50f2c9f7b51",
   "outputs": [
    {
     "name": "stderr",
     "output_type": "stream",
     "text": [
      "100%|██████████| 101528/101528 [00:23<00:00, 4291.02it/s]\n"
     ]
    }
   ],
   "execution_count": 4
  },
  {
   "metadata": {},
   "cell_type": "markdown",
   "source": [
    "Instead of filtering the molecules like that we can use scikit-learn compatible interface provided by scikit fingerprints.\n",
    "\n",
    "Initialize `LipinskiFilter` and perform `.transform_x_y` transformation on molecules and labels"
   ],
   "id": "a62c32c36a29a776"
  },
  {
   "metadata": {
    "ExecuteTime": {
     "end_time": "2025-08-28T08:50:41.590406Z",
     "start_time": "2025-08-28T08:50:37.639631Z"
    }
   },
   "cell_type": "code",
   "source": [
    "from skfp.filters import LipinskiFilter\n",
    "\n",
    "filter = LipinskiFilter(n_jobs=-1, verbose=True)\n",
    "molecules_filtered, labels_filtered = filter.transform_x_y(molecules, labels)"
   ],
   "id": "63ff9ae71bcc16a3",
   "outputs": [
    {
     "name": "stderr",
     "output_type": "stream",
     "text": [
      "<frozen importlib._bootstrap>:241: RuntimeWarning: to-Python converter for class boost::shared_ptr<class RDKit::FilterHierarchyMatcher> already registered; second conversion method ignored.\n",
      "<frozen importlib._bootstrap>:241: RuntimeWarning: to-Python converter for class boost::shared_ptr<class RDKit::FilterCatalogEntry> already registered; second conversion method ignored.\n"
     ]
    },
    {
     "data": {
      "text/plain": [
       "  0%|          | 0/24 [00:00<?, ?it/s]"
      ],
      "application/vnd.jupyter.widget-view+json": {
       "version_major": 2,
       "version_minor": 0,
       "model_id": "0d3d730566d44339810e2f7b55dd3025"
      }
     },
     "metadata": {},
     "output_type": "display_data"
    }
   ],
   "execution_count": 5
  },
  {
   "metadata": {},
   "cell_type": "markdown",
   "source": "If we don't have labels we can still filter the molecules only.",
   "id": "14a75029bc44b2c2"
  },
  {
   "metadata": {
    "ExecuteTime": {
     "end_time": "2025-08-28T08:50:45.409854Z",
     "start_time": "2025-08-28T08:50:41.599107Z"
    }
   },
   "cell_type": "code",
   "source": "molecules_filtered = filter.transform(molecules)",
   "id": "dd3cd67a7aebee00",
   "outputs": [
    {
     "data": {
      "text/plain": [
       "  0%|          | 0/24 [00:00<?, ?it/s]"
      ],
      "application/vnd.jupyter.widget-view+json": {
       "version_major": 2,
       "version_minor": 0,
       "model_id": "53b74c68ebe246628a369b5549895431"
      }
     },
     "metadata": {},
     "output_type": "display_data"
    }
   ],
   "execution_count": 6
  },
  {
   "metadata": {},
   "cell_type": "markdown",
   "source": "Display the how the number of molecules changes",
   "id": "4cad93d08e7e0a1c"
  },
  {
   "metadata": {
    "ExecuteTime": {
     "end_time": "2025-08-28T08:50:45.419913Z",
     "start_time": "2025-08-28T08:50:45.417555Z"
    }
   },
   "cell_type": "code",
   "source": [
    "print(f\"Original size     : {len(molecules)}\")\n",
    "print(f\"Filtered size     : {len(molecules_filtered)}\")\n",
    "print(f\"Removed molecules : {len(molecules) - len(molecules_filtered)}\")"
   ],
   "id": "306270bc10edf227",
   "outputs": [
    {
     "name": "stdout",
     "output_type": "stream",
     "text": [
      "Original size     : 101528\n",
      "Filtered size     : 100938\n",
      "Removed molecules : 590\n"
     ]
    }
   ],
   "execution_count": 7
  },
  {
   "metadata": {},
   "cell_type": "markdown",
   "source": [
    "### Substructural filters\n",
    "\n",
    "TODO quick word"
   ],
   "id": "6803bb78e46281c4"
  },
  {
   "metadata": {
    "ExecuteTime": {
     "end_time": "2025-08-28T08:50:45.429132Z",
     "start_time": "2025-08-28T08:50:45.426619Z"
    }
   },
   "cell_type": "code",
   "source": [
    "# Create new names to avoid overriding `molecules` and `labels`\n",
    "mols, y = molecules, labels"
   ],
   "id": "fe1e34daaad43426",
   "outputs": [],
   "execution_count": 8
  },
  {
   "metadata": {
    "ExecuteTime": {
     "end_time": "2025-08-28T08:51:09.028884Z",
     "start_time": "2025-08-28T08:50:45.449916Z"
    }
   },
   "cell_type": "code",
   "source": [
    "from skfp.filters import PAINSFilter\n",
    "\n",
    "# Create a list of pains filters\n",
    "verbosity_args = dict(batch_size=1000, n_jobs=-1, verbose=True)\n",
    "pains_filters = [\n",
    "    PAINSFilter(variant=\"A\", **verbosity_args),\n",
    "    PAINSFilter(variant=\"B\", **verbosity_args),\n",
    "    PAINSFilter(variant=\"C\", **verbosity_args),\n",
    "]\n",
    "\n",
    "print(f\"Molecules before filtering: {len(mols)}\")\n",
    "\n",
    "# Iterate over filters and perform filtering\n",
    "for i, filter in enumerate(pains_filters):\n",
    "    mols, y = filter.transform_x_y(mols, y)\n",
    "    print(f\"Molecules after PAINS {i}: {len(mols)}\")\n",
    "\n",
    "n_active = y.sum()\n",
    "n_inactive = len(y) - n_active\n",
    "print(f\"Final inactive molecules: {n_inactive}\")\n",
    "print(f\"Final active molecules: {n_active}\")"
   ],
   "id": "f10844ef7fa56595",
   "outputs": [
    {
     "name": "stdout",
     "output_type": "stream",
     "text": [
      "Molecules before filtering: 101528\n"
     ]
    },
    {
     "data": {
      "text/plain": [
       "  0%|          | 0/101 [00:00<?, ?it/s]"
      ],
      "application/vnd.jupyter.widget-view+json": {
       "version_major": 2,
       "version_minor": 0,
       "model_id": "5bb986a5feec459abef7f81b72361287"
      }
     },
     "metadata": {},
     "output_type": "display_data"
    },
    {
     "name": "stdout",
     "output_type": "stream",
     "text": [
      "Molecules after PAINS 0: 96366\n"
     ]
    },
    {
     "data": {
      "text/plain": [
       "  0%|          | 0/96 [00:00<?, ?it/s]"
      ],
      "application/vnd.jupyter.widget-view+json": {
       "version_major": 2,
       "version_minor": 0,
       "model_id": "d183861e218c44be8e5869cc82484b22"
      }
     },
     "metadata": {},
     "output_type": "display_data"
    },
    {
     "name": "stdout",
     "output_type": "stream",
     "text": [
      "Molecules after PAINS 1: 94702\n"
     ]
    },
    {
     "data": {
      "text/plain": [
       "  0%|          | 0/94 [00:00<?, ?it/s]"
      ],
      "application/vnd.jupyter.widget-view+json": {
       "version_major": 2,
       "version_minor": 0,
       "model_id": "9977b8b737f641c093180be761360420"
      }
     },
     "metadata": {},
     "output_type": "display_data"
    },
    {
     "name": "stdout",
     "output_type": "stream",
     "text": [
      "Molecules after PAINS 2: 94233\n",
      "Final inactive molecules: 93018\n",
      "Final active molecules: 1215\n"
     ]
    }
   ],
   "execution_count": 9
  },
  {
   "metadata": {},
   "cell_type": "markdown",
   "source": "### All filters in scikit-fingerprints",
   "id": "fd30d339343e20cd"
  },
  {
   "metadata": {
    "ExecuteTime": {
     "end_time": "2025-08-28T08:51:09.044875Z",
     "start_time": "2025-08-28T08:51:09.041649Z"
    }
   },
   "cell_type": "code",
   "source": [
    "# from skfp.filters import (\n",
    "#     BeyondRo5Filter,\n",
    "#     BMSFilter,\n",
    "#     BrenkFilter,\n",
    "#     FAF4DruglikeFilter,\n",
    "#     FAF4LeadlikeFilter,\n",
    "#     GhoseFilter,\n",
    "#     GlaxoFilter,\n",
    "#     GSKFilter,\n",
    "#     HaoFilter,\n",
    "#     InpharmaticaFilter,\n",
    "#     LINTFilter,\n",
    "#     LipinskiFilter,\n",
    "#     MLSMRFilter,\n",
    "#     MolecularWeightFilter,\n",
    "#     NIBRFilter,\n",
    "#     NIHFilter,\n",
    "#     OpreaFilter,\n",
    "#     PAINSFilter,\n",
    "#     PfizerFilter,\n",
    "#     REOSFilter,\n",
    "#     RuleOfFourFilter,\n",
    "#     RuleOfThreeFilter,\n",
    "#     RuleOfTwoFilter,\n",
    "#     RuleOfVeberFilter,\n",
    "#     RuleOfXuFilter,\n",
    "#     SureChEMBLFilter,\n",
    "#     TiceHerbicidesFilter,\n",
    "#     TiceInsecticidesFilter,\n",
    "#     ValenceDiscoveryFilter,\n",
    "#     ZINCBasicFilter,\n",
    "#     ZINCDruglikeFilter,\n",
    "# )"
   ],
   "id": "fd0b95399d1bef68",
   "outputs": [],
   "execution_count": 10
  },
  {
   "metadata": {},
   "cell_type": "markdown",
   "source": "---",
   "id": "f8930341294665e7"
  },
  {
   "cell_type": "markdown",
   "id": "50a22cd1-253b-449f-85f4-137a9c9d6b55",
   "metadata": {},
   "source": [
    "## Data splits\n",
    "\n",
    "Quick word if someone isn't familiar\n",
    "\n",
    "Before we used pre-computed splits provided by benchmarks.\n",
    "\n",
    "Sometimes we want to compute our own splits."
   ]
  },
  {
   "cell_type": "code",
   "id": "5962af78-76b9-448a-be79-f1d9b47eaff2",
   "metadata": {
    "ExecuteTime": {
     "end_time": "2025-08-28T08:51:09.107484Z",
     "start_time": "2025-08-28T08:51:09.104167Z"
    }
   },
   "source": [
    "\"\"\"TODO here:\n",
    "    - Show scaffold split without skfp\n",
    "    - Show manual split computation with skfp\n",
    "\"\"\""
   ],
   "outputs": [
    {
     "data": {
      "text/plain": [
       "'TODO here:\\n    - Show scaffold split without skfp\\n    - Show manual split computation with skfp\\n'"
      ]
     },
     "execution_count": 11,
     "metadata": {},
     "output_type": "execute_result"
    }
   ],
   "execution_count": 11
  },
  {
   "metadata": {
    "ExecuteTime": {
     "end_time": "2025-08-28T08:51:19.703750Z",
     "start_time": "2025-08-28T08:51:09.136480Z"
    }
   },
   "cell_type": "code",
   "source": [
    "# Without skfp\n",
    "\n",
    "from copy import deepcopy\n",
    "from rdkit.Chem.Scaffolds import MurckoScaffold\n",
    "from rdkit import Chem\n",
    "from collections import defaultdict\n",
    "\n",
    "data_size = len(molecules)\n",
    "\n",
    "# Compute sizes of the output dataset\n",
    "test_size = int(0.1 * data_size)\n",
    "valid_size = int(0.1 * data_size)\n",
    "train_size = data_size - test_size - valid_size\n",
    "\n",
    "# Determine indices that correspond to individual scaffold sets\n",
    "scaffold_sets = defaultdict(list)\n",
    "for idx, mol in enumerate(molecules):\n",
    "    mol = deepcopy(mol)\n",
    "    Chem.RemoveStereochemistry(mol)\n",
    "    scaffold = MurckoScaffold.MurckoScaffoldSmiles(mol=mol)\n",
    "    scaffold_sets[scaffold].append(idx)\n",
    "\n",
    "# Sort scaffold sets\n",
    "scaffold_sets = list(scaffold_sets.values())\n",
    "scaffold_sets.sort(key=len)\n",
    "\n",
    "# Create indices out of the created scaffold sets\n",
    "train_idxs: list[int] = []\n",
    "valid_idxs: list[int] = []\n",
    "test_idxs: list[int] = []\n",
    "for scaffold_set in scaffold_sets:\n",
    "    if len(test_idxs) < test_size:\n",
    "        test_idxs.extend(scaffold_set)\n",
    "    elif len(valid_idxs) < valid_size:\n",
    "        valid_idxs.extend(scaffold_set)\n",
    "    else:\n",
    "        train_idxs.extend(scaffold_set)\n",
    "\n",
    "# Extract data\n",
    "molecules_train = [molecules[i] for i in train_idxs]\n",
    "molecules_valid = [molecules[i] for i in valid_idxs]\n",
    "molecules_test = [molecules[i] for i in test_idxs]\n",
    "\n",
    "labels_train = labels[train_idxs]\n",
    "labels_valid = labels[valid_idxs]\n",
    "labels_test = labels[test_idxs]"
   ],
   "id": "d06a073a3bcc0713",
   "outputs": [],
   "execution_count": 12
  },
  {
   "metadata": {
    "ExecuteTime": {
     "end_time": "2025-08-28T08:51:19.720030Z",
     "start_time": "2025-08-28T08:51:19.715905Z"
    }
   },
   "cell_type": "code",
   "source": "len(molecules_train), len(molecules_valid), len(molecules_test)",
   "id": "a1297fa8b93419fd",
   "outputs": [
    {
     "data": {
      "text/plain": [
       "(81224, 10152, 10152)"
      ]
     },
     "execution_count": 13,
     "metadata": {},
     "output_type": "execute_result"
    }
   ],
   "execution_count": 13
  },
  {
   "metadata": {
    "ExecuteTime": {
     "end_time": "2025-08-28T08:51:30.685601Z",
     "start_time": "2025-08-28T08:51:19.738316Z"
    }
   },
   "cell_type": "code",
   "source": [
    "# With skfp\n",
    "\n",
    "from skfp.model_selection import scaffold_train_valid_test_split\n",
    "\n",
    "(\n",
    "    molecules_train,\n",
    "    molecules_valid,\n",
    "    molecules_test,\n",
    "    labels_train,\n",
    "    labels_valid,\n",
    "    labels_test,\n",
    ") = scaffold_train_valid_test_split(\n",
    "    molecules, labels, train_size=0.8, valid_size=0.1, test_size=0.1\n",
    ")"
   ],
   "id": "4b98b807744b9ab0",
   "outputs": [],
   "execution_count": 14
  },
  {
   "metadata": {
    "ExecuteTime": {
     "end_time": "2025-08-28T08:51:30.698093Z",
     "start_time": "2025-08-28T08:51:30.692588Z"
    }
   },
   "cell_type": "code",
   "source": "len(molecules_train), len(molecules_valid), len(molecules_test)",
   "id": "5a5639592ff58cfc",
   "outputs": [
    {
     "data": {
      "text/plain": [
       "(81224, 10152, 10152)"
      ]
     },
     "execution_count": 15,
     "metadata": {},
     "output_type": "execute_result"
    }
   ],
   "execution_count": 15
  },
  {
   "metadata": {},
   "cell_type": "markdown",
   "source": "All splits available in skfp",
   "id": "e980466ee66e9979"
  },
  {
   "metadata": {
    "ExecuteTime": {
     "end_time": "2025-08-28T08:51:30.711674Z",
     "start_time": "2025-08-28T08:51:30.709080Z"
    }
   },
   "cell_type": "code",
   "source": [
    "# from skfp.model_selection import (\n",
    "#     butina_train_test_split,\n",
    "#     butina_train_valid_test_split,\n",
    "#     maxmin_train_test_split,\n",
    "#     maxmin_train_valid_test_split,\n",
    "#     randomized_scaffold_train_test_split,\n",
    "#     randomized_scaffold_train_valid_test_split,\n",
    "#     scaffold_train_test_split,\n",
    "#     scaffold_train_valid_test_split,\n",
    "# )"
   ],
   "id": "49c17a9d4f56ffb2",
   "outputs": [],
   "execution_count": 16
  },
  {
   "metadata": {},
   "cell_type": "markdown",
   "source": "---",
   "id": "114997cc7cc6c948"
  },
  {
   "cell_type": "markdown",
   "id": "7e52e746-75f0-479d-9cc6-b741fabf8cf2",
   "metadata": {},
   "source": [
    "## Similarity searching & evaluation metrics\n",
    "\n"
   ]
  },
  {
   "metadata": {},
   "cell_type": "markdown",
   "source": [
    "### Similarity search\n",
    "\n",
    "quick word"
   ],
   "id": "101bdd7eb9ddd9bc"
  },
  {
   "metadata": {
    "ExecuteTime": {
     "end_time": "2025-08-28T08:51:30.727408Z",
     "start_time": "2025-08-28T08:51:30.724916Z"
    }
   },
   "cell_type": "code",
   "source": [
    "\"\"\"TODO here:\n",
    "    - Similarity search without skfp\n",
    "    - Similarity search - find similar molecules\n",
    "    - KNN and compatibility\n",
    "    - Bulk similarity computation\n",
    "    - Times\n",
    "\"\"\""
   ],
   "id": "8ebc434b8d4ec6b8",
   "outputs": [
    {
     "data": {
      "text/plain": [
       "'TODO here:\\n    - Similarity search without skfp\\n    - Similarity search - find similar molecules\\n    - KNN and compatibility\\n    - Bulk similarity computation\\n    - Times\\n'"
      ]
     },
     "execution_count": 17,
     "metadata": {},
     "output_type": "execute_result"
    }
   ],
   "execution_count": 17
  },
  {
   "metadata": {},
   "cell_type": "markdown",
   "source": "### Evaluation metrics",
   "id": "48f233c1094badc0"
  },
  {
   "metadata": {
    "ExecuteTime": {
     "end_time": "2025-08-28T08:51:30.755223Z",
     "start_time": "2025-08-28T08:51:30.751766Z"
    }
   },
   "cell_type": "code",
   "source": [
    "\"\"\"TODO here:\n",
    "    - Show example metric. like auroc\n",
    "    - Show multioutput\n",
    "    - Make scorer for grid search using our metric. Like mcc\n",
    "\"\"\""
   ],
   "id": "af0fd3a3800f3b14",
   "outputs": [
    {
     "data": {
      "text/plain": [
       "'TODO here:\\n    - Show example metric. like auroc\\n    - Show multioutput\\n    - Make scorer for grid search using our metric. Like mcc\\n'"
      ]
     },
     "execution_count": 18,
     "metadata": {},
     "output_type": "execute_result"
    }
   ],
   "execution_count": 18
  },
  {
   "metadata": {},
   "cell_type": "markdown",
   "source": "---",
   "id": "68872f447e5b05f7"
  }
 ],
 "metadata": {
  "kernelspec": {
   "display_name": "Python 3 (ipykernel)",
   "language": "python",
   "name": "python3"
  },
  "language_info": {
   "codemirror_mode": {
    "name": "ipython",
    "version": 3
   },
   "file_extension": ".py",
   "mimetype": "text/x-python",
   "name": "python",
   "nbconvert_exporter": "python",
   "pygments_lexer": "ipython3",
   "version": "3.12.11"
  }
 },
 "nbformat": 4,
 "nbformat_minor": 5
}

{
 "cells": [
  {
   "cell_type": "markdown",
   "id": "f86eb832-c51c-46c9-9b37-ed0b9bd6cb1b",
   "metadata": {
    "collapsed": true,
    "jupyter": {
     "outputs_hidden": true
    }
   },
   "source": [
    "# Scikit-fingerprints intro"
   ]
  },
  {
   "cell_type": "markdown",
   "id": "1af67375-e346-4fc4-8e48-92a7fa301158",
   "metadata": {},
   "source": [
    "Scikit-fingerprints is the scikit-learn compatible library for computing molecular fingerprints and other molecular ML & chemoinformatics tasks, based on RDKit.\n",
    "\n",
    "GitHub: https://github.com/scikit-fingerprints/scikit-fingerprints\n",
    "\n",
    "Documentation: https://scikit-fingerprints.readthedocs.io/latest/"
   ]
  },
  {
   "cell_type": "markdown",
   "id": "5e44a08c-9011-4b33-8a12-682389490109",
   "metadata": {},
   "source": [
    "## Datasets"
   ]
  },
  {
   "cell_type": "code",
   "execution_count": null,
   "id": "440843d6-47b4-4e0e-adee-432b77a5c81a",
   "metadata": {},
   "outputs": [],
   "source": []
  },
  {
   "cell_type": "markdown",
   "id": "8eb60826-6065-4e75-ba56-30a1a36bb221",
   "metadata": {},
   "source": [
    "## Molecular fingerprints"
   ]
  },
  {
   "cell_type": "code",
   "execution_count": null,
   "id": "7ba6f146-ea38-4af8-b713-635051f4b059",
   "metadata": {},
   "outputs": [],
   "source": []
  },
  {
   "cell_type": "markdown",
   "id": "d4811a62-c777-4a6a-ba38-457f4fcd1e1a",
   "metadata": {},
   "source": [
    "## Distances"
   ]
  },
  {
   "cell_type": "code",
   "execution_count": null,
   "id": "0331a081-79c2-408f-b04a-17187bde0970",
   "metadata": {},
   "outputs": [],
   "source": []
  },
  {
   "cell_type": "code",
   "execution_count": null,
   "id": "c15ef136-55b4-44f3-944b-54adc424e641",
   "metadata": {},
   "outputs": [],
   "source": []
  }
 ],
 "metadata": {
  "kernelspec": {
   "display_name": "Python 3 (ipykernel)",
   "language": "python",
   "name": "python3"
  },
  "language_info": {
   "codemirror_mode": {
    "name": "ipython",
    "version": 3
   },
   "file_extension": ".py",
   "mimetype": "text/x-python",
   "name": "python",
   "nbconvert_exporter": "python",
   "pygments_lexer": "ipython3",
   "version": "3.12.11"
  }
 },
 "nbformat": 4,
 "nbformat_minor": 5
}

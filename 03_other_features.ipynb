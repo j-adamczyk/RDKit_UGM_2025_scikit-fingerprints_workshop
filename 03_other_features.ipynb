{
 "cells": [
  {
   "cell_type": "markdown",
   "id": "a8de7dd3-81cd-4e0e-8621-c3df1996af68",
   "metadata": {
    "collapsed": true,
    "jupyter": {
     "outputs_hidden": true
    }
   },
   "source": [
    "# Other interesting features"
   ]
  },
  {
   "cell_type": "markdown",
   "id": "6ac4827a-fb8b-4ac3-8d7a-ffc9a603e391",
   "metadata": {},
   "source": [
    "Scikit-fingerprints contains many other larger and smaller features, two of which we cover here: working with peptides and checking applicability domain (AD)."
   ]
  },
  {
   "cell_type": "markdown",
   "id": "87d8dc39-ff7d-441a-b909-74ae91b6265a",
   "metadata": {},
   "source": [
    "## Peptides"
   ]
  },
  {
   "cell_type": "code",
   "execution_count": null,
   "id": "a748f9c7-c5a7-4cf2-8f21-e311ad066751",
   "metadata": {},
   "outputs": [],
   "source": []
  },
  {
   "cell_type": "markdown",
   "id": "9e88ea97-35d6-4a97-9ee3-dd05ccc2ed6d",
   "metadata": {},
   "source": [
    "## Applicability domain checks"
   ]
  },
  {
   "cell_type": "code",
   "execution_count": null,
   "id": "3b5e172d-26ff-4c82-abe7-bef44bffb6b4",
   "metadata": {},
   "outputs": [],
   "source": []
  },
  {
   "cell_type": "code",
   "execution_count": null,
   "id": "c411b1fe-ccbb-45f1-9cf5-efe0f95dd909",
   "metadata": {},
   "outputs": [],
   "source": []
  }
 ],
 "metadata": {
  "kernelspec": {
   "display_name": "Python 3 (ipykernel)",
   "language": "python",
   "name": "python3"
  },
  "language_info": {
   "codemirror_mode": {
    "name": "ipython",
    "version": 3
   },
   "file_extension": ".py",
   "mimetype": "text/x-python",
   "name": "python",
   "nbconvert_exporter": "python",
   "pygments_lexer": "ipython3",
   "version": "3.12.11"
  }
 },
 "nbformat": 4,
 "nbformat_minor": 5
}

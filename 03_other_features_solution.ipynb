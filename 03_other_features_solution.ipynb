{
 "cells": [
  {
   "cell_type": "markdown",
   "id": "a8de7dd3-81cd-4e0e-8621-c3df1996af68",
   "metadata": {
    "collapsed": true,
    "jupyter": {
     "outputs_hidden": true
    }
   },
   "source": [
    "# Other interesting features"
   ]
  },
  {
   "cell_type": "markdown",
   "id": "6ac4827a-fb8b-4ac3-8d7a-ffc9a603e391",
   "metadata": {},
   "source": [
    "Scikit-fingerprints contains many other larger and smaller features, two of which we cover here: working with peptides and checking applicability domain (AD)."
   ]
  },
  {
   "cell_type": "markdown",
   "id": "87d8dc39-ff7d-441a-b909-74ae91b6265a",
   "metadata": {},
   "source": [
    "## Peptides\n",
    "\n",
    "Scikit-fingerprints enables the user to work with peptide data. In our [paper]() we use scikit-fingerprints to show that molecular fingerprints perform very well on peptides.\n",
    "\n",
    "To process peptide data we first create a list of aminoacid sequences that follow the FASTA format. FASTA consists of header and aminoacid sequence. We don't need the header for processing.\n",
    "\n",
    "The code below creates lists of sequences and arrays of labels for training and testing set from Xu_AMP benchmark"
   ]
  },
  {
   "cell_type": "code",
   "id": "a748f9c7-c5a7-4cf2-8f21-e311ad066751",
   "metadata": {
    "ExecuteTime": {
     "end_time": "2025-09-03T09:27:38.618712Z",
     "start_time": "2025-09-03T09:27:38.562233Z"
    }
   },
   "source": [
    "import numpy as np\n",
    "\n",
    "def extract_fasta(path):\n",
    "    aminoseq = []\n",
    "    with open(path) as f:\n",
    "        for i, line in enumerate(f.readlines()[1:]):\n",
    "            if i % 2 == 1:\n",
    "                continue\n",
    "            aminoseq.append(line.strip())\n",
    "    return aminoseq\n",
    "\n",
    "train_positive = extract_fasta(\"data/Xu_AMP/train_positive.fasta\")\n",
    "train_negative = extract_fasta(\"data/Xu_AMP/train_negative.fasta\")\n",
    "test_positive = extract_fasta(\"data/Xu_AMP/test_positive.fasta\")\n",
    "test_negative = extract_fasta(\"data/Xu_AMP/test_negative.fasta\")\n",
    "\n",
    "labels_train = np.array([1] * len(train_positive) + [0] * len(train_negative))\n",
    "labels_test = np.array([1] * len(test_positive) + [0] * len(test_negative))\n",
    "\n",
    "aminoseq_train = train_positive + train_negative\n",
    "aminoseq_test = test_positive + test_negative"
   ],
   "outputs": [],
   "execution_count": 1
  },
  {
   "metadata": {
    "ExecuteTime": {
     "end_time": "2025-09-03T09:27:49.737010Z",
     "start_time": "2025-09-03T09:27:38.621711Z"
    }
   },
   "cell_type": "code",
   "source": [
    "from skfp.preprocessing import MolFromAminoseqTransformer\n",
    "\n",
    "\n",
    "mol_from_seq = MolFromAminoseqTransformer(n_jobs=-1)\n",
    "\n",
    "mols_train = mol_from_seq.transform(aminoseq_train)\n",
    "mols_test = mol_from_seq.transform(aminoseq_test)"
   ],
   "id": "e80b0f4faf9b6a67",
   "outputs": [],
   "execution_count": 2
  },
  {
   "metadata": {
    "ExecuteTime": {
     "end_time": "2025-09-03T09:30:05.871079Z",
     "start_time": "2025-09-03T09:27:49.855717Z"
    }
   },
   "cell_type": "code",
   "source": [
    "from sklearn.ensemble import RandomForestClassifier\n",
    "from sklearn.metrics import roc_auc_score\n",
    "from skfp.fingerprints import ECFPFingerprint, TopologicalTorsionFingerprint, RDKitFingerprint\n",
    "\n",
    "\n",
    "fingerprints = [\n",
    "    ECFPFingerprint,\n",
    "    TopologicalTorsionFingerprint,\n",
    "    RDKitFingerprint\n",
    "]\n",
    "\n",
    "for fp_class in fingerprints:\n",
    "    for count in [False, True]:\n",
    "        fp_transformer = fp_class(n_jobs=-1, count=count)\n",
    "\n",
    "        fps_train = fp_transformer.transform(mols_train)\n",
    "        fps_test = fp_transformer.transform(mols_test)\n",
    "\n",
    "        auroc_scores = []\n",
    "        for i in range(5):\n",
    "            clf = RandomForestClassifier(n_jobs=-1,random_state=i)\n",
    "            clf.fit(fps_train, labels_train)\n",
    "\n",
    "            labels_proba = clf.predict_proba(fps_test)[:,1]\n",
    "\n",
    "            auroc = roc_auc_score(labels_test, labels_proba)\n",
    "            auroc_scores.append(auroc)\n",
    "\n",
    "        auroc_mean = np.mean(auroc_scores)\n",
    "        auroc_std = np.std(auroc_scores)\n",
    "\n",
    "        use_count = \"count\" if count else \"bit\"\n",
    "        print(f\"AUROC for {fp_class.__name__} in {use_count} variant: {auroc_mean:.2%} +- {auroc_std:.2%}\")"
   ],
   "id": "9dee49859541427a",
   "outputs": [
    {
     "name": "stdout",
     "output_type": "stream",
     "text": [
      "AUROC for ECFPFingerprint in bit variant: 69.67% +- 0.15%\n",
      "AUROC for ECFPFingerprint in count variant: 73.44% +- 0.21%\n",
      "AUROC for TopologicalTorsionFingerprint in bit variant: 71.62% +- 0.17%\n",
      "AUROC for TopologicalTorsionFingerprint in count variant: 71.45% +- 0.33%\n",
      "AUROC for RDKitFingerprint in bit variant: 64.96% +- 0.12%\n",
      "AUROC for RDKitFingerprint in count variant: 72.64% +- 0.18%\n"
     ]
    }
   ],
   "execution_count": 3
  },
  {
   "cell_type": "markdown",
   "id": "9e88ea97-35d6-4a97-9ee3-dd05ccc2ed6d",
   "metadata": {},
   "source": [
    "## Applicability domain checks"
   ]
  },
  {
   "metadata": {
    "ExecuteTime": {
     "end_time": "2025-09-03T09:30:05.884953Z",
     "start_time": "2025-09-03T09:30:05.882899Z"
    }
   },
   "cell_type": "code",
   "source": "",
   "id": "ee358f319343b96a",
   "outputs": [],
   "execution_count": null
  }
 ],
 "metadata": {
  "kernelspec": {
   "display_name": "Python 3 (ipykernel)",
   "language": "python",
   "name": "python3"
  },
  "language_info": {
   "codemirror_mode": {
    "name": "ipython",
    "version": 3
   },
   "file_extension": ".py",
   "mimetype": "text/x-python",
   "name": "python",
   "nbconvert_exporter": "python",
   "pygments_lexer": "ipython3",
   "version": "3.12.11"
  }
 },
 "nbformat": 4,
 "nbformat_minor": 5
}

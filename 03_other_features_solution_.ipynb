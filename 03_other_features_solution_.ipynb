{
 "cells": [
  {
   "cell_type": "markdown",
   "id": "a8de7dd3-81cd-4e0e-8621-c3df1996af68",
   "metadata": {
    "collapsed": true,
    "jupyter": {
     "outputs_hidden": true
    }
   },
   "source": [
    "# Other interesting features"
   ]
  },
  {
   "cell_type": "markdown",
   "id": "6ac4827a-fb8b-4ac3-8d7a-ffc9a603e391",
   "metadata": {},
   "source": [
    "Scikit-fingerprints contains many other larger and smaller features, two of which we cover here: working with peptides and checking applicability domain (AD)."
   ]
  },
  {
   "cell_type": "markdown",
   "id": "87d8dc39-ff7d-441a-b909-74ae91b6265a",
   "metadata": {},
   "source": [
    "## Peptides\n",
    "\n",
    "Scikit-fingerprints enables the user to work with peptide data. In our [paper](https://arxiv.org/abs/2501.17901) we use scikit-fingerprints to show that molecular fingerprints perform very well on peptides.\n",
    "\n",
    "To process peptide data we first create a list of aminoacid sequences that follow the FASTA format. FASTA consists of header and aminoacid sequence. We don't need the header for processing.\n",
    "\n",
    "The code below creates lists of sequences and arrays of labels for training and testing set from Xu_AMP benchmark."
   ]
  },
  {
   "cell_type": "code",
   "id": "a748f9c7-c5a7-4cf2-8f21-e311ad066751",
   "metadata": {
    "ExecuteTime": {
     "end_time": "2025-09-05T11:02:03.445446Z",
     "start_time": "2025-09-05T11:02:03.399866Z"
    }
   },
   "source": [
    "import numpy as np\n",
    "\n",
    "\n",
    "def extract_fasta(path):\n",
    "    aminoseq = []\n",
    "    with open(path) as f:\n",
    "        for i, line in enumerate(f.readlines()[1:]):\n",
    "            if i % 2 == 1:\n",
    "                continue\n",
    "            aminoseq.append(line.strip())\n",
    "    return aminoseq\n",
    "\n",
    "\n",
    "train_positive = extract_fasta(\"data/Xu_AMP/train_positive.fasta\")\n",
    "train_negative = extract_fasta(\"data/Xu_AMP/train_negative.fasta\")\n",
    "test_positive = extract_fasta(\"data/Xu_AMP/test_positive.fasta\")\n",
    "test_negative = extract_fasta(\"data/Xu_AMP/test_negative.fasta\")\n",
    "\n",
    "labels_train = np.array([1] * len(train_positive) + [0] * len(train_negative))\n",
    "labels_test = np.array([1] * len(test_positive) + [0] * len(test_negative))\n",
    "\n",
    "aminoseq_train = train_positive + train_negative\n",
    "aminoseq_test = test_positive + test_negative"
   ],
   "outputs": [],
   "execution_count": 1
  },
  {
   "metadata": {},
   "cell_type": "markdown",
   "source": [
    "**Exercise 1**\n",
    "\n",
    "Transform aminosequences into molecules using `MolFromAminoseqTransformer` like we used `MolFromSmilesTransformer` before"
   ],
   "id": "2fed7057e994a19d"
  },
  {
   "metadata": {
    "ExecuteTime": {
     "end_time": "2025-09-05T11:02:14.737374Z",
     "start_time": "2025-09-05T11:02:03.448450Z"
    }
   },
   "cell_type": "code",
   "source": [
    "from skfp.preprocessing import MolFromAminoseqTransformer\n",
    "\n",
    "\n",
    "mol_from_seq = MolFromAminoseqTransformer(n_jobs=-1)\n",
    "\n",
    "mols_train = mol_from_seq.transform(aminoseq_train)\n",
    "mols_test = mol_from_seq.transform(aminoseq_test)"
   ],
   "id": "e80b0f4faf9b6a67",
   "outputs": [],
   "execution_count": 2
  },
  {
   "metadata": {},
   "cell_type": "markdown",
   "source": [
    "**Exercise 2**\n",
    "\n",
    "Let's assess the performance of very local molecular fingerprints on peptides.\n",
    "\n",
    "- Iterate over fingerprints checking both bit and count variant of each of the fingerprints.\n",
    "- For each variant, transform training and testing molecules using the fingerprint.\n",
    "- Train `RandomForestClassifier` 5 times with different random states and score auroc on testing set for each repeat\n",
    "- Report mean and std of auroc for each variant of each fingerprint"
   ],
   "id": "c8a149947627ef5a"
  },
  {
   "metadata": {
    "ExecuteTime": {
     "end_time": "2025-09-05T11:04:39.685555Z",
     "start_time": "2025-09-05T11:02:14.849315Z"
    }
   },
   "cell_type": "code",
   "source": [
    "from sklearn.ensemble import RandomForestClassifier\n",
    "from sklearn.metrics import roc_auc_score\n",
    "from skfp.fingerprints import (\n",
    "    ECFPFingerprint,\n",
    "    TopologicalTorsionFingerprint,\n",
    "    RDKitFingerprint,\n",
    ")\n",
    "\n",
    "\n",
    "fingerprints = [ECFPFingerprint, TopologicalTorsionFingerprint, RDKitFingerprint]\n",
    "\n",
    "for fp_class in fingerprints:\n",
    "    for count in [False, True]:\n",
    "        fp_transformer = fp_class(n_jobs=-1, count=count)\n",
    "\n",
    "        fps_train = fp_transformer.transform(mols_train)\n",
    "        fps_test = fp_transformer.transform(mols_test)\n",
    "\n",
    "        auroc_scores = []\n",
    "        for i in range(5):\n",
    "            clf = RandomForestClassifier(n_jobs=-1, random_state=i)\n",
    "            clf.fit(fps_train, labels_train)\n",
    "\n",
    "            labels_proba = clf.predict_proba(fps_test)[:, 1]\n",
    "\n",
    "            auroc = roc_auc_score(labels_test, labels_proba)\n",
    "            auroc_scores.append(auroc)\n",
    "\n",
    "        auroc_mean = np.mean(auroc_scores)\n",
    "        auroc_std = np.std(auroc_scores)\n",
    "\n",
    "        use_count = \"count\" if count else \"bit\"\n",
    "        print(\n",
    "            f\"AUROC for {fp_class.__name__} in {use_count} variant: {auroc_mean:.2%} +- {auroc_std:.2%}\"\n",
    "        )"
   ],
   "id": "9dee49859541427a",
   "outputs": [
    {
     "name": "stdout",
     "output_type": "stream",
     "text": [
      "AUROC for ECFPFingerprint in bit variant: 69.67% +- 0.15%\n",
      "AUROC for ECFPFingerprint in count variant: 73.44% +- 0.21%\n",
      "AUROC for TopologicalTorsionFingerprint in bit variant: 71.62% +- 0.17%\n",
      "AUROC for TopologicalTorsionFingerprint in count variant: 71.45% +- 0.33%\n",
      "AUROC for RDKitFingerprint in bit variant: 64.97% +- 0.12%\n",
      "AUROC for RDKitFingerprint in count variant: 72.64% +- 0.18%\n"
     ]
    }
   ],
   "execution_count": 3
  },
  {
   "cell_type": "markdown",
   "id": "9e88ea97-35d6-4a97-9ee3-dd05ccc2ed6d",
   "metadata": {},
   "source": [
    "## Applicability domain checks\n",
    "\n",
    "Applicability domains can be demonstrated by applying them to two distinct datasets.\n",
    "\n",
    "We'll use BBBP dataset from MoleculeNet benchmark and ApisTox dataset from [this paper](http://doi.org/10.1038/s41597-024-04232-w)\n",
    "\n",
    "As ApisTox contains pesticide molecules bioactive on honey bees we expect the data to differ significantly from BBBP which contains molecules active on human blood-brain barier."
   ]
  },
  {
   "metadata": {
    "ExecuteTime": {
     "end_time": "2025-09-05T11:04:40.145202Z",
     "start_time": "2025-09-05T11:04:39.700251Z"
    }
   },
   "cell_type": "code",
   "source": [
    "from skfp.datasets.moleculenet import load_bbbp\n",
    "import pandas as pd\n",
    "\n",
    "bbbp_smiles = load_bbbp()[0]\n",
    "\n",
    "apistox_smiles = pd.read_csv(\"data/ApisTox/dataset_final.csv\")[\"SMILES\"]"
   ],
   "id": "ee358f319343b96a",
   "outputs": [],
   "execution_count": 4
  },
  {
   "metadata": {
    "ExecuteTime": {
     "end_time": "2025-09-05T11:04:40.377162Z",
     "start_time": "2025-09-05T11:04:40.148208Z"
    }
   },
   "cell_type": "code",
   "source": [
    "from skfp.preprocessing import MolFromSmilesTransformer\n",
    "\n",
    "mol_from_smiles = MolFromSmilesTransformer(n_jobs=-1)\n",
    "\n",
    "bbbp_mols = mol_from_smiles.transform(bbbp_smiles)\n",
    "apistox_mols = mol_from_smiles.transform(apistox_smiles)\n",
    "\n",
    "ecfp = ECFPFingerprint(n_jobs=-1, count=True)\n",
    "\n",
    "bbbp_fps = ecfp.transform(bbbp_smiles)\n",
    "apistox_fps = ecfp.transform(apistox_smiles)"
   ],
   "id": "a69db46956d05f69",
   "outputs": [],
   "execution_count": 5
  },
  {
   "metadata": {
    "ExecuteTime": {
     "end_time": "2025-09-05T11:04:44.898052Z",
     "start_time": "2025-09-05T11:04:40.383682Z"
    }
   },
   "cell_type": "code",
   "source": [
    "from skfp.distances import bulk_dice_count_similarity, bulk_tanimoto_count_similarity\n",
    "import numpy as np\n",
    "\n",
    "similarity_metrics = [bulk_dice_count_similarity, bulk_tanimoto_count_similarity]\n",
    "\n",
    "for metric, name in zip(similarity_metrics, [\"dice\", \"Tanimoto\"]):\n",
    "    bbbp_self_sim = metric(bbbp_fps)\n",
    "    apistox_self_sim = metric(apistox_fps)\n",
    "    cross_dataset_sim = metric(bbbp_fps, apistox_fps)\n",
    "\n",
    "    bbbp_self_mean = bbbp_self_sim[np.triu_indices_from(bbbp_self_sim, k=1)].mean()\n",
    "    apistox_self_mean = apistox_self_sim[\n",
    "        np.triu_indices_from(apistox_self_sim, k=1)\n",
    "    ].mean()\n",
    "    cross_dataset_mean = cross_dataset_sim.mean()\n",
    "\n",
    "    print(f\"average bbbp similarity for {name}                 : {bbbp_self_mean:.4}\")\n",
    "    print(\n",
    "        f\"average ApisTox similarity for {name}              : {apistox_self_mean:.4}\"\n",
    "    )\n",
    "    print(\n",
    "        f\"average similarity between two datasets for {name} : {cross_dataset_mean:.4}\\n\"\n",
    "    )"
   ],
   "id": "6e950534a8454c4b",
   "outputs": [
    {
     "name": "stdout",
     "output_type": "stream",
     "text": [
      "average bbbp similarity for dice                 : 0.3817\n",
      "average ApisTox similarity for dice              : 0.2807\n",
      "average similarity between two datasets for dice : 0.3031\n",
      "\n",
      "average bbbp similarity for Tanimoto                 : 0.253\n",
      "average ApisTox similarity for Tanimoto              : 0.1792\n",
      "average similarity between two datasets for Tanimoto : 0.193\n",
      "\n"
     ]
    }
   ],
   "execution_count": 6
  },
  {
   "metadata": {
    "ExecuteTime": {
     "end_time": "2025-09-05T11:07:07.912743Z",
     "start_time": "2025-09-05T11:04:44.906783Z"
    }
   },
   "cell_type": "code",
   "source": [
    "from skfp.applicability_domain import BoundingBoxADChecker, ConvexHullADChecker\n",
    "\n",
    "ad_checkers = [BoundingBoxADChecker, ConvexHullADChecker]\n",
    "\n",
    "for ad_checker, name in zip(ad_checkers, [\"Bounding box\", \"Convex hull\"]):\n",
    "    checker_bbbp = ad_checker(n_jobs=-1, verbose=True)\n",
    "    checker_apistox = ad_checker(n_jobs=-1, verbose=True)\n",
    "\n",
    "    print(f\"Fitting {name} for BBBP\")\n",
    "    checker_bbbp.fit(bbbp_fps)\n",
    "    print(f\"Predicting ApisTox on BBBP {name}\")\n",
    "    apistox_in_bbbp = checker_bbbp.predict(apistox_fps).astype(int).mean()\n",
    "\n",
    "    print(f\"{apistox_in_bbbp:.2%} ApisTox molecules withing BBBP {name}\\n\")\n",
    "\n",
    "    print(\"Fitting {name} for ApisTox\")\n",
    "    checker_apistox.fit(apistox_fps)\n",
    "    print(\"Predicting BBBP on ApisTox {name}\")\n",
    "    bbbp_in_apistox = checker_apistox.predict(bbbp_fps).astype(int).mean()\n",
    "\n",
    "    print(f\"{bbbp_in_apistox:.2%} BBBP molecules withing ApisTox {name}\\n\")"
   ],
   "id": "8ccebc022b67707a",
   "outputs": [
    {
     "name": "stdout",
     "output_type": "stream",
     "text": [
      "Fitting Bounding box for BBBP\n",
      "Predicting ApisTox on BBBP Bounding box\n",
      "57.49% ApisTox molecules withing BBBP Bounding box\n",
      "\n",
      "Fitting {name} for ApisTox\n",
      "Predicting BBBP on ApisTox {name}\n",
      "42.72% BBBP molecules withing ApisTox Bounding box\n",
      "\n",
      "Fitting Convex hull for BBBP\n",
      "Predicting ApisTox on BBBP Convex hull\n",
      "0.29% ApisTox molecules withing BBBP Convex hull\n",
      "\n",
      "Fitting {name} for ApisTox\n",
      "Predicting BBBP on ApisTox {name}\n",
      "0.10% BBBP molecules withing ApisTox Convex hull\n",
      "\n"
     ]
    }
   ],
   "execution_count": 7
  },
  {
   "metadata": {
    "ExecuteTime": {
     "end_time": "2025-09-05T11:07:07.940420Z",
     "start_time": "2025-09-05T11:07:07.938820Z"
    }
   },
   "cell_type": "code",
   "source": "",
   "id": "25af1e681f72d136",
   "outputs": [],
   "execution_count": null
  }
 ],
 "metadata": {
  "kernelspec": {
   "display_name": "Python 3 (ipykernel)",
   "language": "python",
   "name": "python3"
  },
  "language_info": {
   "codemirror_mode": {
    "name": "ipython",
    "version": 3
   },
   "file_extension": ".py",
   "mimetype": "text/x-python",
   "name": "python",
   "nbconvert_exporter": "python",
   "pygments_lexer": "ipython3",
   "version": "3.12.11"
  }
 },
 "nbformat": 4,
 "nbformat_minor": 5
}

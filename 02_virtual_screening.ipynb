{
 "cells": [
  {
   "cell_type": "markdown",
   "id": "65e1b9bc-0458-4545-a504-cdb9e99919ac",
   "metadata": {
    "collapsed": true,
    "jupyter": {
     "outputs_hidden": true
    }
   },
   "source": [
    "# Virtual screening"
   ]
  },
  {
   "cell_type": "markdown",
   "id": "41c4c827-7387-4077-b924-1efc467addf4",
   "metadata": {},
   "source": [
    "Ligand-based virtual screening (LBVS) involves predicting bioactivity of large collections of compounds. It involves multiple steps, which are quite easy to perform with scikit-fingerprints."
   ]
  },
  {
   "cell_type": "markdown",
   "id": "9b7f68a9-8cfd-4069-bb87-f6f865b454ba",
   "metadata": {},
   "source": [
    "## Molecular filters"
   ]
  },
  {
   "cell_type": "code",
   "execution_count": null,
   "id": "a32edcd0-6c8d-4305-82f2-05fa478e40f5",
   "metadata": {},
   "outputs": [],
   "source": []
  },
  {
   "cell_type": "markdown",
   "id": "50a22cd1-253b-449f-85f4-137a9c9d6b55",
   "metadata": {},
   "source": [
    "## Data splits"
   ]
  },
  {
   "cell_type": "code",
   "execution_count": null,
   "id": "5962af78-76b9-448a-be79-f1d9b47eaff2",
   "metadata": {},
   "outputs": [],
   "source": []
  },
  {
   "cell_type": "markdown",
   "id": "7e52e746-75f0-479d-9cc6-b741fabf8cf2",
   "metadata": {},
   "source": [
    "## Similarity searching & evaluation metrics"
   ]
  },
  {
   "cell_type": "code",
   "execution_count": null,
   "id": "de53e03c-563c-472a-b1ac-280c2023cee3",
   "metadata": {},
   "outputs": [],
   "source": []
  },
  {
   "cell_type": "code",
   "execution_count": null,
   "id": "5b231711-abed-4c8f-a1b9-7a1c29fb1e81",
   "metadata": {},
   "outputs": [],
   "source": []
  }
 ],
 "metadata": {
  "kernelspec": {
   "display_name": "Python 3 (ipykernel)",
   "language": "python",
   "name": "python3"
  },
  "language_info": {
   "codemirror_mode": {
    "name": "ipython",
    "version": 3
   },
   "file_extension": ".py",
   "mimetype": "text/x-python",
   "name": "python",
   "nbconvert_exporter": "python",
   "pygments_lexer": "ipython3",
   "version": "3.12.11"
  }
 },
 "nbformat": 4,
 "nbformat_minor": 5
}

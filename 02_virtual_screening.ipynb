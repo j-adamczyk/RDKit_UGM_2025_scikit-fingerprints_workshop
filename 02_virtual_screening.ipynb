{
 "cells": [
  {
   "cell_type": "markdown",
   "id": "65e1b9bc-0458-4545-a504-cdb9e99919ac",
   "metadata": {
    "collapsed": true,
    "jupyter": {
     "outputs_hidden": true
    }
   },
   "source": [
    "# Virtual screening"
   ]
  },
  {
   "cell_type": "markdown",
   "id": "41c4c827-7387-4077-b924-1efc467addf4",
   "metadata": {},
   "source": [
    "Ligand-based virtual screening (LBVS) involves predicting bioactivity of large collections of compounds. It involves multiple steps, which are quite easy to perform with scikit-fingerprints."
   ]
  },
  {
   "metadata": {},
   "cell_type": "markdown",
   "source": "---",
   "id": "f6412b32ab574aa"
  },
  {
   "metadata": {},
   "cell_type": "markdown",
   "source": "## Molecular filters",
   "id": "e54c4ab57716edb6"
  },
  {
   "cell_type": "markdown",
   "id": "9b7f68a9-8cfd-4069-bb87-f6f865b454ba",
   "metadata": {},
   "source": "TODO quick word about molecular filters, what they are for and why we want to use them."
  },
  {
   "metadata": {},
   "cell_type": "markdown",
   "source": [
    "### Physicochemical filters\n",
    "\n",
    "Todo quick word"
   ],
   "id": "ecc2def41cd5277d"
  },
  {
   "cell_type": "code",
   "id": "a32edcd0-6c8d-4305-82f2-05fa478e40f5",
   "metadata": {
    "ExecuteTime": {
     "end_time": "2025-08-26T15:34:09.868233Z",
     "start_time": "2025-08-26T15:34:09.861494Z"
    }
   },
   "source": [
    "from skfp.filters import LipinskiFilter\n",
    "\n",
    "\"\"\"TODO here:\n",
    "    - Example implementation without skfp\n",
    "    - Demonstrate use of filters\n",
    "    - Show what to do if we want to filter dataset with labels. Or how to work on a dataframe. Example problem.\n",
    "        - If we don't know but we can check skfp docs!\n",
    "        - Look! There's a nice `return_indicators` argument\n",
    "    - Show allowed violations and similar parameters of popular filters\n",
    "\"\"\""
   ],
   "outputs": [
    {
     "data": {
      "text/plain": [
       "'TODO here:\\n    demonstrate use of filters\\n    show what to do if we want to filter dataset with labels\\n'"
      ]
     },
     "execution_count": 1,
     "metadata": {},
     "output_type": "execute_result"
    }
   ],
   "execution_count": 1
  },
  {
   "metadata": {},
   "cell_type": "markdown",
   "source": [
    "### Substructural filters\n",
    "\n",
    "TODO quick word"
   ],
   "id": "6803bb78e46281c4"
  },
  {
   "metadata": {},
   "cell_type": "code",
   "outputs": [],
   "execution_count": null,
   "source": [
    "\"\"\"TODO here:\n",
    "    - Show example filter\n",
    "    - Show how to get feature names\n",
    "\"\"\""
   ],
   "id": "f10844ef7fa56595"
  },
  {
   "metadata": {},
   "cell_type": "markdown",
   "source": "---",
   "id": "f8930341294665e7"
  },
  {
   "cell_type": "markdown",
   "id": "50a22cd1-253b-449f-85f4-137a9c9d6b55",
   "metadata": {},
   "source": [
    "## Data splits\n",
    "\n",
    "Quick word if someone isn't familiar"
   ]
  },
  {
   "cell_type": "code",
   "execution_count": null,
   "id": "5962af78-76b9-448a-be79-f1d9b47eaff2",
   "metadata": {},
   "outputs": [],
   "source": [
    "\"\"\"TODO here:\n",
    "    - Show scaffold split without skfp\n",
    "    - Remind that we can use load_X_splits\n",
    "    - Show manual split computation with skfp\n",
    "\"\"\""
   ]
  },
  {
   "metadata": {},
   "cell_type": "markdown",
   "source": "---",
   "id": "114997cc7cc6c948"
  },
  {
   "cell_type": "markdown",
   "id": "7e52e746-75f0-479d-9cc6-b741fabf8cf2",
   "metadata": {},
   "source": [
    "## Similarity searching & evaluation metrics\n",
    "\n"
   ]
  },
  {
   "metadata": {},
   "cell_type": "markdown",
   "source": [
    "### Similarity search\n",
    "\n",
    "quick word"
   ],
   "id": "101bdd7eb9ddd9bc"
  },
  {
   "metadata": {},
   "cell_type": "code",
   "outputs": [],
   "execution_count": null,
   "source": [
    "\"\"\"TODO here:\n",
    "    - Similarity search without skfp\n",
    "    - Similarity search - find similar molecules\n",
    "    - KNN and compatibility\n",
    "    - Bulk similarity computation\n",
    "    - Times\n",
    "\"\"\""
   ],
   "id": "8ebc434b8d4ec6b8"
  },
  {
   "metadata": {},
   "cell_type": "markdown",
   "source": "### Evaluation metrics",
   "id": "48f233c1094badc0"
  },
  {
   "metadata": {
    "ExecuteTime": {
     "end_time": "2025-08-26T15:58:04.046695Z",
     "start_time": "2025-08-26T15:58:04.042432Z"
    }
   },
   "cell_type": "code",
   "source": [
    "\"\"\"TODO here:\n",
    "    - Show example metric. like auroc\n",
    "    - Show multioutput\n",
    "    - Make scorer for grid search using our metric. Like mcc\n",
    "\"\"\""
   ],
   "id": "af0fd3a3800f3b14",
   "outputs": [
    {
     "data": {
      "text/plain": [
       "'TODO here:\\n    - Show example metric. like auroc\\n    - Show multioutput\\n    - Make scorer for grid search using our metric. Like mcc\\n'"
      ]
     },
     "execution_count": 3,
     "metadata": {},
     "output_type": "execute_result"
    }
   ],
   "execution_count": 3
  },
  {
   "metadata": {},
   "cell_type": "markdown",
   "source": "---",
   "id": "68872f447e5b05f7"
  }
 ],
 "metadata": {
  "kernelspec": {
   "display_name": "Python 3 (ipykernel)",
   "language": "python",
   "name": "python3"
  },
  "language_info": {
   "codemirror_mode": {
    "name": "ipython",
    "version": 3
   },
   "file_extension": ".py",
   "mimetype": "text/x-python",
   "name": "python",
   "nbconvert_exporter": "python",
   "pygments_lexer": "ipython3",
   "version": "3.12.11"
  }
 },
 "nbformat": 4,
 "nbformat_minor": 5
}

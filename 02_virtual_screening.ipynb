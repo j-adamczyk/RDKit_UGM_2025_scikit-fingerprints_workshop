{
 "cells": [
  {
   "cell_type": "markdown",
   "id": "65e1b9bc-0458-4545-a504-cdb9e99919ac",
   "metadata": {
    "collapsed": true,
    "jupyter": {
     "outputs_hidden": true
    }
   },
   "source": [
    "# Virtual screening"
   ]
  },
  {
   "cell_type": "markdown",
   "id": "41c4c827-7387-4077-b924-1efc467addf4",
   "metadata": {},
   "source": [
    "Ligand-based virtual screening (LBVS) involves predicting bioactivity of large collections of compounds. It involves multiple steps, which are quite easy to perform with scikit-fingerprints.\n",
    "\n",
    "---\n",
    "\n",
    "## Notebook setup\n",
    "\n",
    "Import and load BACE dataset from moleculenet as shown in notebook 1."
   ]
  },
  {
   "metadata": {
    "ExecuteTime": {
     "end_time": "2025-08-27T13:35:59.152378Z",
     "start_time": "2025-08-27T13:35:58.799988Z"
    }
   },
   "cell_type": "code",
   "source": [
    "import pandas as pd\n",
    "import numpy as np\n",
    "\n",
    "# load malaria dataset\n",
    "df = pd.read_parquet(\"data/malaria_hts_train.parquet\")\n",
    "\n",
    "# Remove ambiguous labels\n",
    "df = df[df[\"label\"] != \"ambiguous\"]\n",
    "\n",
    "# map labels to binary\n",
    "df[\"label\"] = df[\"label\"].map({\"false\": 0, \"true\": 1})\n",
    "\n",
    "# Extract data into smiles and labels\n",
    "smiles_list = df[\"SMILES\"].values\n",
    "labels = df[\"label\"].values\n",
    "\n",
    "# subsample\n",
    "pos_idx = np.where(labels == 1)[0]\n",
    "neg_idx = np.random.choice(np.where(labels == 0)[0], size=100_000, replace=False)\n",
    "idx = np.concatenate([pos_idx, neg_idx])\n",
    "smiles_list = smiles_list[idx].tolist()\n",
    "labels = labels[idx]\n",
    "\n",
    "len(smiles_list), labels.shape"
   ],
   "id": "4d5ad9214c50edb4",
   "outputs": [
    {
     "data": {
      "text/plain": [
       "(101528, (101528,))"
      ]
     },
     "execution_count": 1,
     "metadata": {},
     "output_type": "execute_result"
    }
   ],
   "execution_count": 1
  },
  {
   "metadata": {
    "ExecuteTime": {
     "end_time": "2025-08-27T13:35:59.166100Z",
     "start_time": "2025-08-27T13:35:59.162376Z"
    }
   },
   "cell_type": "code",
   "source": "smiles_list[:10]",
   "id": "cd95c8ce9f56cda8",
   "outputs": [
    {
     "data": {
      "text/plain": [
       "['CC(C)CN(CC(C)C)S(=O)(=O)c1ccc(cc1)C(=O)Nc2nc(cs2)c3ccccn3',\n",
       " 'Clc1cccc(NC(=O)CSc2nc(ns2)c3ccccc3Cl)c1',\n",
       " 'COc1ccc(NC(=O)CSc2nc(ns2)c3ccccc3Cl)c(OC)c1',\n",
       " 'COc1ccc(OC)c(NC(=O)CSc2nc(ns2)c3ccccc3Cl)c1',\n",
       " 'COc1ccc(Cl)cc1NC(=O)CSc2nc(ns2)c3ccccc3Cl',\n",
       " 'Brc1ccc(NC2=C(C(=O)c3ccccc3C2=O)n4nnc5ccccc45)cc1',\n",
       " 'CCOC(=O)C1=C(C)N=C2S\\\\C(=C\\\\c3ccccc3O)\\\\C(=O)N2C1c4ccccc4',\n",
       " 'CCOC(=O)c1ccc(NC2=C(C(=O)c3ccccc3C2=O)n4nnc5ccccc45)cc1',\n",
       " 'CC(=O)c1ccc(NC2=C(C(=O)c3ccccc3C2=O)n4nnc5ccccc45)cc1',\n",
       " 'OC(=O)c1cccc(NC2=C(C(=O)c3ccccc3C2=O)n4nnc5ccccc45)c1']"
      ]
     },
     "execution_count": 2,
     "metadata": {},
     "output_type": "execute_result"
    }
   ],
   "execution_count": 2
  },
  {
   "metadata": {},
   "cell_type": "markdown",
   "source": [
    "This dataset contains invalid molecules. Let us use `MolFromSmilesTransformer` and remove invalid molecules by setting `valid_only` parameter to `True`.\n",
    "\n",
    "Notice that if we remove invalid molecules, the label array will be longer than list of molecules. We need to modify them both using `.transform_x_y()` method."
   ],
   "id": "d97a9613ee1c3512"
  },
  {
   "metadata": {
    "ExecuteTime": {
     "end_time": "2025-08-27T13:36:04.449753Z",
     "start_time": "2025-08-27T13:35:59.249863Z"
    }
   },
   "cell_type": "code",
   "source": [
    "from skfp.preprocessing import MolFromSmilesTransformer\n",
    "\n",
    "# Create MolFromSmilesTransformer\n",
    "mol_from_smiles = MolFromSmilesTransformer(valid_only=True, n_jobs=-1, batch_size=1000, verbose=True)\n",
    "\n",
    "# Run the dataset transformation\n",
    "molecules, labels = mol_from_smiles.transform_x_y(smiles_list, labels)\n",
    "\n",
    "print(f\"Removed molecules: {len(smiles_list) - len(molecules)}\")"
   ],
   "id": "141063ec9a917a38",
   "outputs": [
    {
     "data": {
      "text/plain": [
       "  0%|          | 0/101 [00:00<?, ?it/s]"
      ],
      "application/vnd.jupyter.widget-view+json": {
       "version_major": 2,
       "version_minor": 0,
       "model_id": "6882a86d6253435aa363f0e068ed8291"
      }
     },
     "metadata": {},
     "output_type": "display_data"
    },
    {
     "name": "stdout",
     "output_type": "stream",
     "text": [
      "Removed molecules: 0\n"
     ]
    }
   ],
   "execution_count": 3
  },
  {
   "metadata": {},
   "cell_type": "markdown",
   "source": "---",
   "id": "f6412b32ab574aa"
  },
  {
   "metadata": {},
   "cell_type": "markdown",
   "source": "## Molecular filters",
   "id": "e54c4ab57716edb6"
  },
  {
   "cell_type": "markdown",
   "id": "9b7f68a9-8cfd-4069-bb87-f6f865b454ba",
   "metadata": {},
   "source": "TODO quick word about molecular filters, what they are for and why we want to use them."
  },
  {
   "metadata": {},
   "cell_type": "markdown",
   "source": [
    "### Physicochemical filters\n",
    "\n",
    "Todo quick word"
   ],
   "id": "ecc2def41cd5277d"
  },
  {
   "metadata": {},
   "cell_type": "markdown",
   "source": "Example with skfp",
   "id": "4782dcd2183d7ae0"
  },
  {
   "metadata": {
    "ExecuteTime": {
     "end_time": "2025-08-27T13:36:27.261391Z",
     "start_time": "2025-08-27T13:36:04.469133Z"
    }
   },
   "cell_type": "code",
   "source": [
    "from tqdm import tqdm\n",
    "from rdkit.Chem.Crippen import MolLogP\n",
    "from rdkit.Chem.rdMolDescriptors import CalcNumLipinskiHBA, CalcNumLipinskiHBD\n",
    "from rdkit.Chem.Descriptors import MolWt\n",
    "\n",
    "# Initialize lists for filtered molecules and labels\n",
    "molecules_filtered = []\n",
    "labels_filtered = []\n",
    "\n",
    "# iterate over molecules\n",
    "for i, mol in tqdm(enumerate(molecules), total=len(molecules)):\n",
    "\n",
    "    # check for Lipinski's Rule of 5 conditions\n",
    "    rules = [\n",
    "        MolWt(mol) <= 500,  # molecular weight\n",
    "        CalcNumLipinskiHBA(mol) <= 10,  # HBA\n",
    "        CalcNumLipinskiHBD(mol) <= 5,  # HBD\n",
    "        MolLogP(mol) <= 5,  # logP\n",
    "    ]\n",
    "\n",
    "    # Append data and label to the end of the output list\n",
    "    if all(rules):\n",
    "        molecules_filtered.append(mol)\n",
    "        labels_filtered.append(labels[i])\n"
   ],
   "id": "dbd4d50f2c9f7b51",
   "outputs": [
    {
     "name": "stderr",
     "output_type": "stream",
     "text": [
      "100%|██████████| 101528/101528 [00:22<00:00, 4460.80it/s]\n"
     ]
    }
   ],
   "execution_count": 4
  },
  {
   "metadata": {},
   "cell_type": "markdown",
   "source": [
    "Instead of filtering the molecules like that we can use scikit-learn compatible interface provided by scikit fingerprints.\n",
    "\n",
    "Initialize `LipinskiFilter` and perform `.transform_x_y` transformation on molecules and labels"
   ],
   "id": "a62c32c36a29a776"
  },
  {
   "metadata": {
    "ExecuteTime": {
     "end_time": "2025-08-27T13:36:31.453496Z",
     "start_time": "2025-08-27T13:36:27.270390Z"
    }
   },
   "cell_type": "code",
   "source": [
    "from skfp.filters import LipinskiFilter\n",
    "\n",
    "filter = LipinskiFilter(n_jobs=-1, verbose=True)\n",
    "molecules_filtered, labels_filtered = filter.transform_x_y(molecules, labels)"
   ],
   "id": "63ff9ae71bcc16a3",
   "outputs": [
    {
     "name": "stderr",
     "output_type": "stream",
     "text": [
      "<frozen importlib._bootstrap>:241: RuntimeWarning: to-Python converter for class boost::shared_ptr<class RDKit::FilterHierarchyMatcher> already registered; second conversion method ignored.\n",
      "<frozen importlib._bootstrap>:241: RuntimeWarning: to-Python converter for class boost::shared_ptr<class RDKit::FilterCatalogEntry> already registered; second conversion method ignored.\n"
     ]
    },
    {
     "data": {
      "text/plain": [
       "  0%|          | 0/24 [00:00<?, ?it/s]"
      ],
      "application/vnd.jupyter.widget-view+json": {
       "version_major": 2,
       "version_minor": 0,
       "model_id": "1f3fd9f27bed477280017ede5c2bc154"
      }
     },
     "metadata": {},
     "output_type": "display_data"
    }
   ],
   "execution_count": 5
  },
  {
   "metadata": {},
   "cell_type": "markdown",
   "source": "If we don't have labels we can still filter the molecules only.",
   "id": "14a75029bc44b2c2"
  },
  {
   "metadata": {
    "ExecuteTime": {
     "end_time": "2025-08-27T13:36:35.479076Z",
     "start_time": "2025-08-27T13:36:31.460027Z"
    }
   },
   "cell_type": "code",
   "source": "molecules_filtered = filter.transform(molecules)",
   "id": "dd3cd67a7aebee00",
   "outputs": [
    {
     "data": {
      "text/plain": [
       "  0%|          | 0/24 [00:00<?, ?it/s]"
      ],
      "application/vnd.jupyter.widget-view+json": {
       "version_major": 2,
       "version_minor": 0,
       "model_id": "68fb059c16a54463b9b7c6a58847accb"
      }
     },
     "metadata": {},
     "output_type": "display_data"
    }
   ],
   "execution_count": 6
  },
  {
   "metadata": {},
   "cell_type": "markdown",
   "source": "Display the how the number of molecules changes",
   "id": "4cad93d08e7e0a1c"
  },
  {
   "metadata": {
    "ExecuteTime": {
     "end_time": "2025-08-27T13:36:35.491866Z",
     "start_time": "2025-08-27T13:36:35.488864Z"
    }
   },
   "cell_type": "code",
   "source": [
    "print(f\"Original size     : {len(molecules)}\")\n",
    "print(f\"Filtered size     : {len(molecules_filtered)}\")\n",
    "print(f\"Removed molecules : {len(molecules) - len(molecules_filtered)}\")"
   ],
   "id": "306270bc10edf227",
   "outputs": [
    {
     "name": "stdout",
     "output_type": "stream",
     "text": [
      "Original size     : 101528\n",
      "Filtered size     : 100923\n",
      "Removed molecules : 605\n"
     ]
    }
   ],
   "execution_count": 7
  },
  {
   "metadata": {},
   "cell_type": "markdown",
   "source": [
    "### Substructural filters\n",
    "\n",
    "TODO quick word"
   ],
   "id": "6803bb78e46281c4"
  },
  {
   "metadata": {
    "ExecuteTime": {
     "end_time": "2025-08-27T13:36:35.508422Z",
     "start_time": "2025-08-27T13:36:35.504902Z"
    }
   },
   "cell_type": "code",
   "source": [
    "# Create new names to avoid overriding `molecules` and `labels`\n",
    "mols, y = molecules, labels"
   ],
   "id": "fe1e34daaad43426",
   "outputs": [],
   "execution_count": 8
  },
  {
   "metadata": {
    "ExecuteTime": {
     "end_time": "2025-08-27T13:37:00.946235Z",
     "start_time": "2025-08-27T13:36:35.535933Z"
    }
   },
   "cell_type": "code",
   "source": [
    "from skfp.filters import PAINSFilter\n",
    "\n",
    "# Create a list of pains filters\n",
    "verbosity_args = dict(batch_size=1000, n_jobs=-1, verbose=True)\n",
    "pains_filters = [\n",
    "    PAINSFilter(variant=\"A\", **verbosity_args),\n",
    "    PAINSFilter(variant=\"B\", **verbosity_args),\n",
    "    PAINSFilter(variant=\"C\", **verbosity_args)\n",
    "]\n",
    "\n",
    "print(f\"Molecules before filtering: {len(mols)}\")\n",
    "\n",
    "# Iterate over filters and perform filtering\n",
    "for i, filter in enumerate(pains_filters):\n",
    "    mols, y = filter.transform_x_y(mols, y)\n",
    "    print(f\"Molecules after PAINS {i}: {len(mols)}\")\n",
    "\n",
    "n_active = y.sum()\n",
    "n_inactive = len(y) - n_active\n",
    "print(f\"Final inactive molecules: {n_inactive}\")\n",
    "print(f\"Final active molecules: {n_active}\")"
   ],
   "id": "f10844ef7fa56595",
   "outputs": [
    {
     "name": "stdout",
     "output_type": "stream",
     "text": [
      "Molecules before filtering: 101528\n"
     ]
    },
    {
     "data": {
      "text/plain": [
       "  0%|          | 0/101 [00:00<?, ?it/s]"
      ],
      "application/vnd.jupyter.widget-view+json": {
       "version_major": 2,
       "version_minor": 0,
       "model_id": "2ef64810446849059a7e82887a42c006"
      }
     },
     "metadata": {},
     "output_type": "display_data"
    },
    {
     "name": "stdout",
     "output_type": "stream",
     "text": [
      "Molecules after PAINS 0: 96477\n"
     ]
    },
    {
     "data": {
      "text/plain": [
       "  0%|          | 0/96 [00:00<?, ?it/s]"
      ],
      "application/vnd.jupyter.widget-view+json": {
       "version_major": 2,
       "version_minor": 0,
       "model_id": "0584d4be01e84afcb93b21242b0ea3f9"
      }
     },
     "metadata": {},
     "output_type": "display_data"
    },
    {
     "name": "stdout",
     "output_type": "stream",
     "text": [
      "Molecules after PAINS 1: 94841\n"
     ]
    },
    {
     "data": {
      "text/plain": [
       "  0%|          | 0/94 [00:00<?, ?it/s]"
      ],
      "application/vnd.jupyter.widget-view+json": {
       "version_major": 2,
       "version_minor": 0,
       "model_id": "0367b84fb4034e48ba43581b545ad18c"
      }
     },
     "metadata": {},
     "output_type": "display_data"
    },
    {
     "name": "stdout",
     "output_type": "stream",
     "text": [
      "Molecules after PAINS 2: 94385\n",
      "Final inactive molecules: 93170\n",
      "Final active molecules: 1215\n"
     ]
    }
   ],
   "execution_count": 9
  },
  {
   "metadata": {},
   "cell_type": "markdown",
   "source": "---",
   "id": "f8930341294665e7"
  },
  {
   "cell_type": "markdown",
   "id": "50a22cd1-253b-449f-85f4-137a9c9d6b55",
   "metadata": {},
   "source": [
    "## Data splits\n",
    "\n",
    "Quick word if someone isn't familiar"
   ]
  },
  {
   "cell_type": "code",
   "id": "5962af78-76b9-448a-be79-f1d9b47eaff2",
   "metadata": {
    "ExecuteTime": {
     "end_time": "2025-08-27T13:37:00.963587Z",
     "start_time": "2025-08-27T13:37:00.960233Z"
    }
   },
   "source": [
    "\"\"\"TODO here:\n",
    "    - Show scaffold split without skfp\n",
    "    - Remind that we can use load_X_splits\n",
    "    - Show manual split computation with skfp\n",
    "\"\"\""
   ],
   "outputs": [
    {
     "data": {
      "text/plain": [
       "'TODO here:\\n    - Show scaffold split without skfp\\n    - Remind that we can use load_X_splits\\n    - Show manual split computation with skfp\\n'"
      ]
     },
     "execution_count": 10,
     "metadata": {},
     "output_type": "execute_result"
    }
   ],
   "execution_count": 10
  },
  {
   "metadata": {},
   "cell_type": "markdown",
   "source": "---",
   "id": "114997cc7cc6c948"
  },
  {
   "cell_type": "markdown",
   "id": "7e52e746-75f0-479d-9cc6-b741fabf8cf2",
   "metadata": {},
   "source": [
    "## Similarity searching & evaluation metrics\n",
    "\n"
   ]
  },
  {
   "metadata": {},
   "cell_type": "markdown",
   "source": [
    "### Similarity search\n",
    "\n",
    "quick word"
   ],
   "id": "101bdd7eb9ddd9bc"
  },
  {
   "metadata": {
    "ExecuteTime": {
     "end_time": "2025-08-27T13:37:00.990586Z",
     "start_time": "2025-08-27T13:37:00.986586Z"
    }
   },
   "cell_type": "code",
   "source": [
    "\"\"\"TODO here:\n",
    "    - Similarity search without skfp\n",
    "    - Similarity search - find similar molecules\n",
    "    - KNN and compatibility\n",
    "    - Bulk similarity computation\n",
    "    - Times\n",
    "\"\"\""
   ],
   "id": "8ebc434b8d4ec6b8",
   "outputs": [
    {
     "data": {
      "text/plain": [
       "'TODO here:\\n    - Similarity search without skfp\\n    - Similarity search - find similar molecules\\n    - KNN and compatibility\\n    - Bulk similarity computation\\n    - Times\\n'"
      ]
     },
     "execution_count": 11,
     "metadata": {},
     "output_type": "execute_result"
    }
   ],
   "execution_count": 11
  },
  {
   "metadata": {},
   "cell_type": "markdown",
   "source": "### Evaluation metrics",
   "id": "48f233c1094badc0"
  },
  {
   "metadata": {
    "ExecuteTime": {
     "end_time": "2025-08-27T13:37:01.003233Z",
     "start_time": "2025-08-27T13:37:01.000712Z"
    }
   },
   "cell_type": "code",
   "source": [
    "\"\"\"TODO here:\n",
    "    - Show example metric. like auroc\n",
    "    - Show multioutput\n",
    "    - Make scorer for grid search using our metric. Like mcc\n",
    "\"\"\""
   ],
   "id": "af0fd3a3800f3b14",
   "outputs": [
    {
     "data": {
      "text/plain": [
       "'TODO here:\\n    - Show example metric. like auroc\\n    - Show multioutput\\n    - Make scorer for grid search using our metric. Like mcc\\n'"
      ]
     },
     "execution_count": 12,
     "metadata": {},
     "output_type": "execute_result"
    }
   ],
   "execution_count": 12
  },
  {
   "metadata": {},
   "cell_type": "markdown",
   "source": "---",
   "id": "68872f447e5b05f7"
  }
 ],
 "metadata": {
  "kernelspec": {
   "display_name": "Python 3 (ipykernel)",
   "language": "python",
   "name": "python3"
  },
  "language_info": {
   "codemirror_mode": {
    "name": "ipython",
    "version": 3
   },
   "file_extension": ".py",
   "mimetype": "text/x-python",
   "name": "python",
   "nbconvert_exporter": "python",
   "pygments_lexer": "ipython3",
   "version": "3.12.11"
  }
 },
 "nbformat": 4,
 "nbformat_minor": 5
}
